{
  "nbformat": 4,
  "nbformat_minor": 0,
  "metadata": {
    "colab": {
      "provenance": [],
      "include_colab_link": true
    },
    "kernelspec": {
      "name": "ir",
      "display_name": "R"
    },
    "language_info": {
      "name": "R"
    }
  },
  "cells": [
    {
      "cell_type": "markdown",
      "metadata": {
        "id": "view-in-github",
        "colab_type": "text"
      },
      "source": [
        "<a href=\"https://colab.research.google.com/github/secun/Promo2_Business_Analytics/blob/main/1_Script_Modulo_1_SOLUCIONES.ipynb\" target=\"_parent\"><img src=\"https://colab.research.google.com/assets/colab-badge.svg\" alt=\"Open In Colab\"/></a>"
      ]
    },
    {
      "cell_type": "markdown",
      "source": [
        "## **Módulo 1 - Introducción**"
      ],
      "metadata": {
        "id": "YpSA7rvG6zum"
      }
    },
    {
      "cell_type": "markdown",
      "source": [
        "# Ejercicio 1\n",
        " Crea un objeto llamado vector3 que contenga los 5 primeros números naturales\n",
        " Después crea un objeto llamado VECTOR3 que contenga los números del 1 al 3\n",
        " Visualiza ambos objetos ¿Por qué son distintos si se llaman igual?"
      ],
      "metadata": {
        "id": "a98cZKnySbBB"
      }
    },
    {
      "cell_type": "markdown",
      "source": [
        "este trozo me hace no se qué\n"
      ],
      "metadata": {
        "id": "iWqfgguBFhuq"
      }
    },
    {
      "cell_type": "code",
      "source": [
        "vector3 <- c(1,2,3,4,5)\n",
        "VECTOR3 <- c(1,2,3)\n",
        "\n",
        "vector3\n",
        "\n",
        "VECTOR3"
      ],
      "metadata": {
        "colab": {
          "base_uri": "https://localhost:8080/",
          "height": 52
        },
        "id": "96Y018LNRPKE",
        "outputId": "8d774c3e-d68a-4371-b467-fd5d4a77d7ac"
      },
      "execution_count": null,
      "outputs": [
        {
          "output_type": "display_data",
          "data": {
            "text/html": [
              "<style>\n",
              ".list-inline {list-style: none; margin:0; padding: 0}\n",
              ".list-inline>li {display: inline-block}\n",
              ".list-inline>li:not(:last-child)::after {content: \"\\00b7\"; padding: 0 .5ex}\n",
              "</style>\n",
              "<ol class=list-inline><li>1</li><li>2</li><li>3</li><li>4</li><li>5</li></ol>\n"
            ],
            "text/markdown": "1. 1\n2. 2\n3. 3\n4. 4\n5. 5\n\n\n",
            "text/latex": "\\begin{enumerate*}\n\\item 1\n\\item 2\n\\item 3\n\\item 4\n\\item 5\n\\end{enumerate*}\n",
            "text/plain": [
              "[1] 1 2 3 4 5"
            ]
          },
          "metadata": {}
        },
        {
          "output_type": "display_data",
          "data": {
            "text/html": [
              "<style>\n",
              ".list-inline {list-style: none; margin:0; padding: 0}\n",
              ".list-inline>li {display: inline-block}\n",
              ".list-inline>li:not(:last-child)::after {content: \"\\00b7\"; padding: 0 .5ex}\n",
              "</style>\n",
              "<ol class=list-inline><li>1</li><li>2</li><li>3</li></ol>\n"
            ],
            "text/markdown": "1. 1\n2. 2\n3. 3\n\n\n",
            "text/latex": "\\begin{enumerate*}\n\\item 1\n\\item 2\n\\item 3\n\\end{enumerate*}\n",
            "text/plain": [
              "[1] 1 2 3"
            ]
          },
          "metadata": {}
        }
      ]
    },
    {
      "cell_type": "markdown",
      "source": [
        "# Ejercicio 2\n",
        " Crea un objeto llamado vector8 que sea una secuencia del 1 al 2 con paso 0.2 seguido de\n",
        " 7 ceros y seguido de la secuencia 7 8 9 repetida 3 veces"
      ],
      "metadata": {
        "id": "T3_ZGDN3SiPr"
      }
    },
    {
      "cell_type": "code",
      "source": [
        "vector8<-c(seq(from=1,to=2,by=0.2),rep(0,7),rep(7:9,3))\n",
        "vector8\n"
      ],
      "metadata": {
        "colab": {
          "base_uri": "https://localhost:8080/",
          "height": 34
        },
        "id": "W6Fl0rw5Si3C",
        "outputId": "5143d28d-b8bb-42ab-c9f1-97447c16e568"
      },
      "execution_count": null,
      "outputs": [
        {
          "output_type": "display_data",
          "data": {
            "text/html": [
              "<style>\n",
              ".list-inline {list-style: none; margin:0; padding: 0}\n",
              ".list-inline>li {display: inline-block}\n",
              ".list-inline>li:not(:last-child)::after {content: \"\\00b7\"; padding: 0 .5ex}\n",
              "</style>\n",
              "<ol class=list-inline><li>1</li><li>1.2</li><li>1.4</li><li>1.6</li><li>1.8</li><li>2</li><li>0</li><li>0</li><li>0</li><li>0</li><li>0</li><li>0</li><li>0</li><li>7</li><li>8</li><li>9</li><li>7</li><li>8</li><li>9</li><li>7</li><li>8</li><li>9</li></ol>\n"
            ],
            "text/markdown": "1. 1\n2. 1.2\n3. 1.4\n4. 1.6\n5. 1.8\n6. 2\n7. 0\n8. 0\n9. 0\n10. 0\n11. 0\n12. 0\n13. 0\n14. 7\n15. 8\n16. 9\n17. 7\n18. 8\n19. 9\n20. 7\n21. 8\n22. 9\n\n\n",
            "text/latex": "\\begin{enumerate*}\n\\item 1\n\\item 1.2\n\\item 1.4\n\\item 1.6\n\\item 1.8\n\\item 2\n\\item 0\n\\item 0\n\\item 0\n\\item 0\n\\item 0\n\\item 0\n\\item 0\n\\item 7\n\\item 8\n\\item 9\n\\item 7\n\\item 8\n\\item 9\n\\item 7\n\\item 8\n\\item 9\n\\end{enumerate*}\n",
            "text/plain": [
              " [1] 1.0 1.2 1.4 1.6 1.8 2.0 0.0 0.0 0.0 0.0 0.0 0.0 0.0 7.0 8.0 9.0 7.0 8.0 9.0\n",
              "[20] 7.0 8.0 9.0"
            ]
          },
          "metadata": {}
        }
      ]
    },
    {
      "cell_type": "markdown",
      "source": [
        "# Ejercicio 3\n",
        " Determinar si el número pi elevado a 30 es mayor que 7 elevado a 12"
      ],
      "metadata": {
        "id": "um4XJvElSprB"
      }
    },
    {
      "cell_type": "code",
      "source": [
        "(pi^30) > (7^12)"
      ],
      "metadata": {
        "colab": {
          "base_uri": "https://localhost:8080/",
          "height": 34
        },
        "id": "CT5uW83bSqAo",
        "outputId": "cae29799-6fec-4f59-9e7a-c19e5689aa82"
      },
      "execution_count": null,
      "outputs": [
        {
          "output_type": "display_data",
          "data": {
            "text/html": [
              "TRUE"
            ],
            "text/markdown": "TRUE",
            "text/latex": "TRUE",
            "text/plain": [
              "[1] TRUE"
            ]
          },
          "metadata": {}
        }
      ]
    },
    {
      "cell_type": "markdown",
      "source": [
        "# Ejercicio 4\n",
        " Ejecuta las siguientes instrucciones\n",
        " Aun no hemos estudiado para qué sirve: no importa. Lo veremos más adelante\n",
        " Solo queremos cargar unos datos que se llaman \"iris\""
      ],
      "metadata": {
        "id": "0BpCdmq5To_w"
      }
    },
    {
      "cell_type": "code",
      "source": [
        "install.packages(\"datasets\")\n",
        "library(datasets)\n",
        "data(iris) #cargamos el dataframe que se llama \"iris\"\n",
        "# Ahora ya tenemos un dataframe llamado iris con información sobre plantas\n"
      ],
      "metadata": {
        "colab": {
          "base_uri": "https://localhost:8080/"
        },
        "id": "qM4hvLLGT1Wy",
        "outputId": "862ed497-c874-4a78-da24-75f13f59e98c"
      },
      "execution_count": null,
      "outputs": [
        {
          "output_type": "stream",
          "name": "stderr",
          "text": [
            "Installing package into ‘/usr/local/lib/R/site-library’\n",
            "(as ‘lib’ is unspecified)\n",
            "\n",
            "Warning message:\n",
            "“package ‘datasets’ is a base package, and should not be updated”\n"
          ]
        }
      ]
    },
    {
      "cell_type": "markdown",
      "source": [
        "\n",
        " ¿Qué información contiene? Usamos la función summary()\n"
      ],
      "metadata": {
        "id": "KNJ4pdBTT8Xp"
      }
    },
    {
      "cell_type": "code",
      "source": [
        "summary(iris)\n"
      ],
      "metadata": {
        "colab": {
          "base_uri": "https://localhost:8080/",
          "height": 275
        },
        "id": "v4WFfgrST8DB",
        "outputId": "d9ea6d2a-1d05-4434-a2d5-4ef90a3a4701"
      },
      "execution_count": null,
      "outputs": [
        {
          "output_type": "display_data",
          "data": {
            "text/plain": [
              "  Sepal.Length    Sepal.Width     Petal.Length    Petal.Width   \n",
              " Min.   :4.300   Min.   :2.000   Min.   :1.000   Min.   :0.100  \n",
              " 1st Qu.:5.100   1st Qu.:2.800   1st Qu.:1.600   1st Qu.:0.300  \n",
              " Median :5.800   Median :3.000   Median :4.350   Median :1.300  \n",
              " Mean   :5.843   Mean   :3.057   Mean   :3.758   Mean   :1.199  \n",
              " 3rd Qu.:6.400   3rd Qu.:3.300   3rd Qu.:5.100   3rd Qu.:1.800  \n",
              " Max.   :7.900   Max.   :4.400   Max.   :6.900   Max.   :2.500  \n",
              "       Species  \n",
              " setosa    :50  \n",
              " versicolor:50  \n",
              " virginica :50  \n",
              "                \n",
              "                \n",
              "                "
            ]
          },
          "metadata": {}
        }
      ]
    },
    {
      "cell_type": "markdown",
      "source": [
        " ¿Cuál es el valor de Sepal.Length del individuo 100?\n"
      ],
      "metadata": {
        "id": "kpDbVlPoUFmX"
      }
    },
    {
      "cell_type": "code",
      "source": [
        "# Sepal.Length es la variable 1 (Columna 1). Por tanto:\n",
        "iris[100,1]"
      ],
      "metadata": {
        "id": "swFvgGpOUH9K",
        "outputId": "d303d67c-6adc-47c0-ca1a-25a11d60fe67",
        "colab": {
          "base_uri": "https://localhost:8080/",
          "height": 34
        }
      },
      "execution_count": null,
      "outputs": [
        {
          "output_type": "display_data",
          "data": {
            "text/html": [
              "5.7"
            ],
            "text/markdown": "5.7",
            "text/latex": "5.7",
            "text/plain": [
              "[1] 5.7"
            ]
          },
          "metadata": {}
        }
      ]
    },
    {
      "cell_type": "markdown",
      "source": [
        " ¿Cuál es el valor de Petal.Length del individuo 125?\n"
      ],
      "metadata": {
        "id": "89Kzci1EUJXo"
      }
    },
    {
      "cell_type": "code",
      "source": [
        "# Petal.Length es la variable 3 (Columna 3). Por tanto:\n",
        "iris[125,3]"
      ],
      "metadata": {
        "id": "BOLdZyIFULrj",
        "outputId": "69423902-7a83-47dd-8e06-991573b30ae0",
        "colab": {
          "base_uri": "https://localhost:8080/",
          "height": 34
        }
      },
      "execution_count": null,
      "outputs": [
        {
          "output_type": "display_data",
          "data": {
            "text/html": [
              "5.7"
            ],
            "text/markdown": "5.7",
            "text/latex": "5.7",
            "text/plain": [
              "[1] 5.7"
            ]
          },
          "metadata": {}
        }
      ]
    },
    {
      "cell_type": "markdown",
      "source": [
        "¿Cuál es el valor de Petal.Width del individuo 90?\n"
      ],
      "metadata": {
        "id": "PxozvhbpUNEp"
      }
    },
    {
      "cell_type": "code",
      "source": [
        "# Petal.Width es la variable 4 (Columna 4). Por tanto:\n",
        "iris[90,4]"
      ],
      "metadata": {
        "id": "toTS3dIPUO03",
        "outputId": "604ef9ad-c5f6-479b-c467-775b9c461102",
        "colab": {
          "base_uri": "https://localhost:8080/",
          "height": 34
        }
      },
      "execution_count": null,
      "outputs": [
        {
          "output_type": "display_data",
          "data": {
            "text/html": [
              "1.3"
            ],
            "text/markdown": "1.3",
            "text/latex": "1.3",
            "text/plain": [
              "[1] 1.3"
            ]
          },
          "metadata": {}
        }
      ]
    },
    {
      "cell_type": "markdown",
      "source": [
        " ¿A qué especie pertenece el individuo 75?\n"
      ],
      "metadata": {
        "id": "Il15vguJUQZA"
      }
    },
    {
      "cell_type": "code",
      "source": [
        "# Species es la variable 5 (Columna 5). Por tanto:\n",
        "iris[75,5]"
      ],
      "metadata": {
        "id": "81HNUDy8UQEI",
        "outputId": "0066fc3b-7094-429d-e554-6119db286dff",
        "colab": {
          "base_uri": "https://localhost:8080/",
          "height": 52
        }
      },
      "execution_count": null,
      "outputs": [
        {
          "output_type": "display_data",
          "data": {
            "text/html": [
              "versicolor\n",
              "<details>\n",
              "\t<summary style=display:list-item;cursor:pointer>\n",
              "\t\t<strong>Levels</strong>:\n",
              "\t</summary>\n",
              "\t<style>\n",
              "\t.list-inline {list-style: none; margin:0; padding: 0}\n",
              "\t.list-inline>li {display: inline-block}\n",
              "\t.list-inline>li:not(:last-child)::after {content: \"\\00b7\"; padding: 0 .5ex}\n",
              "\t</style>\n",
              "\t<ol class=list-inline><li>'setosa'</li><li>'versicolor'</li><li>'virginica'</li></ol>\n",
              "</details>"
            ],
            "text/markdown": "versicolor\n**Levels**: 1. 'setosa'\n2. 'versicolor'\n3. 'virginica'\n\n\n",
            "text/latex": "versicolor\n\\emph{Levels}: \\begin{enumerate*}\n\\item 'setosa'\n\\item 'versicolor'\n\\item 'virginica'\n\\end{enumerate*}\n",
            "text/plain": [
              "[1] versicolor\n",
              "Levels: setosa versicolor virginica"
            ]
          },
          "metadata": {}
        }
      ]
    },
    {
      "cell_type": "markdown",
      "source": [
        "¿Cuáles son los valores que toman las 5 variables en el individuo 18?\n"
      ],
      "metadata": {
        "id": "aidUcDcSUTLp"
      }
    },
    {
      "cell_type": "code",
      "source": [
        "iris[18, ]\n"
      ],
      "metadata": {
        "id": "zQLRXPqwUVFZ",
        "outputId": "a8cbb481-5c7e-416f-a76b-4237bdc1f780",
        "colab": {
          "base_uri": "https://localhost:8080/",
          "height": 129
        }
      },
      "execution_count": null,
      "outputs": [
        {
          "output_type": "display_data",
          "data": {
            "text/html": [
              "<table class=\"dataframe\">\n",
              "<caption>A data.frame: 1 × 5</caption>\n",
              "<thead>\n",
              "\t<tr><th></th><th scope=col>Sepal.Length</th><th scope=col>Sepal.Width</th><th scope=col>Petal.Length</th><th scope=col>Petal.Width</th><th scope=col>Species</th></tr>\n",
              "\t<tr><th></th><th scope=col>&lt;dbl&gt;</th><th scope=col>&lt;dbl&gt;</th><th scope=col>&lt;dbl&gt;</th><th scope=col>&lt;dbl&gt;</th><th scope=col>&lt;fct&gt;</th></tr>\n",
              "</thead>\n",
              "<tbody>\n",
              "\t<tr><th scope=row>18</th><td>5.1</td><td>3.5</td><td>1.4</td><td>0.3</td><td>setosa</td></tr>\n",
              "</tbody>\n",
              "</table>\n"
            ],
            "text/markdown": "\nA data.frame: 1 × 5\n\n| <!--/--> | Sepal.Length &lt;dbl&gt; | Sepal.Width &lt;dbl&gt; | Petal.Length &lt;dbl&gt; | Petal.Width &lt;dbl&gt; | Species &lt;fct&gt; |\n|---|---|---|---|---|---|\n| 18 | 5.1 | 3.5 | 1.4 | 0.3 | setosa |\n\n",
            "text/latex": "A data.frame: 1 × 5\n\\begin{tabular}{r|lllll}\n  & Sepal.Length & Sepal.Width & Petal.Length & Petal.Width & Species\\\\\n  & <dbl> & <dbl> & <dbl> & <dbl> & <fct>\\\\\n\\hline\n\t18 & 5.1 & 3.5 & 1.4 & 0.3 & setosa\\\\\n\\end{tabular}\n",
            "text/plain": [
              "   Sepal.Length Sepal.Width Petal.Length Petal.Width Species\n",
              "18 5.1          3.5         1.4          0.3         setosa "
            ]
          },
          "metadata": {}
        }
      ]
    },
    {
      "cell_type": "markdown",
      "source": [
        " ¿Cuáles son los valores que toma la variable \"Species\" en todos los individuos?\n"
      ],
      "metadata": {
        "id": "NOTSUqq2UX8P"
      }
    },
    {
      "cell_type": "code",
      "source": [
        "# Species es la variable 5 (Columna 5). Por tanto:\n",
        "iris[ ,5]\n",
        "\n",
        "# o también (Comprobad que sale lo mismo):\n",
        "iris$Species\n",
        "\n",
        "# o para que solo aparezcan las categorías\n",
        "unique(iris$Species)"
      ],
      "metadata": {
        "colab": {
          "base_uri": "https://localhost:8080/",
          "height": 468
        },
        "id": "nFgDydsrUWgg",
        "outputId": "baab4512-0cc9-4864-ad19-5443dfeb4e8d"
      },
      "execution_count": null,
      "outputs": [
        {
          "output_type": "display_data",
          "data": {
            "text/html": [
              "<style>\n",
              ".list-inline {list-style: none; margin:0; padding: 0}\n",
              ".list-inline>li {display: inline-block}\n",
              ".list-inline>li:not(:last-child)::after {content: \"\\00b7\"; padding: 0 .5ex}\n",
              "</style>\n",
              "<ol class=list-inline><li>setosa</li><li>setosa</li><li>setosa</li><li>setosa</li><li>setosa</li><li>setosa</li><li>setosa</li><li>setosa</li><li>setosa</li><li>setosa</li><li>setosa</li><li>setosa</li><li>setosa</li><li>setosa</li><li>setosa</li><li>setosa</li><li>setosa</li><li>setosa</li><li>setosa</li><li>setosa</li><li>setosa</li><li>setosa</li><li>setosa</li><li>setosa</li><li>setosa</li><li>setosa</li><li>setosa</li><li>setosa</li><li>setosa</li><li>setosa</li><li>setosa</li><li>setosa</li><li>setosa</li><li>setosa</li><li>setosa</li><li>setosa</li><li>setosa</li><li>setosa</li><li>setosa</li><li>setosa</li><li>setosa</li><li>setosa</li><li>setosa</li><li>setosa</li><li>setosa</li><li>setosa</li><li>setosa</li><li>setosa</li><li>setosa</li><li>setosa</li><li>versicolor</li><li>versicolor</li><li>versicolor</li><li>versicolor</li><li>versicolor</li><li>versicolor</li><li>versicolor</li><li>versicolor</li><li>versicolor</li><li>versicolor</li><li>versicolor</li><li>versicolor</li><li>versicolor</li><li>versicolor</li><li>versicolor</li><li>versicolor</li><li>versicolor</li><li>versicolor</li><li>versicolor</li><li>versicolor</li><li>versicolor</li><li>versicolor</li><li>versicolor</li><li>versicolor</li><li>versicolor</li><li>versicolor</li><li>versicolor</li><li>versicolor</li><li>versicolor</li><li>versicolor</li><li>versicolor</li><li>versicolor</li><li>versicolor</li><li>versicolor</li><li>versicolor</li><li>versicolor</li><li>versicolor</li><li>versicolor</li><li>versicolor</li><li>versicolor</li><li>versicolor</li><li>versicolor</li><li>versicolor</li><li>versicolor</li><li>versicolor</li><li>versicolor</li><li>versicolor</li><li>versicolor</li><li>versicolor</li><li>versicolor</li><li>virginica</li><li>virginica</li><li>virginica</li><li>virginica</li><li>virginica</li><li>virginica</li><li>virginica</li><li>virginica</li><li>virginica</li><li>virginica</li><li>virginica</li><li>virginica</li><li>virginica</li><li>virginica</li><li>virginica</li><li>virginica</li><li>virginica</li><li>virginica</li><li>virginica</li><li>virginica</li><li>virginica</li><li>virginica</li><li>virginica</li><li>virginica</li><li>virginica</li><li>virginica</li><li>virginica</li><li>virginica</li><li>virginica</li><li>virginica</li><li>virginica</li><li>virginica</li><li>virginica</li><li>virginica</li><li>virginica</li><li>virginica</li><li>virginica</li><li>virginica</li><li>virginica</li><li>virginica</li><li>virginica</li><li>virginica</li><li>virginica</li><li>virginica</li><li>virginica</li><li>virginica</li><li>virginica</li><li>virginica</li><li>virginica</li><li>virginica</li></ol>\n",
              "\n",
              "<details>\n",
              "\t<summary style=display:list-item;cursor:pointer>\n",
              "\t\t<strong>Levels</strong>:\n",
              "\t</summary>\n",
              "\t<style>\n",
              "\t.list-inline {list-style: none; margin:0; padding: 0}\n",
              "\t.list-inline>li {display: inline-block}\n",
              "\t.list-inline>li:not(:last-child)::after {content: \"\\00b7\"; padding: 0 .5ex}\n",
              "\t</style>\n",
              "\t<ol class=list-inline><li>'setosa'</li><li>'versicolor'</li><li>'virginica'</li></ol>\n",
              "</details>"
            ],
            "text/markdown": "1. setosa\n2. setosa\n3. setosa\n4. setosa\n5. setosa\n6. setosa\n7. setosa\n8. setosa\n9. setosa\n10. setosa\n11. setosa\n12. setosa\n13. setosa\n14. setosa\n15. setosa\n16. setosa\n17. setosa\n18. setosa\n19. setosa\n20. setosa\n21. setosa\n22. setosa\n23. setosa\n24. setosa\n25. setosa\n26. setosa\n27. setosa\n28. setosa\n29. setosa\n30. setosa\n31. setosa\n32. setosa\n33. setosa\n34. setosa\n35. setosa\n36. setosa\n37. setosa\n38. setosa\n39. setosa\n40. setosa\n41. setosa\n42. setosa\n43. setosa\n44. setosa\n45. setosa\n46. setosa\n47. setosa\n48. setosa\n49. setosa\n50. setosa\n51. versicolor\n52. versicolor\n53. versicolor\n54. versicolor\n55. versicolor\n56. versicolor\n57. versicolor\n58. versicolor\n59. versicolor\n60. versicolor\n61. versicolor\n62. versicolor\n63. versicolor\n64. versicolor\n65. versicolor\n66. versicolor\n67. versicolor\n68. versicolor\n69. versicolor\n70. versicolor\n71. versicolor\n72. versicolor\n73. versicolor\n74. versicolor\n75. versicolor\n76. versicolor\n77. versicolor\n78. versicolor\n79. versicolor\n80. versicolor\n81. versicolor\n82. versicolor\n83. versicolor\n84. versicolor\n85. versicolor\n86. versicolor\n87. versicolor\n88. versicolor\n89. versicolor\n90. versicolor\n91. versicolor\n92. versicolor\n93. versicolor\n94. versicolor\n95. versicolor\n96. versicolor\n97. versicolor\n98. versicolor\n99. versicolor\n100. versicolor\n101. virginica\n102. virginica\n103. virginica\n104. virginica\n105. virginica\n106. virginica\n107. virginica\n108. virginica\n109. virginica\n110. virginica\n111. virginica\n112. virginica\n113. virginica\n114. virginica\n115. virginica\n116. virginica\n117. virginica\n118. virginica\n119. virginica\n120. virginica\n121. virginica\n122. virginica\n123. virginica\n124. virginica\n125. virginica\n126. virginica\n127. virginica\n128. virginica\n129. virginica\n130. virginica\n131. virginica\n132. virginica\n133. virginica\n134. virginica\n135. virginica\n136. virginica\n137. virginica\n138. virginica\n139. virginica\n140. virginica\n141. virginica\n142. virginica\n143. virginica\n144. virginica\n145. virginica\n146. virginica\n147. virginica\n148. virginica\n149. virginica\n150. virginica\n\n\n\n**Levels**: 1. 'setosa'\n2. 'versicolor'\n3. 'virginica'\n\n\n",
            "text/latex": "\\begin{enumerate*}\n\\item setosa\n\\item setosa\n\\item setosa\n\\item setosa\n\\item setosa\n\\item setosa\n\\item setosa\n\\item setosa\n\\item setosa\n\\item setosa\n\\item setosa\n\\item setosa\n\\item setosa\n\\item setosa\n\\item setosa\n\\item setosa\n\\item setosa\n\\item setosa\n\\item setosa\n\\item setosa\n\\item setosa\n\\item setosa\n\\item setosa\n\\item setosa\n\\item setosa\n\\item setosa\n\\item setosa\n\\item setosa\n\\item setosa\n\\item setosa\n\\item setosa\n\\item setosa\n\\item setosa\n\\item setosa\n\\item setosa\n\\item setosa\n\\item setosa\n\\item setosa\n\\item setosa\n\\item setosa\n\\item setosa\n\\item setosa\n\\item setosa\n\\item setosa\n\\item setosa\n\\item setosa\n\\item setosa\n\\item setosa\n\\item setosa\n\\item setosa\n\\item versicolor\n\\item versicolor\n\\item versicolor\n\\item versicolor\n\\item versicolor\n\\item versicolor\n\\item versicolor\n\\item versicolor\n\\item versicolor\n\\item versicolor\n\\item versicolor\n\\item versicolor\n\\item versicolor\n\\item versicolor\n\\item versicolor\n\\item versicolor\n\\item versicolor\n\\item versicolor\n\\item versicolor\n\\item versicolor\n\\item versicolor\n\\item versicolor\n\\item versicolor\n\\item versicolor\n\\item versicolor\n\\item versicolor\n\\item versicolor\n\\item versicolor\n\\item versicolor\n\\item versicolor\n\\item versicolor\n\\item versicolor\n\\item versicolor\n\\item versicolor\n\\item versicolor\n\\item versicolor\n\\item versicolor\n\\item versicolor\n\\item versicolor\n\\item versicolor\n\\item versicolor\n\\item versicolor\n\\item versicolor\n\\item versicolor\n\\item versicolor\n\\item versicolor\n\\item versicolor\n\\item versicolor\n\\item versicolor\n\\item versicolor\n\\item virginica\n\\item virginica\n\\item virginica\n\\item virginica\n\\item virginica\n\\item virginica\n\\item virginica\n\\item virginica\n\\item virginica\n\\item virginica\n\\item virginica\n\\item virginica\n\\item virginica\n\\item virginica\n\\item virginica\n\\item virginica\n\\item virginica\n\\item virginica\n\\item virginica\n\\item virginica\n\\item virginica\n\\item virginica\n\\item virginica\n\\item virginica\n\\item virginica\n\\item virginica\n\\item virginica\n\\item virginica\n\\item virginica\n\\item virginica\n\\item virginica\n\\item virginica\n\\item virginica\n\\item virginica\n\\item virginica\n\\item virginica\n\\item virginica\n\\item virginica\n\\item virginica\n\\item virginica\n\\item virginica\n\\item virginica\n\\item virginica\n\\item virginica\n\\item virginica\n\\item virginica\n\\item virginica\n\\item virginica\n\\item virginica\n\\item virginica\n\\end{enumerate*}\n\n\\emph{Levels}: \\begin{enumerate*}\n\\item 'setosa'\n\\item 'versicolor'\n\\item 'virginica'\n\\end{enumerate*}\n",
            "text/plain": [
              "  [1] setosa     setosa     setosa     setosa     setosa     setosa    \n",
              "  [7] setosa     setosa     setosa     setosa     setosa     setosa    \n",
              " [13] setosa     setosa     setosa     setosa     setosa     setosa    \n",
              " [19] setosa     setosa     setosa     setosa     setosa     setosa    \n",
              " [25] setosa     setosa     setosa     setosa     setosa     setosa    \n",
              " [31] setosa     setosa     setosa     setosa     setosa     setosa    \n",
              " [37] setosa     setosa     setosa     setosa     setosa     setosa    \n",
              " [43] setosa     setosa     setosa     setosa     setosa     setosa    \n",
              " [49] setosa     setosa     versicolor versicolor versicolor versicolor\n",
              " [55] versicolor versicolor versicolor versicolor versicolor versicolor\n",
              " [61] versicolor versicolor versicolor versicolor versicolor versicolor\n",
              " [67] versicolor versicolor versicolor versicolor versicolor versicolor\n",
              " [73] versicolor versicolor versicolor versicolor versicolor versicolor\n",
              " [79] versicolor versicolor versicolor versicolor versicolor versicolor\n",
              " [85] versicolor versicolor versicolor versicolor versicolor versicolor\n",
              " [91] versicolor versicolor versicolor versicolor versicolor versicolor\n",
              " [97] versicolor versicolor versicolor versicolor virginica  virginica \n",
              "[103] virginica  virginica  virginica  virginica  virginica  virginica \n",
              "[109] virginica  virginica  virginica  virginica  virginica  virginica \n",
              "[115] virginica  virginica  virginica  virginica  virginica  virginica \n",
              "[121] virginica  virginica  virginica  virginica  virginica  virginica \n",
              "[127] virginica  virginica  virginica  virginica  virginica  virginica \n",
              "[133] virginica  virginica  virginica  virginica  virginica  virginica \n",
              "[139] virginica  virginica  virginica  virginica  virginica  virginica \n",
              "[145] virginica  virginica  virginica  virginica  virginica  virginica \n",
              "Levels: setosa versicolor virginica"
            ]
          },
          "metadata": {}
        },
        {
          "output_type": "display_data",
          "data": {
            "text/html": [
              "<style>\n",
              ".list-inline {list-style: none; margin:0; padding: 0}\n",
              ".list-inline>li {display: inline-block}\n",
              ".list-inline>li:not(:last-child)::after {content: \"\\00b7\"; padding: 0 .5ex}\n",
              "</style>\n",
              "<ol class=list-inline><li>setosa</li><li>setosa</li><li>setosa</li><li>setosa</li><li>setosa</li><li>setosa</li><li>setosa</li><li>setosa</li><li>setosa</li><li>setosa</li><li>setosa</li><li>setosa</li><li>setosa</li><li>setosa</li><li>setosa</li><li>setosa</li><li>setosa</li><li>setosa</li><li>setosa</li><li>setosa</li><li>setosa</li><li>setosa</li><li>setosa</li><li>setosa</li><li>setosa</li><li>setosa</li><li>setosa</li><li>setosa</li><li>setosa</li><li>setosa</li><li>setosa</li><li>setosa</li><li>setosa</li><li>setosa</li><li>setosa</li><li>setosa</li><li>setosa</li><li>setosa</li><li>setosa</li><li>setosa</li><li>setosa</li><li>setosa</li><li>setosa</li><li>setosa</li><li>setosa</li><li>setosa</li><li>setosa</li><li>setosa</li><li>setosa</li><li>setosa</li><li>versicolor</li><li>versicolor</li><li>versicolor</li><li>versicolor</li><li>versicolor</li><li>versicolor</li><li>versicolor</li><li>versicolor</li><li>versicolor</li><li>versicolor</li><li>versicolor</li><li>versicolor</li><li>versicolor</li><li>versicolor</li><li>versicolor</li><li>versicolor</li><li>versicolor</li><li>versicolor</li><li>versicolor</li><li>versicolor</li><li>versicolor</li><li>versicolor</li><li>versicolor</li><li>versicolor</li><li>versicolor</li><li>versicolor</li><li>versicolor</li><li>versicolor</li><li>versicolor</li><li>versicolor</li><li>versicolor</li><li>versicolor</li><li>versicolor</li><li>versicolor</li><li>versicolor</li><li>versicolor</li><li>versicolor</li><li>versicolor</li><li>versicolor</li><li>versicolor</li><li>versicolor</li><li>versicolor</li><li>versicolor</li><li>versicolor</li><li>versicolor</li><li>versicolor</li><li>versicolor</li><li>versicolor</li><li>versicolor</li><li>versicolor</li><li>virginica</li><li>virginica</li><li>virginica</li><li>virginica</li><li>virginica</li><li>virginica</li><li>virginica</li><li>virginica</li><li>virginica</li><li>virginica</li><li>virginica</li><li>virginica</li><li>virginica</li><li>virginica</li><li>virginica</li><li>virginica</li><li>virginica</li><li>virginica</li><li>virginica</li><li>virginica</li><li>virginica</li><li>virginica</li><li>virginica</li><li>virginica</li><li>virginica</li><li>virginica</li><li>virginica</li><li>virginica</li><li>virginica</li><li>virginica</li><li>virginica</li><li>virginica</li><li>virginica</li><li>virginica</li><li>virginica</li><li>virginica</li><li>virginica</li><li>virginica</li><li>virginica</li><li>virginica</li><li>virginica</li><li>virginica</li><li>virginica</li><li>virginica</li><li>virginica</li><li>virginica</li><li>virginica</li><li>virginica</li><li>virginica</li><li>virginica</li></ol>\n",
              "\n",
              "<details>\n",
              "\t<summary style=display:list-item;cursor:pointer>\n",
              "\t\t<strong>Levels</strong>:\n",
              "\t</summary>\n",
              "\t<style>\n",
              "\t.list-inline {list-style: none; margin:0; padding: 0}\n",
              "\t.list-inline>li {display: inline-block}\n",
              "\t.list-inline>li:not(:last-child)::after {content: \"\\00b7\"; padding: 0 .5ex}\n",
              "\t</style>\n",
              "\t<ol class=list-inline><li>'setosa'</li><li>'versicolor'</li><li>'virginica'</li></ol>\n",
              "</details>"
            ],
            "text/markdown": "1. setosa\n2. setosa\n3. setosa\n4. setosa\n5. setosa\n6. setosa\n7. setosa\n8. setosa\n9. setosa\n10. setosa\n11. setosa\n12. setosa\n13. setosa\n14. setosa\n15. setosa\n16. setosa\n17. setosa\n18. setosa\n19. setosa\n20. setosa\n21. setosa\n22. setosa\n23. setosa\n24. setosa\n25. setosa\n26. setosa\n27. setosa\n28. setosa\n29. setosa\n30. setosa\n31. setosa\n32. setosa\n33. setosa\n34. setosa\n35. setosa\n36. setosa\n37. setosa\n38. setosa\n39. setosa\n40. setosa\n41. setosa\n42. setosa\n43. setosa\n44. setosa\n45. setosa\n46. setosa\n47. setosa\n48. setosa\n49. setosa\n50. setosa\n51. versicolor\n52. versicolor\n53. versicolor\n54. versicolor\n55. versicolor\n56. versicolor\n57. versicolor\n58. versicolor\n59. versicolor\n60. versicolor\n61. versicolor\n62. versicolor\n63. versicolor\n64. versicolor\n65. versicolor\n66. versicolor\n67. versicolor\n68. versicolor\n69. versicolor\n70. versicolor\n71. versicolor\n72. versicolor\n73. versicolor\n74. versicolor\n75. versicolor\n76. versicolor\n77. versicolor\n78. versicolor\n79. versicolor\n80. versicolor\n81. versicolor\n82. versicolor\n83. versicolor\n84. versicolor\n85. versicolor\n86. versicolor\n87. versicolor\n88. versicolor\n89. versicolor\n90. versicolor\n91. versicolor\n92. versicolor\n93. versicolor\n94. versicolor\n95. versicolor\n96. versicolor\n97. versicolor\n98. versicolor\n99. versicolor\n100. versicolor\n101. virginica\n102. virginica\n103. virginica\n104. virginica\n105. virginica\n106. virginica\n107. virginica\n108. virginica\n109. virginica\n110. virginica\n111. virginica\n112. virginica\n113. virginica\n114. virginica\n115. virginica\n116. virginica\n117. virginica\n118. virginica\n119. virginica\n120. virginica\n121. virginica\n122. virginica\n123. virginica\n124. virginica\n125. virginica\n126. virginica\n127. virginica\n128. virginica\n129. virginica\n130. virginica\n131. virginica\n132. virginica\n133. virginica\n134. virginica\n135. virginica\n136. virginica\n137. virginica\n138. virginica\n139. virginica\n140. virginica\n141. virginica\n142. virginica\n143. virginica\n144. virginica\n145. virginica\n146. virginica\n147. virginica\n148. virginica\n149. virginica\n150. virginica\n\n\n\n**Levels**: 1. 'setosa'\n2. 'versicolor'\n3. 'virginica'\n\n\n",
            "text/latex": "\\begin{enumerate*}\n\\item setosa\n\\item setosa\n\\item setosa\n\\item setosa\n\\item setosa\n\\item setosa\n\\item setosa\n\\item setosa\n\\item setosa\n\\item setosa\n\\item setosa\n\\item setosa\n\\item setosa\n\\item setosa\n\\item setosa\n\\item setosa\n\\item setosa\n\\item setosa\n\\item setosa\n\\item setosa\n\\item setosa\n\\item setosa\n\\item setosa\n\\item setosa\n\\item setosa\n\\item setosa\n\\item setosa\n\\item setosa\n\\item setosa\n\\item setosa\n\\item setosa\n\\item setosa\n\\item setosa\n\\item setosa\n\\item setosa\n\\item setosa\n\\item setosa\n\\item setosa\n\\item setosa\n\\item setosa\n\\item setosa\n\\item setosa\n\\item setosa\n\\item setosa\n\\item setosa\n\\item setosa\n\\item setosa\n\\item setosa\n\\item setosa\n\\item setosa\n\\item versicolor\n\\item versicolor\n\\item versicolor\n\\item versicolor\n\\item versicolor\n\\item versicolor\n\\item versicolor\n\\item versicolor\n\\item versicolor\n\\item versicolor\n\\item versicolor\n\\item versicolor\n\\item versicolor\n\\item versicolor\n\\item versicolor\n\\item versicolor\n\\item versicolor\n\\item versicolor\n\\item versicolor\n\\item versicolor\n\\item versicolor\n\\item versicolor\n\\item versicolor\n\\item versicolor\n\\item versicolor\n\\item versicolor\n\\item versicolor\n\\item versicolor\n\\item versicolor\n\\item versicolor\n\\item versicolor\n\\item versicolor\n\\item versicolor\n\\item versicolor\n\\item versicolor\n\\item versicolor\n\\item versicolor\n\\item versicolor\n\\item versicolor\n\\item versicolor\n\\item versicolor\n\\item versicolor\n\\item versicolor\n\\item versicolor\n\\item versicolor\n\\item versicolor\n\\item versicolor\n\\item versicolor\n\\item versicolor\n\\item versicolor\n\\item virginica\n\\item virginica\n\\item virginica\n\\item virginica\n\\item virginica\n\\item virginica\n\\item virginica\n\\item virginica\n\\item virginica\n\\item virginica\n\\item virginica\n\\item virginica\n\\item virginica\n\\item virginica\n\\item virginica\n\\item virginica\n\\item virginica\n\\item virginica\n\\item virginica\n\\item virginica\n\\item virginica\n\\item virginica\n\\item virginica\n\\item virginica\n\\item virginica\n\\item virginica\n\\item virginica\n\\item virginica\n\\item virginica\n\\item virginica\n\\item virginica\n\\item virginica\n\\item virginica\n\\item virginica\n\\item virginica\n\\item virginica\n\\item virginica\n\\item virginica\n\\item virginica\n\\item virginica\n\\item virginica\n\\item virginica\n\\item virginica\n\\item virginica\n\\item virginica\n\\item virginica\n\\item virginica\n\\item virginica\n\\item virginica\n\\item virginica\n\\end{enumerate*}\n\n\\emph{Levels}: \\begin{enumerate*}\n\\item 'setosa'\n\\item 'versicolor'\n\\item 'virginica'\n\\end{enumerate*}\n",
            "text/plain": [
              "  [1] setosa     setosa     setosa     setosa     setosa     setosa    \n",
              "  [7] setosa     setosa     setosa     setosa     setosa     setosa    \n",
              " [13] setosa     setosa     setosa     setosa     setosa     setosa    \n",
              " [19] setosa     setosa     setosa     setosa     setosa     setosa    \n",
              " [25] setosa     setosa     setosa     setosa     setosa     setosa    \n",
              " [31] setosa     setosa     setosa     setosa     setosa     setosa    \n",
              " [37] setosa     setosa     setosa     setosa     setosa     setosa    \n",
              " [43] setosa     setosa     setosa     setosa     setosa     setosa    \n",
              " [49] setosa     setosa     versicolor versicolor versicolor versicolor\n",
              " [55] versicolor versicolor versicolor versicolor versicolor versicolor\n",
              " [61] versicolor versicolor versicolor versicolor versicolor versicolor\n",
              " [67] versicolor versicolor versicolor versicolor versicolor versicolor\n",
              " [73] versicolor versicolor versicolor versicolor versicolor versicolor\n",
              " [79] versicolor versicolor versicolor versicolor versicolor versicolor\n",
              " [85] versicolor versicolor versicolor versicolor versicolor versicolor\n",
              " [91] versicolor versicolor versicolor versicolor versicolor versicolor\n",
              " [97] versicolor versicolor versicolor versicolor virginica  virginica \n",
              "[103] virginica  virginica  virginica  virginica  virginica  virginica \n",
              "[109] virginica  virginica  virginica  virginica  virginica  virginica \n",
              "[115] virginica  virginica  virginica  virginica  virginica  virginica \n",
              "[121] virginica  virginica  virginica  virginica  virginica  virginica \n",
              "[127] virginica  virginica  virginica  virginica  virginica  virginica \n",
              "[133] virginica  virginica  virginica  virginica  virginica  virginica \n",
              "[139] virginica  virginica  virginica  virginica  virginica  virginica \n",
              "[145] virginica  virginica  virginica  virginica  virginica  virginica \n",
              "Levels: setosa versicolor virginica"
            ]
          },
          "metadata": {}
        },
        {
          "output_type": "display_data",
          "data": {
            "text/html": [
              "<style>\n",
              ".list-inline {list-style: none; margin:0; padding: 0}\n",
              ".list-inline>li {display: inline-block}\n",
              ".list-inline>li:not(:last-child)::after {content: \"\\00b7\"; padding: 0 .5ex}\n",
              "</style>\n",
              "<ol class=list-inline><li>setosa</li><li>versicolor</li><li>virginica</li></ol>\n",
              "\n",
              "<details>\n",
              "\t<summary style=display:list-item;cursor:pointer>\n",
              "\t\t<strong>Levels</strong>:\n",
              "\t</summary>\n",
              "\t<style>\n",
              "\t.list-inline {list-style: none; margin:0; padding: 0}\n",
              "\t.list-inline>li {display: inline-block}\n",
              "\t.list-inline>li:not(:last-child)::after {content: \"\\00b7\"; padding: 0 .5ex}\n",
              "\t</style>\n",
              "\t<ol class=list-inline><li>'setosa'</li><li>'versicolor'</li><li>'virginica'</li></ol>\n",
              "</details>"
            ],
            "text/markdown": "1. setosa\n2. versicolor\n3. virginica\n\n\n\n**Levels**: 1. 'setosa'\n2. 'versicolor'\n3. 'virginica'\n\n\n",
            "text/latex": "\\begin{enumerate*}\n\\item setosa\n\\item versicolor\n\\item virginica\n\\end{enumerate*}\n\n\\emph{Levels}: \\begin{enumerate*}\n\\item 'setosa'\n\\item 'versicolor'\n\\item 'virginica'\n\\end{enumerate*}\n",
            "text/plain": [
              "[1] setosa     versicolor virginica \n",
              "Levels: setosa versicolor virginica"
            ]
          },
          "metadata": {}
        }
      ]
    },
    {
      "cell_type": "markdown",
      "source": [
        "\n",
        "# PRACTICA FINAL\n",
        "\n",
        "En base al data frame \"datos\" calcular:\n"
      ],
      "metadata": {
        "id": "WNdNfJxpWWfh"
      }
    },
    {
      "cell_type": "code",
      "metadata": {
        "autoscroll": false,
        "ein.hycell": false,
        "ein.tags": "worksheet-0",
        "id": "fyTAcZV85hoi",
        "colab": {
          "base_uri": "https://localhost:8080/",
          "height": 312
        },
        "outputId": "5f0cf4c9-b369-40f1-e133-4b1eb3fbe9af"
      },
      "source": [
        "# Load the spam\n",
        "githubURL <- \"https://github.com/AndresMtnezGlez/MABA/raw/main/datos.RData\"\n",
        "load(url(githubURL))\n",
        "summary(datos)"
      ],
      "execution_count": null,
      "outputs": [
        {
          "output_type": "display_data",
          "data": {
            "text/plain": [
              "    salario           vacaciones   salario_por_hora     impuestos      \n",
              " Min.   :   357.4   22     :2014   Min.   :  0.8817   Min.   :    0.0  \n",
              " 1st Qu.: 17455.1   23     : 519   1st Qu.:  9.1576   1st Qu.:  151.5  \n",
              " Median : 25322.6   25     : 462   Median : 13.0446   Median :  301.9  \n",
              " Mean   : 30222.4   30     : 396   Mean   : 15.7115   Mean   :  448.9  \n",
              " 3rd Qu.: 37336.2   24     : 328   3rd Qu.: 18.9490   3rd Qu.:  548.1  \n",
              " Max.   :882929.1   26     : 229   Max.   :434.1766   Max.   :13895.2  \n",
              "                    (Other): 781                                       \n",
              "          sexo                  mercado           categoria      distancia    \n",
              " HOMBRE     :2767   LOCAL O REGIONAL:1607   DIRECTIVO  :  43   Min.   : 1.00  \n",
              " MUJER      :1959   MUNDIAL         : 827   MANDO_MEDIO:1822   1st Qu.:20.00  \n",
              " No contesta:   3   NACIONAL        :2005   TECNICO    :2864   Median :40.00  \n",
              "                    UNIÓN EUROPEA   : 290                      Mean   :40.49  \n",
              "                                                               3rd Qu.:61.00  \n",
              "                                                               Max.   :80.00  \n",
              "                                                                              "
            ]
          },
          "metadata": {}
        }
      ]
    },
    {
      "cell_type": "markdown",
      "source": [
        " 1) El gasto total en salarios de la empresa (en euros y en dolares)"
      ],
      "metadata": {
        "id": "G0sGW5RTaHrp"
      }
    },
    {
      "cell_type": "code",
      "source": [
        "sum(datos$salario)"
      ],
      "metadata": {
        "colab": {
          "base_uri": "https://localhost:8080/",
          "height": 34
        },
        "id": "73Aq9ulhaG79",
        "outputId": "6e1b7442-55a8-44d0-f0f9-5127d00ea2fc"
      },
      "execution_count": null,
      "outputs": [
        {
          "output_type": "display_data",
          "data": {
            "text/html": [
              "142921697.7"
            ],
            "text/markdown": "142921697.7",
            "text/latex": "142921697.7",
            "text/plain": [
              "[1] 142921698"
            ]
          },
          "metadata": {}
        }
      ]
    },
    {
      "cell_type": "markdown",
      "source": [
        "2) ¿Cual es el máximo en días de vacaciones? ¿Y el mínimo?"
      ],
      "metadata": {
        "id": "echiS6sRaNvI"
      }
    },
    {
      "cell_type": "code",
      "source": [
        "max(datos$vacaciones)\n",
        "min(datos$vacaciones)"
      ],
      "metadata": {
        "id": "-P7N_fq6aNbc",
        "outputId": "10ff2775-dee5-4b8b-a7dc-50ea383cf2be",
        "colab": {
          "base_uri": "https://localhost:8080/",
          "height": 86
        }
      },
      "execution_count": null,
      "outputs": [
        {
          "output_type": "display_data",
          "data": {
            "text/html": [
              "84\n",
              "<details>\n",
              "\t<summary style=display:list-item;cursor:pointer>\n",
              "\t\t<strong>Levels</strong>:\n",
              "\t</summary>\n",
              "\t<style>\n",
              "\t.list-inline {list-style: none; margin:0; padding: 0}\n",
              "\t.list-inline>li {display: inline-block}\n",
              "\t.list-inline>li:not(:last-child)::after {content: \"\\00b7\"; padding: 0 .5ex}\n",
              "\t</style>\n",
              "\t<ol class=list-inline><li>'2'</li><li>'3'</li><li>'4'</li><li>'5'</li><li>'6'</li><li>'7'</li><li>'8'</li><li>'9'</li><li>'10'</li><li>'11'</li><li>'12'</li><li>'13'</li><li>'14'</li><li>'15'</li><li>'16'</li><li>'17'</li><li>'18'</li><li>'19'</li><li>'20'</li><li>'21'</li><li>'22'</li><li>'23'</li><li>'24'</li><li>'25'</li><li>'26'</li><li>'27'</li><li>'28'</li><li>'29'</li><li>'30'</li><li>'31'</li><li>'32'</li><li>'35'</li><li>'36'</li><li>'39'</li><li>'44'</li><li>'47'</li><li>'49'</li><li>'50'</li><li>'54'</li><li>'57'</li><li>'84'</li></ol>\n",
              "</details>"
            ],
            "text/markdown": "84\n**Levels**: 1. '2'\n2. '3'\n3. '4'\n4. '5'\n5. '6'\n6. '7'\n7. '8'\n8. '9'\n9. '10'\n10. '11'\n11. '12'\n12. '13'\n13. '14'\n14. '15'\n15. '16'\n16. '17'\n17. '18'\n18. '19'\n19. '20'\n20. '21'\n21. '22'\n22. '23'\n23. '24'\n24. '25'\n25. '26'\n26. '27'\n27. '28'\n28. '29'\n29. '30'\n30. '31'\n31. '32'\n32. '35'\n33. '36'\n34. '39'\n35. '44'\n36. '47'\n37. '49'\n38. '50'\n39. '54'\n40. '57'\n41. '84'\n\n\n",
            "text/latex": "84\n\\emph{Levels}: \\begin{enumerate*}\n\\item '2'\n\\item '3'\n\\item '4'\n\\item '5'\n\\item '6'\n\\item '7'\n\\item '8'\n\\item '9'\n\\item '10'\n\\item '11'\n\\item '12'\n\\item '13'\n\\item '14'\n\\item '15'\n\\item '16'\n\\item '17'\n\\item '18'\n\\item '19'\n\\item '20'\n\\item '21'\n\\item '22'\n\\item '23'\n\\item '24'\n\\item '25'\n\\item '26'\n\\item '27'\n\\item '28'\n\\item '29'\n\\item '30'\n\\item '31'\n\\item '32'\n\\item '35'\n\\item '36'\n\\item '39'\n\\item '44'\n\\item '47'\n\\item '49'\n\\item '50'\n\\item '54'\n\\item '57'\n\\item '84'\n\\end{enumerate*}\n",
            "text/plain": [
              "[1] 84\n",
              "41 Levels: 2 < 3 < 4 < 5 < 6 < 7 < 8 < 9 < 10 < 11 < 12 < 13 < 14 < ... < 84"
            ]
          },
          "metadata": {}
        },
        {
          "output_type": "display_data",
          "data": {
            "text/html": [
              "2\n",
              "<details>\n",
              "\t<summary style=display:list-item;cursor:pointer>\n",
              "\t\t<strong>Levels</strong>:\n",
              "\t</summary>\n",
              "\t<style>\n",
              "\t.list-inline {list-style: none; margin:0; padding: 0}\n",
              "\t.list-inline>li {display: inline-block}\n",
              "\t.list-inline>li:not(:last-child)::after {content: \"\\00b7\"; padding: 0 .5ex}\n",
              "\t</style>\n",
              "\t<ol class=list-inline><li>'2'</li><li>'3'</li><li>'4'</li><li>'5'</li><li>'6'</li><li>'7'</li><li>'8'</li><li>'9'</li><li>'10'</li><li>'11'</li><li>'12'</li><li>'13'</li><li>'14'</li><li>'15'</li><li>'16'</li><li>'17'</li><li>'18'</li><li>'19'</li><li>'20'</li><li>'21'</li><li>'22'</li><li>'23'</li><li>'24'</li><li>'25'</li><li>'26'</li><li>'27'</li><li>'28'</li><li>'29'</li><li>'30'</li><li>'31'</li><li>'32'</li><li>'35'</li><li>'36'</li><li>'39'</li><li>'44'</li><li>'47'</li><li>'49'</li><li>'50'</li><li>'54'</li><li>'57'</li><li>'84'</li></ol>\n",
              "</details>"
            ],
            "text/markdown": "2\n**Levels**: 1. '2'\n2. '3'\n3. '4'\n4. '5'\n5. '6'\n6. '7'\n7. '8'\n8. '9'\n9. '10'\n10. '11'\n11. '12'\n12. '13'\n13. '14'\n14. '15'\n15. '16'\n16. '17'\n17. '18'\n18. '19'\n19. '20'\n20. '21'\n21. '22'\n22. '23'\n23. '24'\n24. '25'\n25. '26'\n26. '27'\n27. '28'\n28. '29'\n29. '30'\n30. '31'\n31. '32'\n32. '35'\n33. '36'\n34. '39'\n35. '44'\n36. '47'\n37. '49'\n38. '50'\n39. '54'\n40. '57'\n41. '84'\n\n\n",
            "text/latex": "2\n\\emph{Levels}: \\begin{enumerate*}\n\\item '2'\n\\item '3'\n\\item '4'\n\\item '5'\n\\item '6'\n\\item '7'\n\\item '8'\n\\item '9'\n\\item '10'\n\\item '11'\n\\item '12'\n\\item '13'\n\\item '14'\n\\item '15'\n\\item '16'\n\\item '17'\n\\item '18'\n\\item '19'\n\\item '20'\n\\item '21'\n\\item '22'\n\\item '23'\n\\item '24'\n\\item '25'\n\\item '26'\n\\item '27'\n\\item '28'\n\\item '29'\n\\item '30'\n\\item '31'\n\\item '32'\n\\item '35'\n\\item '36'\n\\item '39'\n\\item '44'\n\\item '47'\n\\item '49'\n\\item '50'\n\\item '54'\n\\item '57'\n\\item '84'\n\\end{enumerate*}\n",
            "text/plain": [
              "[1] 2\n",
              "41 Levels: 2 < 3 < 4 < 5 < 6 < 7 < 8 < 9 < 10 < 11 < 12 < 13 < 14 < ... < 84"
            ]
          },
          "metadata": {}
        }
      ]
    },
    {
      "cell_type": "markdown",
      "source": [
        " 3) Obtenga toda la información  disponible sobre el empleado 54"
      ],
      "metadata": {
        "id": "G-H3g4d9aR94"
      }
    },
    {
      "cell_type": "code",
      "source": [
        "datos[54,]"
      ],
      "metadata": {
        "id": "vFfGKxRyaTlR",
        "outputId": "670ee258-261d-41a3-b7dc-3817130176e7",
        "colab": {
          "base_uri": "https://localhost:8080/",
          "height": 129
        }
      },
      "execution_count": null,
      "outputs": [
        {
          "output_type": "display_data",
          "data": {
            "text/html": [
              "<table class=\"dataframe\">\n",
              "<caption>A data.frame: 1 × 8</caption>\n",
              "<thead>\n",
              "\t<tr><th></th><th scope=col>salario</th><th scope=col>vacaciones</th><th scope=col>salario_por_hora</th><th scope=col>impuestos</th><th scope=col>sexo</th><th scope=col>mercado</th><th scope=col>categoria</th><th scope=col>distancia</th></tr>\n",
              "\t<tr><th></th><th scope=col>&lt;dbl&gt;</th><th scope=col>&lt;ord&gt;</th><th scope=col>&lt;dbl&gt;</th><th scope=col>&lt;dbl&gt;</th><th scope=col>&lt;fct&gt;</th><th scope=col>&lt;fct&gt;</th><th scope=col>&lt;ord&gt;</th><th scope=col>&lt;dbl&gt;</th></tr>\n",
              "</thead>\n",
              "<tbody>\n",
              "\t<tr><th scope=row>54</th><td>30799.9</td><td>23</td><td>16.87666</td><td>510.76</td><td>HOMBRE</td><td>LOCAL O REGIONAL</td><td>MANDO_MEDIO</td><td>50</td></tr>\n",
              "</tbody>\n",
              "</table>\n"
            ],
            "text/markdown": "\nA data.frame: 1 × 8\n\n| <!--/--> | salario &lt;dbl&gt; | vacaciones &lt;ord&gt; | salario_por_hora &lt;dbl&gt; | impuestos &lt;dbl&gt; | sexo &lt;fct&gt; | mercado &lt;fct&gt; | categoria &lt;ord&gt; | distancia &lt;dbl&gt; |\n|---|---|---|---|---|---|---|---|---|\n| 54 | 30799.9 | 23 | 16.87666 | 510.76 | HOMBRE | LOCAL O REGIONAL | MANDO_MEDIO | 50 |\n\n",
            "text/latex": "A data.frame: 1 × 8\n\\begin{tabular}{r|llllllll}\n  & salario & vacaciones & salario\\_por\\_hora & impuestos & sexo & mercado & categoria & distancia\\\\\n  & <dbl> & <ord> & <dbl> & <dbl> & <fct> & <fct> & <ord> & <dbl>\\\\\n\\hline\n\t54 & 30799.9 & 23 & 16.87666 & 510.76 & HOMBRE & LOCAL O REGIONAL & MANDO\\_MEDIO & 50\\\\\n\\end{tabular}\n",
            "text/plain": [
              "   salario vacaciones salario_por_hora impuestos sexo   mercado         \n",
              "54 30799.9 23         16.87666         510.76    HOMBRE LOCAL O REGIONAL\n",
              "   categoria   distancia\n",
              "54 MANDO_MEDIO 50       "
            ]
          },
          "metadata": {}
        }
      ]
    },
    {
      "cell_type": "markdown",
      "source": [
        "4) ¿Cual es la categoría profesional del individuo 89?"
      ],
      "metadata": {
        "id": "u9E-M6smaWDI"
      }
    },
    {
      "cell_type": "code",
      "source": [
        "datos[89,7]"
      ],
      "metadata": {
        "id": "LhVULiq_aVup",
        "outputId": "337505cc-ec25-49ba-ac9d-150afdea7003",
        "colab": {
          "base_uri": "https://localhost:8080/",
          "height": 52
        }
      },
      "execution_count": null,
      "outputs": [
        {
          "output_type": "display_data",
          "data": {
            "text/html": [
              "MANDO_MEDIO\n",
              "<details>\n",
              "\t<summary style=display:list-item;cursor:pointer>\n",
              "\t\t<strong>Levels</strong>:\n",
              "\t</summary>\n",
              "\t<style>\n",
              "\t.list-inline {list-style: none; margin:0; padding: 0}\n",
              "\t.list-inline>li {display: inline-block}\n",
              "\t.list-inline>li:not(:last-child)::after {content: \"\\00b7\"; padding: 0 .5ex}\n",
              "\t</style>\n",
              "\t<ol class=list-inline><li>'DIRECTIVO'</li><li>'MANDO_MEDIO'</li><li>'TECNICO'</li></ol>\n",
              "</details>"
            ],
            "text/markdown": "MANDO_MEDIO\n**Levels**: 1. 'DIRECTIVO'\n2. 'MANDO_MEDIO'\n3. 'TECNICO'\n\n\n",
            "text/latex": "MANDO\\_MEDIO\n\\emph{Levels}: \\begin{enumerate*}\n\\item 'DIRECTIVO'\n\\item 'MANDO\\_MEDIO'\n\\item 'TECNICO'\n\\end{enumerate*}\n",
            "text/plain": [
              "[1] MANDO_MEDIO\n",
              "Levels: DIRECTIVO < MANDO_MEDIO < TECNICO"
            ]
          },
          "metadata": {}
        }
      ]
    },
    {
      "cell_type": "markdown",
      "source": [
        "5) ¿Cuantas categorías hay en la variable \"mercado\"?"
      ],
      "metadata": {
        "id": "qo1k-t2uaZIo"
      }
    },
    {
      "cell_type": "code",
      "source": [
        "levels(datos$mercado)"
      ],
      "metadata": {
        "id": "0pzYeLU-aajp",
        "outputId": "23ec1d2b-ee22-401d-a7ab-c8e75f200ad6",
        "colab": {
          "base_uri": "https://localhost:8080/",
          "height": 34
        }
      },
      "execution_count": null,
      "outputs": [
        {
          "output_type": "display_data",
          "data": {
            "text/html": [
              "<style>\n",
              ".list-inline {list-style: none; margin:0; padding: 0}\n",
              ".list-inline>li {display: inline-block}\n",
              ".list-inline>li:not(:last-child)::after {content: \"\\00b7\"; padding: 0 .5ex}\n",
              "</style>\n",
              "<ol class=list-inline><li>'LOCAL O REGIONAL'</li><li>'MUNDIAL'</li><li>'NACIONAL'</li><li>'UNIÓN EUROPEA'</li></ol>\n"
            ],
            "text/markdown": "1. 'LOCAL O REGIONAL'\n2. 'MUNDIAL'\n3. 'NACIONAL'\n4. 'UNIÓN EUROPEA'\n\n\n",
            "text/latex": "\\begin{enumerate*}\n\\item 'LOCAL O REGIONAL'\n\\item 'MUNDIAL'\n\\item 'NACIONAL'\n\\item 'UNIÓN EUROPEA'\n\\end{enumerate*}\n",
            "text/plain": [
              "[1] \"LOCAL O REGIONAL\" \"MUNDIAL\"          \"NACIONAL\"         \"UNIÓN EUROPEA\"   "
            ]
          },
          "metadata": {}
        }
      ]
    },
    {
      "cell_type": "markdown",
      "source": [
        "6) ¿Cuantos directivos hay en la empresa? ¿Y tecnicos?"
      ],
      "metadata": {
        "id": "HvOaptMmac2w"
      }
    },
    {
      "cell_type": "code",
      "source": [
        "summary(datos$categoria)"
      ],
      "metadata": {
        "id": "cocqZD8DacVY",
        "outputId": "1bb59bd9-3105-4a53-c241-712a18ea16ad",
        "colab": {
          "base_uri": "https://localhost:8080/",
          "height": 34
        }
      },
      "execution_count": null,
      "outputs": [
        {
          "output_type": "display_data",
          "data": {
            "text/html": [
              "<style>\n",
              ".dl-inline {width: auto; margin:0; padding: 0}\n",
              ".dl-inline>dt, .dl-inline>dd {float: none; width: auto; display: inline-block}\n",
              ".dl-inline>dt::after {content: \":\\0020\"; padding-right: .5ex}\n",
              ".dl-inline>dt:not(:first-of-type) {padding-left: .5ex}\n",
              "</style><dl class=dl-inline><dt>DIRECTIVO</dt><dd>43</dd><dt>MANDO_MEDIO</dt><dd>1822</dd><dt>TECNICO</dt><dd>2864</dd></dl>\n"
            ],
            "text/markdown": "DIRECTIVO\n:   43MANDO_MEDIO\n:   1822TECNICO\n:   2864\n\n",
            "text/latex": "\\begin{description*}\n\\item[DIRECTIVO] 43\n\\item[MANDO\\textbackslash{}\\_MEDIO] 1822\n\\item[TECNICO] 2864\n\\end{description*}\n",
            "text/plain": [
              "  DIRECTIVO MANDO_MEDIO     TECNICO \n",
              "         43        1822        2864 "
            ]
          },
          "metadata": {}
        }
      ]
    },
    {
      "cell_type": "markdown",
      "source": [
        "7) ¿Cual es el volumen estimado anual de impuestos retenidos a los empleados?"
      ],
      "metadata": {
        "id": "g6RympBkag1D"
      }
    },
    {
      "cell_type": "code",
      "source": [
        "sum(datos$impuestos)*12"
      ],
      "metadata": {
        "id": "3GoZSs4qagcB",
        "outputId": "88234370-3fe2-4178-f3e6-dbe94074636f",
        "colab": {
          "base_uri": "https://localhost:8080/",
          "height": 34
        }
      },
      "execution_count": null,
      "outputs": [
        {
          "output_type": "display_data",
          "data": {
            "text/html": [
              "25474008.96"
            ],
            "text/markdown": "25474008.96",
            "text/latex": "25474008.96",
            "text/plain": [
              "[1] 25474009"
            ]
          },
          "metadata": {}
        }
      ]
    },
    {
      "cell_type": "markdown",
      "source": [
        "8) Si en promedio un coche emite 110 gramos de CO2 por km y la mitad de los empleados van en coche, estima las emisiones diarias por desplazamientos al trabajo"
      ],
      "metadata": {
        "id": "LAylNtLkalKw"
      }
    },
    {
      "cell_type": "code",
      "source": [
        "# Tenemos que hacer hipótesis\n",
        "# Lo más facil es sumar la distancia de todos los empleados, dividir entre 2\n",
        "# Y multiplicar por las emisiones por km. Dividimos entre 1000 para dar el resultado\n",
        "# en Kg de CO2 en lugar de en gramos\n",
        "\n",
        "(sum(datos$distancia)/2)*110/1000\n",
        "\n",
        "# Es un calculo muy aproximado porque implica que\n",
        "# 1) Los empleados que no van en coche no emiten CO2, lo que es falso\n",
        "# 2) Estamos \"asignando\" coche aleatoriamente\n",
        "# 3) Muchas otras hipótesis subyacentes\n",
        "# Pero con los datos que tenemos, es lo mejor que podemos hacer"
      ],
      "metadata": {
        "id": "aMIr6rf0ak48",
        "outputId": "e62c15e3-3931-44f2-c599-84dad7c57cbf",
        "colab": {
          "base_uri": "https://localhost:8080/",
          "height": 34
        }
      },
      "execution_count": null,
      "outputs": [
        {
          "output_type": "display_data",
          "data": {
            "text/html": [
              "10530.63"
            ],
            "text/markdown": "10530.63",
            "text/latex": "10530.63",
            "text/plain": [
              "[1] 10530.63"
            ]
          },
          "metadata": {}
        }
      ]
    },
    {
      "cell_type": "markdown",
      "source": [
        "9) ¿Cual es el coste en dolares que tiene para la empresa las vacaciones disfrutadas por los empleados?"
      ],
      "metadata": {
        "id": "UDsaEMBwaGTb"
      }
    },
    {
      "cell_type": "code",
      "source": [
        "# Vamos a asumir un cambio dolar-euro de 0.88\n",
        "# Generamos la variable \"salario por día trabajado\" (Salario_dia)\n",
        "# Dividimos el salario bruto anual entre los días laborables (asumimos 250 días)\n",
        "datos$Salario_dia <- datos$salario/250"
      ],
      "metadata": {
        "id": "N2FhjdZva1I5"
      },
      "execution_count": null,
      "outputs": []
    },
    {
      "cell_type": "code",
      "source": [
        "# Ahora multiplicamos los días de vacacaciones por el coste de cada dia\n",
        "# Pero cuidado: antes debemos convertir la variable \"vacaciones\" en numérica\n",
        "datos$vacaciones <- as.numeric(datos$vacaciones)\n",
        "datos$Coste_Vacaciones <- datos$vacaciones*datos$Salario_dia\n"
      ],
      "metadata": {
        "id": "xC6cqqexa3FQ"
      },
      "execution_count": null,
      "outputs": []
    },
    {
      "cell_type": "code",
      "source": [
        "# Vemos como queda el dataframe\n",
        "summary(datos)\n"
      ],
      "metadata": {
        "id": "OlCYdjCIa4mo",
        "outputId": "e377fd34-4f07-4462-aacf-c777c2564f05",
        "colab": {
          "base_uri": "https://localhost:8080/",
          "height": 405
        }
      },
      "execution_count": null,
      "outputs": [
        {
          "output_type": "display_data",
          "data": {
            "text/plain": [
              "    salario           vacaciones    salario_por_hora     impuestos      \n",
              " Min.   :   357.4   Min.   : 1.00   Min.   :  0.8817   Min.   :    0.0  \n",
              " 1st Qu.: 17455.1   1st Qu.:21.00   1st Qu.:  9.1576   1st Qu.:  151.5  \n",
              " Median : 25322.6   Median :21.00   Median : 13.0446   Median :  301.9  \n",
              " Mean   : 30222.4   Mean   :22.36   Mean   : 15.7115   Mean   :  448.9  \n",
              " 3rd Qu.: 37336.2   3rd Qu.:24.00   3rd Qu.: 18.9490   3rd Qu.:  548.1  \n",
              " Max.   :882929.1   Max.   :41.00   Max.   :434.1766   Max.   :13895.2  \n",
              "          sexo                  mercado           categoria      distancia    \n",
              " HOMBRE     :2767   LOCAL O REGIONAL:1607   DIRECTIVO  :  43   Min.   : 1.00  \n",
              " MUJER      :1959   MUNDIAL         : 827   MANDO_MEDIO:1822   1st Qu.:20.00  \n",
              " No contesta:   3   NACIONAL        :2005   TECNICO    :2864   Median :40.00  \n",
              "                    UNIÓN EUROPEA   : 290                      Mean   :40.49  \n",
              "                                                               3rd Qu.:61.00  \n",
              "                                                               Max.   :80.00  \n",
              "  Salario_dia       Coste_Vacaciones  \n",
              " Min.   :   1.429   Min.   :   17.65  \n",
              " 1st Qu.:  69.821   1st Qu.: 1543.77  \n",
              " Median : 101.290   Median : 2271.02  \n",
              " Mean   : 120.890   Mean   : 2748.07  \n",
              " 3rd Qu.: 149.345   3rd Qu.: 3369.39  \n",
              " Max.   :3531.716   Max.   :81229.48  "
            ]
          },
          "metadata": {}
        }
      ]
    },
    {
      "cell_type": "code",
      "source": [
        "\n",
        "# Ya simplemente queda sumar el coste para todos los empleados\n",
        "sum(datos$Coste_Vacaciones)"
      ],
      "metadata": {
        "id": "2Ugqdoc-a5zh",
        "outputId": "46339cba-94d4-4c56-8ac6-9fd619e8463c",
        "colab": {
          "base_uri": "https://localhost:8080/",
          "height": 34
        }
      },
      "execution_count": null,
      "outputs": [
        {
          "output_type": "display_data",
          "data": {
            "text/html": [
              "12995600.1368"
            ],
            "text/markdown": "12995600.1368",
            "text/latex": "12995600.1368",
            "text/plain": [
              "[1] 12995600"
            ]
          },
          "metadata": {}
        }
      ]
    },
    {
      "cell_type": "markdown",
      "source": [],
      "metadata": {
        "id": "AiyMxnw4ayLq"
      }
    }
  ]
}