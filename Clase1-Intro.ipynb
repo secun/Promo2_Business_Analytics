{
  "nbformat": 4,
  "nbformat_minor": 0,
  "metadata": {
    "colab": {
      "provenance": [],
      "toc_visible": true,
      "authorship_tag": "ABX9TyOfPw5NxmLtThtblJnAWzR9",
      "include_colab_link": true
    },
    "kernelspec": {
      "name": "ir",
      "display_name": "R"
    },
    "language_info": {
      "name": "R"
    }
  },
  "cells": [
    {
      "cell_type": "markdown",
      "metadata": {
        "id": "view-in-github",
        "colab_type": "text"
      },
      "source": [
        "<a href=\"https://colab.research.google.com/github/secun/Promo2_Business_Analytics/blob/main/Clase1-Intro.ipynb\" target=\"_parent\"><img src=\"https://colab.research.google.com/assets/colab-badge.svg\" alt=\"Open In Colab\"/></a>"
      ]
    },
    {
      "cell_type": "markdown",
      "source": [
        "# Intro 1- "
      ],
      "metadata": {
        "id": "EmT5s_K6Inxd"
      }
    },
    {
      "cell_type": "markdown",
      "source": [
        "Donde estamos trabajando?"
      ],
      "metadata": {
        "id": "UMQk0sQCKRZF"
      }
    },
    {
      "cell_type": "code",
      "execution_count": 1,
      "metadata": {
        "colab": {
          "base_uri": "https://localhost:8080/",
          "height": 34
        },
        "id": "e1JCkl6_HyeM",
        "outputId": "ebe6e724-3d12-4921-d32f-75f051bdbe76"
      },
      "outputs": [
        {
          "output_type": "display_data",
          "data": {
            "text/html": [
              "'/content'"
            ],
            "text/markdown": "'/content'",
            "text/latex": "'/content'",
            "text/plain": [
              "[1] \"/content\""
            ]
          },
          "metadata": {}
        }
      ],
      "source": [
        "getwd()\n"
      ]
    },
    {
      "cell_type": "markdown",
      "source": [
        "Primera visualizacion de datos (dataset iris de la librería **datasets**"
      ],
      "metadata": {
        "id": "-M1CShNqKV8U"
      }
    },
    {
      "cell_type": "code",
      "source": [
        "library(datasets)"
      ],
      "metadata": {
        "id": "kEYb8t3uI1k8"
      },
      "execution_count": 2,
      "outputs": []
    },
    {
      "cell_type": "markdown",
      "source": [
        "Conjunto de datos iris de la libreria datasets"
      ],
      "metadata": {
        "id": "5KhyYkVGImtd"
      }
    },
    {
      "cell_type": "code",
      "source": [
        "summary(iris)"
      ],
      "metadata": {
        "colab": {
          "base_uri": "https://localhost:8080/",
          "height": 260
        },
        "id": "nl1Rw-V_Im7e",
        "outputId": "52e0ddd7-7caa-4529-e90d-5a7c9d726a8e"
      },
      "execution_count": 3,
      "outputs": [
        {
          "output_type": "display_data",
          "data": {
            "text/plain": [
              "  Sepal.Length    Sepal.Width     Petal.Length    Petal.Width   \n",
              " Min.   :4.300   Min.   :2.000   Min.   :1.000   Min.   :0.100  \n",
              " 1st Qu.:5.100   1st Qu.:2.800   1st Qu.:1.600   1st Qu.:0.300  \n",
              " Median :5.800   Median :3.000   Median :4.350   Median :1.300  \n",
              " Mean   :5.843   Mean   :3.057   Mean   :3.758   Mean   :1.199  \n",
              " 3rd Qu.:6.400   3rd Qu.:3.300   3rd Qu.:5.100   3rd Qu.:1.800  \n",
              " Max.   :7.900   Max.   :4.400   Max.   :6.900   Max.   :2.500  \n",
              "       Species  \n",
              " setosa    :50  \n",
              " versicolor:50  \n",
              " virginica :50  \n",
              "                \n",
              "                \n",
              "                "
            ]
          },
          "metadata": {}
        }
      ]
    },
    {
      "cell_type": "markdown",
      "source": [
        "# Intro 2-"
      ],
      "metadata": {
        "id": "j6m7aGbwIpv1"
      }
    }
  ]
}