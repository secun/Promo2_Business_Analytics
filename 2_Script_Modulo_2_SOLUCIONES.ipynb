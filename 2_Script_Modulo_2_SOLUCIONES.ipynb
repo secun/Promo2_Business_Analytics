{
  "nbformat": 4,
  "nbformat_minor": 0,
  "metadata": {
    "colab": {
      "provenance": [],
      "include_colab_link": true
    },
    "kernelspec": {
      "name": "ir",
      "display_name": "R"
    },
    "language_info": {
      "name": "R"
    }
  },
  "cells": [
    {
      "cell_type": "markdown",
      "metadata": {
        "id": "view-in-github",
        "colab_type": "text"
      },
      "source": [
        "<a href=\"https://colab.research.google.com/github/secun/Promo2_Business_Analytics/blob/main/2_Script_Modulo_2_SOLUCIONES.ipynb\" target=\"_parent\"><img src=\"https://colab.research.google.com/assets/colab-badge.svg\" alt=\"Open In Colab\"/></a>"
      ]
    },
    {
      "cell_type": "markdown",
      "source": [
        "## **Módulo 2 - Primeros Pasos**"
      ],
      "metadata": {
        "id": "YpSA7rvG6zum"
      }
    },
    {
      "cell_type": "markdown",
      "source": [
        "# Ejercicio 1\n",
        " Buscar un paquete que permita hacer gráficos elegantes (consejo: buscad el nombre en google)\n",
        " \n",
        " Instalar y cargar dicho paquete"
      ],
      "metadata": {
        "id": "NeRMKap8zz2Q"
      }
    },
    {
      "cell_type": "code",
      "source": [
        "library(ggplot2)"
      ],
      "metadata": {
        "id": "aXTxyFGQz7-_"
      },
      "execution_count": null,
      "outputs": []
    },
    {
      "cell_type": "markdown",
      "source": [
        "# Ejercicio 2\n",
        "Usando un bucle for, calcular el factorial del número 100 (100x99x98x97x...)"
      ],
      "metadata": {
        "id": "MQYgC3aEz_tA"
      }
    },
    {
      "cell_type": "code",
      "source": [
        "FACT=1\n",
        "for (i in 1:100)\n",
        "{\n",
        "  FACT=i*FACT\n",
        "}\n",
        "print(FACT)"
      ],
      "metadata": {
        "colab": {
          "base_uri": "https://localhost:8080/"
        },
        "id": "JrXeH0L-0EJu",
        "outputId": "d7ba6d08-bb07-489f-f55f-b4b3c62c0bec"
      },
      "execution_count": null,
      "outputs": [
        {
          "output_type": "stream",
          "name": "stdout",
          "text": [
            "[1] 9.332622e+157\n"
          ]
        }
      ]
    },
    {
      "cell_type": "markdown",
      "source": [
        "Comprobamos que el resultado es correcto usando la funcion factorial()"
      ],
      "metadata": {
        "id": "nq0pCAff0F-e"
      }
    },
    {
      "cell_type": "code",
      "source": [
        "factorial(100)"
      ],
      "metadata": {
        "colab": {
          "base_uri": "https://localhost:8080/",
          "height": 34
        },
        "id": "hGLch-pN0G02",
        "outputId": "b182c45a-c723-43f2-969a-862327d41952"
      },
      "execution_count": null,
      "outputs": [
        {
          "output_type": "display_data",
          "data": {
            "text/html": [
              "9.33262154439422e+157"
            ],
            "text/markdown": "9.33262154439422e+157",
            "text/latex": "9.33262154439422e+157",
            "text/plain": [
              "[1] 9.332622e+157"
            ]
          },
          "metadata": {}
        }
      ]
    },
    {
      "cell_type": "markdown",
      "source": [
        "# Ejercicio 3\n",
        "Ejecuta y analiza el siguiente código\n",
        "\n",
        "¿Para qué sirve cada instrucción?"
      ],
      "metadata": {
        "id": "jIbyFsGF0JM2"
      }
    },
    {
      "cell_type": "markdown",
      "source": [
        "--> Comentamos este ejercicio porque no es posible establecer interacción en un Notebook de Python. "
      ],
      "metadata": {
        "id": "jtLteZor58vt"
      }
    },
    {
      "cell_type": "code",
      "source": [
        "# i=0\n",
        "# while(i != 1) {\n",
        "#   cat(\"Escribe un número: \")\n",
        "#   valor <- readLines(n = 1)\n",
        "#   valor <- as.numeric(valor)\n",
        "#   print(\"El cuadrado de ese número es...\")\n",
        "#   print(valor^2)\n",
        "#   \n",
        "#   print(\"¿Quieres seguir jugando? escribe SI o NO\")\n",
        "#   Respuesta <- readLines(n = 1)\n",
        "#   \n",
        "#   if(Respuesta==\"SI\") {\n",
        "#     i=0\n",
        "#   } else \n",
        "#   {\n",
        "#     i=1\n",
        "#   }\n",
        "#   \n",
        "# }"
      ],
      "metadata": {
        "id": "dsAvd4jv0QC-"
      },
      "execution_count": null,
      "outputs": []
    },
    {
      "cell_type": "markdown",
      "source": [
        "# Ejercicio 4\n",
        "\n",
        " Usando bucles realiza la siguiente tarea sobre el dataframe \"datos\":\n",
        " \n",
        " Calcula la suma de los salarios de todos los directivos"
      ],
      "metadata": {
        "id": "2KNZl4jH0cHg"
      }
    },
    {
      "cell_type": "code",
      "source": [
        "#Esta parte extrae los datos desde Github. \n",
        "github_link <- \"https://github.com/AndresMtnezGlez/MABA/raw/main/2_datos.xlsx\"\n",
        "library(httr)\n",
        "temp_file <- tempfile(fileext = \".xlsx\")\n",
        "req <- GET(github_link, \n",
        "          # authenticate using GITHUB_PAT\n",
        "           authenticate(Sys.getenv(\"GITHUB_PAT\"), \"\"),\n",
        "          # write result to disk\n",
        "           write_disk(path = temp_file))\n",
        "datos <- readxl::read_excel(temp_file)\n"
      ],
      "metadata": {
        "id": "wVfaTKf01ol1"
      },
      "execution_count": null,
      "outputs": []
    },
    {
      "cell_type": "code",
      "source": [
        "summary(datos)\n",
        "\n",
        "SALARIO_DIRECTIVOS=0\n",
        "\n",
        "for (i in 1:nrow(datos))\n",
        "{\n",
        "  if(datos[i,7]==\"DIRECTIVO\")\n",
        "  {\n",
        "    SALARIO_DIRECTIVOS=SALARIO_DIRECTIVOS+datos[i,1]\n",
        "    \n",
        "  }else{}\n",
        "}\n",
        "SALARIO_DIRECTIVOS"
      ],
      "metadata": {
        "colab": {
          "base_uri": "https://localhost:8080/",
          "height": 407
        },
        "id": "XtxsQuL60iq1",
        "outputId": "1ac14a92-8a77-4251-f1c5-15d347c4b6e1"
      },
      "execution_count": null,
      "outputs": [
        {
          "output_type": "display_data",
          "data": {
            "text/plain": [
              "    salario           vacaciones   salario_por_hora     impuestos      \n",
              " Min.   :   357.4   Min.   : 2.0   Min.   :  0.8817   Min.   :    0.0  \n",
              " 1st Qu.: 17455.1   1st Qu.:22.0   1st Qu.:  9.1576   1st Qu.:  151.5  \n",
              " Median : 25322.6   Median :22.0   Median : 13.0446   Median :  301.9  \n",
              " Mean   : 30222.4   Mean   :23.4   Mean   : 15.7115   Mean   :  448.9  \n",
              " 3rd Qu.: 37336.2   3rd Qu.:25.0   3rd Qu.: 18.9490   3rd Qu.:  548.1  \n",
              " Max.   :882929.1   Max.   :84.0   Max.   :434.1766   Max.   :13895.2  \n",
              "     sexo             mercado           categoria           distancia    \n",
              " Length:4729        Length:4729        Length:4729        Min.   : 1.00  \n",
              " Class :character   Class :character   Class :character   1st Qu.:20.00  \n",
              " Mode  :character   Mode  :character   Mode  :character   Median :40.00  \n",
              "                                                          Mean   :40.49  \n",
              "                                                          3rd Qu.:61.00  \n",
              "                                                          Max.   :80.00  "
            ]
          },
          "metadata": {}
        },
        {
          "output_type": "display_data",
          "data": {
            "text/html": [
              "<table class=\"dataframe\">\n",
              "<caption>A data.frame: 1 × 1</caption>\n",
              "<thead>\n",
              "\t<tr><th scope=col>salario</th></tr>\n",
              "\t<tr><th scope=col>&lt;dbl&gt;</th></tr>\n",
              "</thead>\n",
              "<tbody>\n",
              "\t<tr><td>8117807</td></tr>\n",
              "</tbody>\n",
              "</table>\n"
            ],
            "text/markdown": "\nA data.frame: 1 × 1\n\n| salario &lt;dbl&gt; |\n|---|\n| 8117807 |\n\n",
            "text/latex": "A data.frame: 1 × 1\n\\begin{tabular}{l}\n salario\\\\\n <dbl>\\\\\n\\hline\n\t 8117807\\\\\n\\end{tabular}\n",
            "text/plain": [
              "  salario\n",
              "1 8117807"
            ]
          },
          "metadata": {}
        }
      ]
    },
    {
      "cell_type": "markdown",
      "source": [
        "Podemos comprobarlo usando la función subset, que estudiaremos más adelante\n"
      ],
      "metadata": {
        "id": "s1CpXcN82ErG"
      }
    },
    {
      "cell_type": "code",
      "source": [
        "DIRECTIVOS=subset(datos,datos$categoria==\"TECNICO\")\n",
        "sum(DIRECTIVOS$salario)"
      ],
      "metadata": {
        "id": "FJcPUjo62Gqu",
        "colab": {
          "base_uri": "https://localhost:8080/",
          "height": 34
        },
        "outputId": "e8030a32-8c9a-4453-e109-b16a287278e6"
      },
      "execution_count": null,
      "outputs": [
        {
          "output_type": "display_data",
          "data": {
            "text/html": [
              "52040283.88"
            ],
            "text/markdown": "52040283.88",
            "text/latex": "52040283.88",
            "text/plain": [
              "[1] 52040284"
            ]
          },
          "metadata": {}
        }
      ]
    },
    {
      "cell_type": "code",
      "source": [
        "52040283.88^1.5"
      ],
      "metadata": {
        "colab": {
          "base_uri": "https://localhost:8080/",
          "height": 34
        },
        "id": "looLFeba9fD6",
        "outputId": "ee1cc744-4f17-47f5-e205-65d6cbadce71"
      },
      "execution_count": null,
      "outputs": [
        {
          "output_type": "display_data",
          "data": {
            "text/html": [
              "375413153812.338"
            ],
            "text/markdown": "375413153812.338",
            "text/latex": "375413153812.338",
            "text/plain": [
              "[1] 375413153812"
            ]
          },
          "metadata": {}
        }
      ]
    },
    {
      "cell_type": "markdown",
      "source": [
        "# PRACTICA FINAL PARTE 1\n",
        "\n",
        "Carga el archivo de datos \"IBM.Kaggle.Employee.Attrition.csv\"\n",
        "*   WARNING 1: los datos tienen encabezado (indicalo al cargar los datos)\n",
        "*   WARNING 2: ¿Qué separador usa el archivo? Abrelo y miralo\n",
        "\n",
        "Son datos obtenido de Kaggle (plataforma muy útil para aprender R)\n",
        "\n",
        "Usa read.csv (no la carga desde el menu)"
      ],
      "metadata": {
        "id": "xGae-z2z2Isq"
      }
    },
    {
      "cell_type": "code",
      "source": [
        "DATOS_KAGGLE <- read.csv(url(\"https://github.com/AndresMtnezGlez/MABA/raw/main/2_IBM.Kaggle.Employee.Attrition.csv\"))"
      ],
      "metadata": {
        "colab": {
          "base_uri": "https://localhost:8080/",
          "height": 1000
        },
        "id": "vLTqGwZj2XA9",
        "outputId": "2d6f90eb-57dd-4fc5-f294-dffbda34e2d8"
      },
      "execution_count": null,
      "outputs": [
        {
          "output_type": "display_data",
          "data": {
            "text/plain": [
              "     Age Attrition BusinessTravel    DailyRate Department            \n",
              "1    41  Yes       Travel_Rarely     1102      Sales                 \n",
              "2    49  No        Travel_Frequently  279      Research & Development\n",
              "3    37  Yes       Travel_Rarely     1373      Research & Development\n",
              "4    33  No        Travel_Frequently 1392      Research & Development\n",
              "5    27  No        Travel_Rarely      591      Research & Development\n",
              "6    32  No        Travel_Frequently 1005      Research & Development\n",
              "7    59  No        Travel_Rarely     1324      Research & Development\n",
              "8    30  No        Travel_Rarely     1358      Research & Development\n",
              "9    38  No        Travel_Frequently  216      Research & Development\n",
              "10   36  No        Travel_Rarely     1299      Research & Development\n",
              "11   35  No        Travel_Rarely      809      Research & Development\n",
              "12   29  No        Travel_Rarely      153      Research & Development\n",
              "13   31  No        Travel_Rarely      670      Research & Development\n",
              "14   34  No        Travel_Rarely     1346      Research & Development\n",
              "15   28  Yes       Travel_Rarely      103      Research & Development\n",
              "16   29  No        Travel_Rarely     1389      Research & Development\n",
              "17   32  No        Travel_Rarely      334      Research & Development\n",
              "18   22  No        Non-Travel        1123      Research & Development\n",
              "19   53  No        Travel_Rarely     1219      Sales                 \n",
              "20   38  No        Travel_Rarely      371      Research & Development\n",
              "21   24  No        Non-Travel         673      Research & Development\n",
              "22   36  Yes       Travel_Rarely     1218      Sales                 \n",
              "23   34  No        Travel_Rarely      419      Research & Development\n",
              "24   21  No        Travel_Rarely      391      Research & Development\n",
              "25   34  Yes       Travel_Rarely      699      Research & Development\n",
              "26   53  No        Travel_Rarely     1282      Research & Development\n",
              "27   32  Yes       Travel_Frequently 1125      Research & Development\n",
              "28   42  No        Travel_Rarely      691      Sales                 \n",
              "29   44  No        Travel_Rarely      477      Research & Development\n",
              "30   46  No        Travel_Rarely      705      Sales                 \n",
              "⋮    ⋮   ⋮         ⋮                 ⋮         ⋮                     \n",
              "1441 36  No        Travel_Frequently  688      Research & Development\n",
              "1442 56  No        Non-Travel         667      Research & Development\n",
              "1443 29  Yes       Travel_Rarely     1092      Research & Development\n",
              "1444 42  No        Travel_Rarely      300      Research & Development\n",
              "1445 56  Yes       Travel_Rarely      310      Research & Development\n",
              "1446 41  No        Travel_Rarely      582      Research & Development\n",
              "1447 34  No        Travel_Rarely      704      Sales                 \n",
              "1448 36  No        Non-Travel         301      Sales                 \n",
              "1449 41  No        Travel_Rarely      930      Sales                 \n",
              "1450 32  No        Travel_Rarely      529      Research & Development\n",
              "1451 35  No        Travel_Rarely     1146      Human Resources       \n",
              "1452 38  No        Travel_Rarely      345      Sales                 \n",
              "1453 50  Yes       Travel_Frequently  878      Sales                 \n",
              "1454 36  No        Travel_Rarely     1120      Sales                 \n",
              "1455 45  No        Travel_Rarely      374      Sales                 \n",
              "1456 40  No        Travel_Rarely     1322      Research & Development\n",
              "1457 35  No        Travel_Frequently 1199      Research & Development\n",
              "1458 40  No        Travel_Rarely     1194      Research & Development\n",
              "1459 35  No        Travel_Rarely      287      Research & Development\n",
              "1460 29  No        Travel_Rarely     1378      Research & Development\n",
              "1461 29  No        Travel_Rarely      468      Research & Development\n",
              "1462 50  Yes       Travel_Rarely      410      Sales                 \n",
              "1463 39  No        Travel_Rarely      722      Sales                 \n",
              "1464 31  No        Non-Travel         325      Research & Development\n",
              "1465 26  No        Travel_Rarely     1167      Sales                 \n",
              "1466 36  No        Travel_Frequently  884      Research & Development\n",
              "1467 39  No        Travel_Rarely      613      Research & Development\n",
              "1468 27  No        Travel_Rarely      155      Research & Development\n",
              "1469 49  No        Travel_Frequently 1023      Sales                 \n",
              "1470 34  No        Travel_Rarely      628      Research & Development\n",
              "     DistanceFromHome Education EducationField   EmployeeCount EmployeeNumber ⋯\n",
              "1     1               2         Life Sciences    1              1             ⋯\n",
              "2     8               1         Life Sciences    1              2             ⋯\n",
              "3     2               2         Other            1              4             ⋯\n",
              "4     3               4         Life Sciences    1              5             ⋯\n",
              "5     2               1         Medical          1              7             ⋯\n",
              "6     2               2         Life Sciences    1              8             ⋯\n",
              "7     3               3         Medical          1             10             ⋯\n",
              "8    24               1         Life Sciences    1             11             ⋯\n",
              "9    23               3         Life Sciences    1             12             ⋯\n",
              "10   27               3         Medical          1             13             ⋯\n",
              "11   16               3         Medical          1             14             ⋯\n",
              "12   15               2         Life Sciences    1             15             ⋯\n",
              "13   26               1         Life Sciences    1             16             ⋯\n",
              "14   19               2         Medical          1             18             ⋯\n",
              "15   24               3         Life Sciences    1             19             ⋯\n",
              "16   21               4         Life Sciences    1             20             ⋯\n",
              "17    5               2         Life Sciences    1             21             ⋯\n",
              "18   16               2         Medical          1             22             ⋯\n",
              "19    2               4         Life Sciences    1             23             ⋯\n",
              "20    2               3         Life Sciences    1             24             ⋯\n",
              "21   11               2         Other            1             26             ⋯\n",
              "22    9               4         Life Sciences    1             27             ⋯\n",
              "23    7               4         Life Sciences    1             28             ⋯\n",
              "24   15               2         Life Sciences    1             30             ⋯\n",
              "25    6               1         Medical          1             31             ⋯\n",
              "26    5               3         Other            1             32             ⋯\n",
              "27   16               1         Life Sciences    1             33             ⋯\n",
              "28    8               4         Marketing        1             35             ⋯\n",
              "29    7               4         Medical          1             36             ⋯\n",
              "30    2               4         Marketing        1             38             ⋯\n",
              "⋮    ⋮                ⋮         ⋮                ⋮             ⋮              ⋱\n",
              "1441  4               2         Life Sciences    1             2025           ⋯\n",
              "1442  1               4         Life Sciences    1             2026           ⋯\n",
              "1443  1               4         Medical          1             2027           ⋯\n",
              "1444  2               3         Life Sciences    1             2031           ⋯\n",
              "1445  7               2         Technical Degree 1             2032           ⋯\n",
              "1446 28               4         Life Sciences    1             2034           ⋯\n",
              "1447 28               3         Marketing        1             2035           ⋯\n",
              "1448 15               4         Marketing        1             2036           ⋯\n",
              "1449  3               3         Life Sciences    1             2037           ⋯\n",
              "1450  2               3         Technical Degree 1             2038           ⋯\n",
              "1451 26               4         Life Sciences    1             2040           ⋯\n",
              "1452 10               2         Life Sciences    1             2041           ⋯\n",
              "1453  1               4         Life Sciences    1             2044           ⋯\n",
              "1454 11               4         Marketing        1             2045           ⋯\n",
              "1455 20               3         Life Sciences    1             2046           ⋯\n",
              "1456  2               4         Life Sciences    1             2048           ⋯\n",
              "1457 18               4         Life Sciences    1             2049           ⋯\n",
              "1458  2               4         Medical          1             2051           ⋯\n",
              "1459  1               4         Life Sciences    1             2052           ⋯\n",
              "1460 13               2         Other            1             2053           ⋯\n",
              "1461 28               4         Medical          1             2054           ⋯\n",
              "1462 28               3         Marketing        1             2055           ⋯\n",
              "1463 24               1         Marketing        1             2056           ⋯\n",
              "1464  5               3         Medical          1             2057           ⋯\n",
              "1465  5               3         Other            1             2060           ⋯\n",
              "1466 23               2         Medical          1             2061           ⋯\n",
              "1467  6               1         Medical          1             2062           ⋯\n",
              "1468  4               3         Life Sciences    1             2064           ⋯\n",
              "1469  2               3         Medical          1             2065           ⋯\n",
              "1470  8               3         Medical          1             2068           ⋯\n",
              "     RelationshipSatisfaction StandardHours StockOptionLevel TotalWorkingYears\n",
              "1    1                        80            0                 8               \n",
              "2    4                        80            1                10               \n",
              "3    2                        80            0                 7               \n",
              "4    3                        80            0                 8               \n",
              "5    4                        80            1                 6               \n",
              "6    3                        80            0                 8               \n",
              "7    1                        80            3                12               \n",
              "8    2                        80            1                 1               \n",
              "9    2                        80            0                10               \n",
              "10   2                        80            2                17               \n",
              "11   3                        80            1                 6               \n",
              "12   4                        80            0                10               \n",
              "13   4                        80            1                 5               \n",
              "14   3                        80            1                 3               \n",
              "15   2                        80            0                 6               \n",
              "16   3                        80            1                10               \n",
              "17   4                        80            2                 7               \n",
              "18   2                        80            2                 1               \n",
              "19   3                        80            0                31               \n",
              "20   3                        80            0                 6               \n",
              "21   4                        80            1                 5               \n",
              "22   2                        80            0                10               \n",
              "23   3                        80            0                13               \n",
              "24   4                        80            0                 0               \n",
              "25   3                        80            0                 8               \n",
              "26   4                        80            1                26               \n",
              "27   2                        80            0                10               \n",
              "28   4                        80            1                10               \n",
              "29   4                        80            1                24               \n",
              "30   4                        80            0                22               \n",
              "⋮    ⋮                        ⋮             ⋮                ⋮                \n",
              "1441 2                        80            3                18               \n",
              "1442 1                        80            1                13               \n",
              "1443 2                        80            3                 4               \n",
              "1444 1                        80            0                24               \n",
              "1445 4                        80            1                14               \n",
              "1446 3                        80            1                21               \n",
              "1447 4                        80            2                 8               \n",
              "1448 1                        80            1                15               \n",
              "1449 3                        80            1                14               \n",
              "1450 4                        80            0                 4               \n",
              "1451 3                        80            0                 9               \n",
              "1452 3                        80            1                10               \n",
              "1453 4                        80            2                12               \n",
              "1454 1                        80            1                 8               \n",
              "1455 3                        80            0                 8               \n",
              "1456 4                        80            0                 8               \n",
              "1457 4                        80            2                10               \n",
              "1458 2                        80            3                20               \n",
              "1459 4                        80            1                 4               \n",
              "1460 1                        80            1                10               \n",
              "1461 2                        80            0                 5               \n",
              "1462 2                        80            1                20               \n",
              "1463 1                        80            1                21               \n",
              "1464 2                        80            0                10               \n",
              "1465 4                        80            0                 5               \n",
              "1466 3                        80            1                17               \n",
              "1467 1                        80            1                 9               \n",
              "1468 2                        80            1                 6               \n",
              "1469 4                        80            0                17               \n",
              "1470 1                        80            0                 6               \n",
              "     TrainingTimesLastYear WorkLifeBalance YearsAtCompany YearsInCurrentRole\n",
              "1    0                     1                6              4                \n",
              "2    3                     3               10              7                \n",
              "3    3                     3                0              0                \n",
              "4    3                     3                8              7                \n",
              "5    3                     3                2              2                \n",
              "6    2                     2                7              7                \n",
              "7    3                     2                1              0                \n",
              "8    2                     3                1              0                \n",
              "9    2                     3                9              7                \n",
              "10   3                     2                7              7                \n",
              "11   5                     3                5              4                \n",
              "12   3                     3                9              5                \n",
              "13   1                     2                5              2                \n",
              "14   2                     3                2              2                \n",
              "15   4                     3                4              2                \n",
              "16   1                     3               10              9                \n",
              "17   5                     2                6              2                \n",
              "18   2                     2                1              0                \n",
              "19   3                     3               25              8                \n",
              "20   3                     3                3              2                \n",
              "21   5                     2                4              2                \n",
              "22   4                     3                5              3                \n",
              "23   4                     3               12              6                \n",
              "24   6                     3                0              0                \n",
              "25   2                     3                4              2                \n",
              "26   3                     2               14             13                \n",
              "27   5                     3               10              2                \n",
              "28   2                     3                9              7                \n",
              "29   4                     3               22              6                \n",
              "30   2                     2                2              2                \n",
              "⋮    ⋮                     ⋮               ⋮              ⋮                 \n",
              "1441 3                     3                4              2                \n",
              "1442 2                     2               13             12                \n",
              "1443 3                     4                2              2                \n",
              "1444 2                     2               22              6                \n",
              "1445 4                     1               10              9                \n",
              "1446 3                     3               20              7                \n",
              "1447 2                     3                8              7                \n",
              "1448 4                     2               15             12                \n",
              "1449 5                     3                5              4                \n",
              "1450 4                     3                4              2                \n",
              "1451 2                     3                9              0                \n",
              "1452 1                     3               10              7                \n",
              "1453 3                     3                6              3                \n",
              "1454 2                     2                6              3                \n",
              "1455 3                     3                5              3                \n",
              "1456 2                     3                2              2                \n",
              "1457 2                     4               10              2                \n",
              "1458 2                     3                5              3                \n",
              "1459 5                     3                4              3                \n",
              "1460 2                     3                4              3                \n",
              "1461 3                     1                5              4                \n",
              "1462 3                     3                3              2                \n",
              "1463 2                     2               20              9                \n",
              "1464 2                     3                9              4                \n",
              "1465 2                     3                4              2                \n",
              "1466 3                     3                5              2                \n",
              "1467 5                     3                7              7                \n",
              "1468 0                     3                6              2                \n",
              "1469 3                     2                9              6                \n",
              "1470 3                     4                4              3                \n",
              "     YearsSinceLastPromotion YearsWithCurrManager\n",
              "1    0                        5                  \n",
              "2    1                        7                  \n",
              "3    0                        0                  \n",
              "4    3                        0                  \n",
              "5    2                        2                  \n",
              "6    3                        6                  \n",
              "7    0                        0                  \n",
              "8    0                        0                  \n",
              "9    1                        8                  \n",
              "10   7                        7                  \n",
              "11   0                        3                  \n",
              "12   0                        8                  \n",
              "13   4                        3                  \n",
              "14   1                        2                  \n",
              "15   0                        3                  \n",
              "16   8                        8                  \n",
              "17   0                        5                  \n",
              "18   0                        0                  \n",
              "19   3                        7                  \n",
              "20   1                        2                  \n",
              "21   1                        3                  \n",
              "22   0                        3                  \n",
              "23   2                       11                  \n",
              "24   0                        0                  \n",
              "25   1                        3                  \n",
              "26   4                        8                  \n",
              "27   6                        7                  \n",
              "28   4                        2                  \n",
              "29   5                       17                  \n",
              "30   2                        1                  \n",
              "⋮    ⋮                       ⋮                   \n",
              "1441  0                       2                  \n",
              "1442  1                       9                  \n",
              "1443  2                       2                  \n",
              "1444  4                      14                  \n",
              "1445  9                       8                  \n",
              "1446  0                      10                  \n",
              "1447  1                       7                  \n",
              "1448 11                      11                  \n",
              "1449  0                       4                  \n",
              "1450  1                       2                  \n",
              "1451  1                       7                  \n",
              "1452  1                       9                  \n",
              "1453  0                       1                  \n",
              "1454  0                       0                  \n",
              "1455  0                       1                  \n",
              "1456  2                       2                  \n",
              "1457  0                       2                  \n",
              "1458  0                       2                  \n",
              "1459  1                       1                  \n",
              "1460  0                       3                  \n",
              "1461  0                       4                  \n",
              "1462  2                       0                  \n",
              "1463  9                       6                  \n",
              "1464  1                       7                  \n",
              "1465  0                       0                  \n",
              "1466  0                       3                  \n",
              "1467  1                       7                  \n",
              "1468  0                       3                  \n",
              "1469  0                       8                  \n",
              "1470  1                       2                  "
            ],
            "text/html": [
              "<table class=\"dataframe\">\n",
              "<caption>A data.frame: 1470 × 35</caption>\n",
              "<thead>\n",
              "\t<tr><th scope=col>Age</th><th scope=col>Attrition</th><th scope=col>BusinessTravel</th><th scope=col>DailyRate</th><th scope=col>Department</th><th scope=col>DistanceFromHome</th><th scope=col>Education</th><th scope=col>EducationField</th><th scope=col>EmployeeCount</th><th scope=col>EmployeeNumber</th><th scope=col>⋯</th><th scope=col>RelationshipSatisfaction</th><th scope=col>StandardHours</th><th scope=col>StockOptionLevel</th><th scope=col>TotalWorkingYears</th><th scope=col>TrainingTimesLastYear</th><th scope=col>WorkLifeBalance</th><th scope=col>YearsAtCompany</th><th scope=col>YearsInCurrentRole</th><th scope=col>YearsSinceLastPromotion</th><th scope=col>YearsWithCurrManager</th></tr>\n",
              "\t<tr><th scope=col>&lt;int&gt;</th><th scope=col>&lt;chr&gt;</th><th scope=col>&lt;chr&gt;</th><th scope=col>&lt;int&gt;</th><th scope=col>&lt;chr&gt;</th><th scope=col>&lt;int&gt;</th><th scope=col>&lt;int&gt;</th><th scope=col>&lt;chr&gt;</th><th scope=col>&lt;int&gt;</th><th scope=col>&lt;int&gt;</th><th scope=col>⋯</th><th scope=col>&lt;int&gt;</th><th scope=col>&lt;int&gt;</th><th scope=col>&lt;int&gt;</th><th scope=col>&lt;int&gt;</th><th scope=col>&lt;int&gt;</th><th scope=col>&lt;int&gt;</th><th scope=col>&lt;int&gt;</th><th scope=col>&lt;int&gt;</th><th scope=col>&lt;int&gt;</th><th scope=col>&lt;int&gt;</th></tr>\n",
              "</thead>\n",
              "<tbody>\n",
              "\t<tr><td>41</td><td>Yes</td><td>Travel_Rarely    </td><td>1102</td><td>Sales                 </td><td> 1</td><td>2</td><td>Life Sciences</td><td>1</td><td> 1</td><td>⋯</td><td>1</td><td>80</td><td>0</td><td> 8</td><td>0</td><td>1</td><td> 6</td><td> 4</td><td>0</td><td> 5</td></tr>\n",
              "\t<tr><td>49</td><td>No </td><td>Travel_Frequently</td><td> 279</td><td>Research &amp; Development</td><td> 8</td><td>1</td><td>Life Sciences</td><td>1</td><td> 2</td><td>⋯</td><td>4</td><td>80</td><td>1</td><td>10</td><td>3</td><td>3</td><td>10</td><td> 7</td><td>1</td><td> 7</td></tr>\n",
              "\t<tr><td>37</td><td>Yes</td><td><span style=white-space:pre-wrap>Travel_Rarely    </span></td><td>1373</td><td>Research &amp; Development</td><td> 2</td><td>2</td><td><span style=white-space:pre-wrap>Other        </span></td><td>1</td><td> 4</td><td>⋯</td><td>2</td><td>80</td><td>0</td><td> 7</td><td>3</td><td>3</td><td> 0</td><td> 0</td><td>0</td><td> 0</td></tr>\n",
              "\t<tr><td>33</td><td>No </td><td>Travel_Frequently</td><td>1392</td><td>Research &amp; Development</td><td> 3</td><td>4</td><td>Life Sciences</td><td>1</td><td> 5</td><td>⋯</td><td>3</td><td>80</td><td>0</td><td> 8</td><td>3</td><td>3</td><td> 8</td><td> 7</td><td>3</td><td> 0</td></tr>\n",
              "\t<tr><td>27</td><td>No </td><td><span style=white-space:pre-wrap>Travel_Rarely    </span></td><td> 591</td><td>Research &amp; Development</td><td> 2</td><td>1</td><td><span style=white-space:pre-wrap>Medical      </span></td><td>1</td><td> 7</td><td>⋯</td><td>4</td><td>80</td><td>1</td><td> 6</td><td>3</td><td>3</td><td> 2</td><td> 2</td><td>2</td><td> 2</td></tr>\n",
              "\t<tr><td>32</td><td>No </td><td>Travel_Frequently</td><td>1005</td><td>Research &amp; Development</td><td> 2</td><td>2</td><td>Life Sciences</td><td>1</td><td> 8</td><td>⋯</td><td>3</td><td>80</td><td>0</td><td> 8</td><td>2</td><td>2</td><td> 7</td><td> 7</td><td>3</td><td> 6</td></tr>\n",
              "\t<tr><td>59</td><td>No </td><td><span style=white-space:pre-wrap>Travel_Rarely    </span></td><td>1324</td><td>Research &amp; Development</td><td> 3</td><td>3</td><td><span style=white-space:pre-wrap>Medical      </span></td><td>1</td><td>10</td><td>⋯</td><td>1</td><td>80</td><td>3</td><td>12</td><td>3</td><td>2</td><td> 1</td><td> 0</td><td>0</td><td> 0</td></tr>\n",
              "\t<tr><td>30</td><td>No </td><td><span style=white-space:pre-wrap>Travel_Rarely    </span></td><td>1358</td><td>Research &amp; Development</td><td>24</td><td>1</td><td>Life Sciences</td><td>1</td><td>11</td><td>⋯</td><td>2</td><td>80</td><td>1</td><td> 1</td><td>2</td><td>3</td><td> 1</td><td> 0</td><td>0</td><td> 0</td></tr>\n",
              "\t<tr><td>38</td><td>No </td><td>Travel_Frequently</td><td> 216</td><td>Research &amp; Development</td><td>23</td><td>3</td><td>Life Sciences</td><td>1</td><td>12</td><td>⋯</td><td>2</td><td>80</td><td>0</td><td>10</td><td>2</td><td>3</td><td> 9</td><td> 7</td><td>1</td><td> 8</td></tr>\n",
              "\t<tr><td>36</td><td>No </td><td><span style=white-space:pre-wrap>Travel_Rarely    </span></td><td>1299</td><td>Research &amp; Development</td><td>27</td><td>3</td><td><span style=white-space:pre-wrap>Medical      </span></td><td>1</td><td>13</td><td>⋯</td><td>2</td><td>80</td><td>2</td><td>17</td><td>3</td><td>2</td><td> 7</td><td> 7</td><td>7</td><td> 7</td></tr>\n",
              "\t<tr><td>35</td><td>No </td><td><span style=white-space:pre-wrap>Travel_Rarely    </span></td><td> 809</td><td>Research &amp; Development</td><td>16</td><td>3</td><td><span style=white-space:pre-wrap>Medical      </span></td><td>1</td><td>14</td><td>⋯</td><td>3</td><td>80</td><td>1</td><td> 6</td><td>5</td><td>3</td><td> 5</td><td> 4</td><td>0</td><td> 3</td></tr>\n",
              "\t<tr><td>29</td><td>No </td><td><span style=white-space:pre-wrap>Travel_Rarely    </span></td><td> 153</td><td>Research &amp; Development</td><td>15</td><td>2</td><td>Life Sciences</td><td>1</td><td>15</td><td>⋯</td><td>4</td><td>80</td><td>0</td><td>10</td><td>3</td><td>3</td><td> 9</td><td> 5</td><td>0</td><td> 8</td></tr>\n",
              "\t<tr><td>31</td><td>No </td><td><span style=white-space:pre-wrap>Travel_Rarely    </span></td><td> 670</td><td>Research &amp; Development</td><td>26</td><td>1</td><td>Life Sciences</td><td>1</td><td>16</td><td>⋯</td><td>4</td><td>80</td><td>1</td><td> 5</td><td>1</td><td>2</td><td> 5</td><td> 2</td><td>4</td><td> 3</td></tr>\n",
              "\t<tr><td>34</td><td>No </td><td><span style=white-space:pre-wrap>Travel_Rarely    </span></td><td>1346</td><td>Research &amp; Development</td><td>19</td><td>2</td><td><span style=white-space:pre-wrap>Medical      </span></td><td>1</td><td>18</td><td>⋯</td><td>3</td><td>80</td><td>1</td><td> 3</td><td>2</td><td>3</td><td> 2</td><td> 2</td><td>1</td><td> 2</td></tr>\n",
              "\t<tr><td>28</td><td>Yes</td><td><span style=white-space:pre-wrap>Travel_Rarely    </span></td><td> 103</td><td>Research &amp; Development</td><td>24</td><td>3</td><td>Life Sciences</td><td>1</td><td>19</td><td>⋯</td><td>2</td><td>80</td><td>0</td><td> 6</td><td>4</td><td>3</td><td> 4</td><td> 2</td><td>0</td><td> 3</td></tr>\n",
              "\t<tr><td>29</td><td>No </td><td><span style=white-space:pre-wrap>Travel_Rarely    </span></td><td>1389</td><td>Research &amp; Development</td><td>21</td><td>4</td><td>Life Sciences</td><td>1</td><td>20</td><td>⋯</td><td>3</td><td>80</td><td>1</td><td>10</td><td>1</td><td>3</td><td>10</td><td> 9</td><td>8</td><td> 8</td></tr>\n",
              "\t<tr><td>32</td><td>No </td><td><span style=white-space:pre-wrap>Travel_Rarely    </span></td><td> 334</td><td>Research &amp; Development</td><td> 5</td><td>2</td><td>Life Sciences</td><td>1</td><td>21</td><td>⋯</td><td>4</td><td>80</td><td>2</td><td> 7</td><td>5</td><td>2</td><td> 6</td><td> 2</td><td>0</td><td> 5</td></tr>\n",
              "\t<tr><td>22</td><td>No </td><td><span style=white-space:pre-wrap>Non-Travel       </span></td><td>1123</td><td>Research &amp; Development</td><td>16</td><td>2</td><td><span style=white-space:pre-wrap>Medical      </span></td><td>1</td><td>22</td><td>⋯</td><td>2</td><td>80</td><td>2</td><td> 1</td><td>2</td><td>2</td><td> 1</td><td> 0</td><td>0</td><td> 0</td></tr>\n",
              "\t<tr><td>53</td><td>No </td><td>Travel_Rarely    </td><td>1219</td><td>Sales                 </td><td> 2</td><td>4</td><td>Life Sciences</td><td>1</td><td>23</td><td>⋯</td><td>3</td><td>80</td><td>0</td><td>31</td><td>3</td><td>3</td><td>25</td><td> 8</td><td>3</td><td> 7</td></tr>\n",
              "\t<tr><td>38</td><td>No </td><td><span style=white-space:pre-wrap>Travel_Rarely    </span></td><td> 371</td><td>Research &amp; Development</td><td> 2</td><td>3</td><td>Life Sciences</td><td>1</td><td>24</td><td>⋯</td><td>3</td><td>80</td><td>0</td><td> 6</td><td>3</td><td>3</td><td> 3</td><td> 2</td><td>1</td><td> 2</td></tr>\n",
              "\t<tr><td>24</td><td>No </td><td><span style=white-space:pre-wrap>Non-Travel       </span></td><td> 673</td><td>Research &amp; Development</td><td>11</td><td>2</td><td><span style=white-space:pre-wrap>Other        </span></td><td>1</td><td>26</td><td>⋯</td><td>4</td><td>80</td><td>1</td><td> 5</td><td>5</td><td>2</td><td> 4</td><td> 2</td><td>1</td><td> 3</td></tr>\n",
              "\t<tr><td>36</td><td>Yes</td><td>Travel_Rarely    </td><td>1218</td><td>Sales                 </td><td> 9</td><td>4</td><td>Life Sciences</td><td>1</td><td>27</td><td>⋯</td><td>2</td><td>80</td><td>0</td><td>10</td><td>4</td><td>3</td><td> 5</td><td> 3</td><td>0</td><td> 3</td></tr>\n",
              "\t<tr><td>34</td><td>No </td><td><span style=white-space:pre-wrap>Travel_Rarely    </span></td><td> 419</td><td>Research &amp; Development</td><td> 7</td><td>4</td><td>Life Sciences</td><td>1</td><td>28</td><td>⋯</td><td>3</td><td>80</td><td>0</td><td>13</td><td>4</td><td>3</td><td>12</td><td> 6</td><td>2</td><td>11</td></tr>\n",
              "\t<tr><td>21</td><td>No </td><td><span style=white-space:pre-wrap>Travel_Rarely    </span></td><td> 391</td><td>Research &amp; Development</td><td>15</td><td>2</td><td>Life Sciences</td><td>1</td><td>30</td><td>⋯</td><td>4</td><td>80</td><td>0</td><td> 0</td><td>6</td><td>3</td><td> 0</td><td> 0</td><td>0</td><td> 0</td></tr>\n",
              "\t<tr><td>34</td><td>Yes</td><td><span style=white-space:pre-wrap>Travel_Rarely    </span></td><td> 699</td><td>Research &amp; Development</td><td> 6</td><td>1</td><td><span style=white-space:pre-wrap>Medical      </span></td><td>1</td><td>31</td><td>⋯</td><td>3</td><td>80</td><td>0</td><td> 8</td><td>2</td><td>3</td><td> 4</td><td> 2</td><td>1</td><td> 3</td></tr>\n",
              "\t<tr><td>53</td><td>No </td><td><span style=white-space:pre-wrap>Travel_Rarely    </span></td><td>1282</td><td>Research &amp; Development</td><td> 5</td><td>3</td><td><span style=white-space:pre-wrap>Other        </span></td><td>1</td><td>32</td><td>⋯</td><td>4</td><td>80</td><td>1</td><td>26</td><td>3</td><td>2</td><td>14</td><td>13</td><td>4</td><td> 8</td></tr>\n",
              "\t<tr><td>32</td><td>Yes</td><td>Travel_Frequently</td><td>1125</td><td>Research &amp; Development</td><td>16</td><td>1</td><td>Life Sciences</td><td>1</td><td>33</td><td>⋯</td><td>2</td><td>80</td><td>0</td><td>10</td><td>5</td><td>3</td><td>10</td><td> 2</td><td>6</td><td> 7</td></tr>\n",
              "\t<tr><td>42</td><td>No </td><td>Travel_Rarely    </td><td> 691</td><td>Sales                 </td><td> 8</td><td>4</td><td>Marketing    </td><td>1</td><td>35</td><td>⋯</td><td>4</td><td>80</td><td>1</td><td>10</td><td>2</td><td>3</td><td> 9</td><td> 7</td><td>4</td><td> 2</td></tr>\n",
              "\t<tr><td>44</td><td>No </td><td><span style=white-space:pre-wrap>Travel_Rarely    </span></td><td> 477</td><td>Research &amp; Development</td><td> 7</td><td>4</td><td><span style=white-space:pre-wrap>Medical      </span></td><td>1</td><td>36</td><td>⋯</td><td>4</td><td>80</td><td>1</td><td>24</td><td>4</td><td>3</td><td>22</td><td> 6</td><td>5</td><td>17</td></tr>\n",
              "\t<tr><td>46</td><td>No </td><td>Travel_Rarely    </td><td> 705</td><td>Sales                 </td><td> 2</td><td>4</td><td>Marketing    </td><td>1</td><td>38</td><td>⋯</td><td>4</td><td>80</td><td>0</td><td>22</td><td>2</td><td>2</td><td> 2</td><td> 2</td><td>2</td><td> 1</td></tr>\n",
              "\t<tr><td>⋮</td><td>⋮</td><td>⋮</td><td>⋮</td><td>⋮</td><td>⋮</td><td>⋮</td><td>⋮</td><td>⋮</td><td>⋮</td><td>⋱</td><td>⋮</td><td>⋮</td><td>⋮</td><td>⋮</td><td>⋮</td><td>⋮</td><td>⋮</td><td>⋮</td><td>⋮</td><td>⋮</td></tr>\n",
              "\t<tr><td>36</td><td>No </td><td>Travel_Frequently</td><td> 688</td><td>Research &amp; Development</td><td> 4</td><td>2</td><td><span style=white-space:pre-wrap>Life Sciences   </span></td><td>1</td><td>2025</td><td>⋯</td><td>2</td><td>80</td><td>3</td><td>18</td><td>3</td><td>3</td><td> 4</td><td> 2</td><td> 0</td><td> 2</td></tr>\n",
              "\t<tr><td>56</td><td>No </td><td><span style=white-space:pre-wrap>Non-Travel       </span></td><td> 667</td><td>Research &amp; Development</td><td> 1</td><td>4</td><td><span style=white-space:pre-wrap>Life Sciences   </span></td><td>1</td><td>2026</td><td>⋯</td><td>1</td><td>80</td><td>1</td><td>13</td><td>2</td><td>2</td><td>13</td><td>12</td><td> 1</td><td> 9</td></tr>\n",
              "\t<tr><td>29</td><td>Yes</td><td><span style=white-space:pre-wrap>Travel_Rarely    </span></td><td>1092</td><td>Research &amp; Development</td><td> 1</td><td>4</td><td><span style=white-space:pre-wrap>Medical         </span></td><td>1</td><td>2027</td><td>⋯</td><td>2</td><td>80</td><td>3</td><td> 4</td><td>3</td><td>4</td><td> 2</td><td> 2</td><td> 2</td><td> 2</td></tr>\n",
              "\t<tr><td>42</td><td>No </td><td><span style=white-space:pre-wrap>Travel_Rarely    </span></td><td> 300</td><td>Research &amp; Development</td><td> 2</td><td>3</td><td><span style=white-space:pre-wrap>Life Sciences   </span></td><td>1</td><td>2031</td><td>⋯</td><td>1</td><td>80</td><td>0</td><td>24</td><td>2</td><td>2</td><td>22</td><td> 6</td><td> 4</td><td>14</td></tr>\n",
              "\t<tr><td>56</td><td>Yes</td><td><span style=white-space:pre-wrap>Travel_Rarely    </span></td><td> 310</td><td>Research &amp; Development</td><td> 7</td><td>2</td><td>Technical Degree</td><td>1</td><td>2032</td><td>⋯</td><td>4</td><td>80</td><td>1</td><td>14</td><td>4</td><td>1</td><td>10</td><td> 9</td><td> 9</td><td> 8</td></tr>\n",
              "\t<tr><td>41</td><td>No </td><td><span style=white-space:pre-wrap>Travel_Rarely    </span></td><td> 582</td><td>Research &amp; Development</td><td>28</td><td>4</td><td><span style=white-space:pre-wrap>Life Sciences   </span></td><td>1</td><td>2034</td><td>⋯</td><td>3</td><td>80</td><td>1</td><td>21</td><td>3</td><td>3</td><td>20</td><td> 7</td><td> 0</td><td>10</td></tr>\n",
              "\t<tr><td>34</td><td>No </td><td>Travel_Rarely    </td><td> 704</td><td>Sales                 </td><td>28</td><td>3</td><td>Marketing       </td><td>1</td><td>2035</td><td>⋯</td><td>4</td><td>80</td><td>2</td><td> 8</td><td>2</td><td>3</td><td> 8</td><td> 7</td><td> 1</td><td> 7</td></tr>\n",
              "\t<tr><td>36</td><td>No </td><td>Non-Travel       </td><td> 301</td><td>Sales                 </td><td>15</td><td>4</td><td>Marketing       </td><td>1</td><td>2036</td><td>⋯</td><td>1</td><td>80</td><td>1</td><td>15</td><td>4</td><td>2</td><td>15</td><td>12</td><td>11</td><td>11</td></tr>\n",
              "\t<tr><td>41</td><td>No </td><td>Travel_Rarely    </td><td> 930</td><td>Sales                 </td><td> 3</td><td>3</td><td>Life Sciences   </td><td>1</td><td>2037</td><td>⋯</td><td>3</td><td>80</td><td>1</td><td>14</td><td>5</td><td>3</td><td> 5</td><td> 4</td><td> 0</td><td> 4</td></tr>\n",
              "\t<tr><td>32</td><td>No </td><td><span style=white-space:pre-wrap>Travel_Rarely    </span></td><td> 529</td><td>Research &amp; Development</td><td> 2</td><td>3</td><td>Technical Degree</td><td>1</td><td>2038</td><td>⋯</td><td>4</td><td>80</td><td>0</td><td> 4</td><td>4</td><td>3</td><td> 4</td><td> 2</td><td> 1</td><td> 2</td></tr>\n",
              "\t<tr><td>35</td><td>No </td><td>Travel_Rarely    </td><td>1146</td><td>Human Resources       </td><td>26</td><td>4</td><td>Life Sciences   </td><td>1</td><td>2040</td><td>⋯</td><td>3</td><td>80</td><td>0</td><td> 9</td><td>2</td><td>3</td><td> 9</td><td> 0</td><td> 1</td><td> 7</td></tr>\n",
              "\t<tr><td>38</td><td>No </td><td>Travel_Rarely    </td><td> 345</td><td>Sales                 </td><td>10</td><td>2</td><td>Life Sciences   </td><td>1</td><td>2041</td><td>⋯</td><td>3</td><td>80</td><td>1</td><td>10</td><td>1</td><td>3</td><td>10</td><td> 7</td><td> 1</td><td> 9</td></tr>\n",
              "\t<tr><td>50</td><td>Yes</td><td>Travel_Frequently</td><td> 878</td><td>Sales                 </td><td> 1</td><td>4</td><td>Life Sciences   </td><td>1</td><td>2044</td><td>⋯</td><td>4</td><td>80</td><td>2</td><td>12</td><td>3</td><td>3</td><td> 6</td><td> 3</td><td> 0</td><td> 1</td></tr>\n",
              "\t<tr><td>36</td><td>No </td><td>Travel_Rarely    </td><td>1120</td><td>Sales                 </td><td>11</td><td>4</td><td>Marketing       </td><td>1</td><td>2045</td><td>⋯</td><td>1</td><td>80</td><td>1</td><td> 8</td><td>2</td><td>2</td><td> 6</td><td> 3</td><td> 0</td><td> 0</td></tr>\n",
              "\t<tr><td>45</td><td>No </td><td>Travel_Rarely    </td><td> 374</td><td>Sales                 </td><td>20</td><td>3</td><td>Life Sciences   </td><td>1</td><td>2046</td><td>⋯</td><td>3</td><td>80</td><td>0</td><td> 8</td><td>3</td><td>3</td><td> 5</td><td> 3</td><td> 0</td><td> 1</td></tr>\n",
              "\t<tr><td>40</td><td>No </td><td><span style=white-space:pre-wrap>Travel_Rarely    </span></td><td>1322</td><td>Research &amp; Development</td><td> 2</td><td>4</td><td><span style=white-space:pre-wrap>Life Sciences   </span></td><td>1</td><td>2048</td><td>⋯</td><td>4</td><td>80</td><td>0</td><td> 8</td><td>2</td><td>3</td><td> 2</td><td> 2</td><td> 2</td><td> 2</td></tr>\n",
              "\t<tr><td>35</td><td>No </td><td>Travel_Frequently</td><td>1199</td><td>Research &amp; Development</td><td>18</td><td>4</td><td><span style=white-space:pre-wrap>Life Sciences   </span></td><td>1</td><td>2049</td><td>⋯</td><td>4</td><td>80</td><td>2</td><td>10</td><td>2</td><td>4</td><td>10</td><td> 2</td><td> 0</td><td> 2</td></tr>\n",
              "\t<tr><td>40</td><td>No </td><td><span style=white-space:pre-wrap>Travel_Rarely    </span></td><td>1194</td><td>Research &amp; Development</td><td> 2</td><td>4</td><td><span style=white-space:pre-wrap>Medical         </span></td><td>1</td><td>2051</td><td>⋯</td><td>2</td><td>80</td><td>3</td><td>20</td><td>2</td><td>3</td><td> 5</td><td> 3</td><td> 0</td><td> 2</td></tr>\n",
              "\t<tr><td>35</td><td>No </td><td><span style=white-space:pre-wrap>Travel_Rarely    </span></td><td> 287</td><td>Research &amp; Development</td><td> 1</td><td>4</td><td><span style=white-space:pre-wrap>Life Sciences   </span></td><td>1</td><td>2052</td><td>⋯</td><td>4</td><td>80</td><td>1</td><td> 4</td><td>5</td><td>3</td><td> 4</td><td> 3</td><td> 1</td><td> 1</td></tr>\n",
              "\t<tr><td>29</td><td>No </td><td><span style=white-space:pre-wrap>Travel_Rarely    </span></td><td>1378</td><td>Research &amp; Development</td><td>13</td><td>2</td><td><span style=white-space:pre-wrap>Other           </span></td><td>1</td><td>2053</td><td>⋯</td><td>1</td><td>80</td><td>1</td><td>10</td><td>2</td><td>3</td><td> 4</td><td> 3</td><td> 0</td><td> 3</td></tr>\n",
              "\t<tr><td>29</td><td>No </td><td><span style=white-space:pre-wrap>Travel_Rarely    </span></td><td> 468</td><td>Research &amp; Development</td><td>28</td><td>4</td><td><span style=white-space:pre-wrap>Medical         </span></td><td>1</td><td>2054</td><td>⋯</td><td>2</td><td>80</td><td>0</td><td> 5</td><td>3</td><td>1</td><td> 5</td><td> 4</td><td> 0</td><td> 4</td></tr>\n",
              "\t<tr><td>50</td><td>Yes</td><td>Travel_Rarely    </td><td> 410</td><td>Sales                 </td><td>28</td><td>3</td><td>Marketing       </td><td>1</td><td>2055</td><td>⋯</td><td>2</td><td>80</td><td>1</td><td>20</td><td>3</td><td>3</td><td> 3</td><td> 2</td><td> 2</td><td> 0</td></tr>\n",
              "\t<tr><td>39</td><td>No </td><td>Travel_Rarely    </td><td> 722</td><td>Sales                 </td><td>24</td><td>1</td><td>Marketing       </td><td>1</td><td>2056</td><td>⋯</td><td>1</td><td>80</td><td>1</td><td>21</td><td>2</td><td>2</td><td>20</td><td> 9</td><td> 9</td><td> 6</td></tr>\n",
              "\t<tr><td>31</td><td>No </td><td><span style=white-space:pre-wrap>Non-Travel       </span></td><td> 325</td><td>Research &amp; Development</td><td> 5</td><td>3</td><td><span style=white-space:pre-wrap>Medical         </span></td><td>1</td><td>2057</td><td>⋯</td><td>2</td><td>80</td><td>0</td><td>10</td><td>2</td><td>3</td><td> 9</td><td> 4</td><td> 1</td><td> 7</td></tr>\n",
              "\t<tr><td>26</td><td>No </td><td>Travel_Rarely    </td><td>1167</td><td>Sales                 </td><td> 5</td><td>3</td><td>Other           </td><td>1</td><td>2060</td><td>⋯</td><td>4</td><td>80</td><td>0</td><td> 5</td><td>2</td><td>3</td><td> 4</td><td> 2</td><td> 0</td><td> 0</td></tr>\n",
              "\t<tr><td>36</td><td>No </td><td>Travel_Frequently</td><td> 884</td><td>Research &amp; Development</td><td>23</td><td>2</td><td><span style=white-space:pre-wrap>Medical         </span></td><td>1</td><td>2061</td><td>⋯</td><td>3</td><td>80</td><td>1</td><td>17</td><td>3</td><td>3</td><td> 5</td><td> 2</td><td> 0</td><td> 3</td></tr>\n",
              "\t<tr><td>39</td><td>No </td><td><span style=white-space:pre-wrap>Travel_Rarely    </span></td><td> 613</td><td>Research &amp; Development</td><td> 6</td><td>1</td><td><span style=white-space:pre-wrap>Medical         </span></td><td>1</td><td>2062</td><td>⋯</td><td>1</td><td>80</td><td>1</td><td> 9</td><td>5</td><td>3</td><td> 7</td><td> 7</td><td> 1</td><td> 7</td></tr>\n",
              "\t<tr><td>27</td><td>No </td><td><span style=white-space:pre-wrap>Travel_Rarely    </span></td><td> 155</td><td>Research &amp; Development</td><td> 4</td><td>3</td><td><span style=white-space:pre-wrap>Life Sciences   </span></td><td>1</td><td>2064</td><td>⋯</td><td>2</td><td>80</td><td>1</td><td> 6</td><td>0</td><td>3</td><td> 6</td><td> 2</td><td> 0</td><td> 3</td></tr>\n",
              "\t<tr><td>49</td><td>No </td><td>Travel_Frequently</td><td>1023</td><td>Sales                 </td><td> 2</td><td>3</td><td>Medical         </td><td>1</td><td>2065</td><td>⋯</td><td>4</td><td>80</td><td>0</td><td>17</td><td>3</td><td>2</td><td> 9</td><td> 6</td><td> 0</td><td> 8</td></tr>\n",
              "\t<tr><td>34</td><td>No </td><td><span style=white-space:pre-wrap>Travel_Rarely    </span></td><td> 628</td><td>Research &amp; Development</td><td> 8</td><td>3</td><td><span style=white-space:pre-wrap>Medical         </span></td><td>1</td><td>2068</td><td>⋯</td><td>1</td><td>80</td><td>0</td><td> 6</td><td>3</td><td>4</td><td> 4</td><td> 3</td><td> 1</td><td> 2</td></tr>\n",
              "</tbody>\n",
              "</table>\n"
            ],
            "text/markdown": "\nA data.frame: 1470 × 35\n\n| Age &lt;int&gt; | Attrition &lt;chr&gt; | BusinessTravel &lt;chr&gt; | DailyRate &lt;int&gt; | Department &lt;chr&gt; | DistanceFromHome &lt;int&gt; | Education &lt;int&gt; | EducationField &lt;chr&gt; | EmployeeCount &lt;int&gt; | EmployeeNumber &lt;int&gt; | ⋯ ⋯ | RelationshipSatisfaction &lt;int&gt; | StandardHours &lt;int&gt; | StockOptionLevel &lt;int&gt; | TotalWorkingYears &lt;int&gt; | TrainingTimesLastYear &lt;int&gt; | WorkLifeBalance &lt;int&gt; | YearsAtCompany &lt;int&gt; | YearsInCurrentRole &lt;int&gt; | YearsSinceLastPromotion &lt;int&gt; | YearsWithCurrManager &lt;int&gt; |\n|---|---|---|---|---|---|---|---|---|---|---|---|---|---|---|---|---|---|---|---|---|\n| 41 | Yes | Travel_Rarely     | 1102 | Sales                  |  1 | 2 | Life Sciences | 1 |  1 | ⋯ | 1 | 80 | 0 |  8 | 0 | 1 |  6 |  4 | 0 |  5 |\n| 49 | No  | Travel_Frequently |  279 | Research &amp; Development |  8 | 1 | Life Sciences | 1 |  2 | ⋯ | 4 | 80 | 1 | 10 | 3 | 3 | 10 |  7 | 1 |  7 |\n| 37 | Yes | Travel_Rarely     | 1373 | Research &amp; Development |  2 | 2 | Other         | 1 |  4 | ⋯ | 2 | 80 | 0 |  7 | 3 | 3 |  0 |  0 | 0 |  0 |\n| 33 | No  | Travel_Frequently | 1392 | Research &amp; Development |  3 | 4 | Life Sciences | 1 |  5 | ⋯ | 3 | 80 | 0 |  8 | 3 | 3 |  8 |  7 | 3 |  0 |\n| 27 | No  | Travel_Rarely     |  591 | Research &amp; Development |  2 | 1 | Medical       | 1 |  7 | ⋯ | 4 | 80 | 1 |  6 | 3 | 3 |  2 |  2 | 2 |  2 |\n| 32 | No  | Travel_Frequently | 1005 | Research &amp; Development |  2 | 2 | Life Sciences | 1 |  8 | ⋯ | 3 | 80 | 0 |  8 | 2 | 2 |  7 |  7 | 3 |  6 |\n| 59 | No  | Travel_Rarely     | 1324 | Research &amp; Development |  3 | 3 | Medical       | 1 | 10 | ⋯ | 1 | 80 | 3 | 12 | 3 | 2 |  1 |  0 | 0 |  0 |\n| 30 | No  | Travel_Rarely     | 1358 | Research &amp; Development | 24 | 1 | Life Sciences | 1 | 11 | ⋯ | 2 | 80 | 1 |  1 | 2 | 3 |  1 |  0 | 0 |  0 |\n| 38 | No  | Travel_Frequently |  216 | Research &amp; Development | 23 | 3 | Life Sciences | 1 | 12 | ⋯ | 2 | 80 | 0 | 10 | 2 | 3 |  9 |  7 | 1 |  8 |\n| 36 | No  | Travel_Rarely     | 1299 | Research &amp; Development | 27 | 3 | Medical       | 1 | 13 | ⋯ | 2 | 80 | 2 | 17 | 3 | 2 |  7 |  7 | 7 |  7 |\n| 35 | No  | Travel_Rarely     |  809 | Research &amp; Development | 16 | 3 | Medical       | 1 | 14 | ⋯ | 3 | 80 | 1 |  6 | 5 | 3 |  5 |  4 | 0 |  3 |\n| 29 | No  | Travel_Rarely     |  153 | Research &amp; Development | 15 | 2 | Life Sciences | 1 | 15 | ⋯ | 4 | 80 | 0 | 10 | 3 | 3 |  9 |  5 | 0 |  8 |\n| 31 | No  | Travel_Rarely     |  670 | Research &amp; Development | 26 | 1 | Life Sciences | 1 | 16 | ⋯ | 4 | 80 | 1 |  5 | 1 | 2 |  5 |  2 | 4 |  3 |\n| 34 | No  | Travel_Rarely     | 1346 | Research &amp; Development | 19 | 2 | Medical       | 1 | 18 | ⋯ | 3 | 80 | 1 |  3 | 2 | 3 |  2 |  2 | 1 |  2 |\n| 28 | Yes | Travel_Rarely     |  103 | Research &amp; Development | 24 | 3 | Life Sciences | 1 | 19 | ⋯ | 2 | 80 | 0 |  6 | 4 | 3 |  4 |  2 | 0 |  3 |\n| 29 | No  | Travel_Rarely     | 1389 | Research &amp; Development | 21 | 4 | Life Sciences | 1 | 20 | ⋯ | 3 | 80 | 1 | 10 | 1 | 3 | 10 |  9 | 8 |  8 |\n| 32 | No  | Travel_Rarely     |  334 | Research &amp; Development |  5 | 2 | Life Sciences | 1 | 21 | ⋯ | 4 | 80 | 2 |  7 | 5 | 2 |  6 |  2 | 0 |  5 |\n| 22 | No  | Non-Travel        | 1123 | Research &amp; Development | 16 | 2 | Medical       | 1 | 22 | ⋯ | 2 | 80 | 2 |  1 | 2 | 2 |  1 |  0 | 0 |  0 |\n| 53 | No  | Travel_Rarely     | 1219 | Sales                  |  2 | 4 | Life Sciences | 1 | 23 | ⋯ | 3 | 80 | 0 | 31 | 3 | 3 | 25 |  8 | 3 |  7 |\n| 38 | No  | Travel_Rarely     |  371 | Research &amp; Development |  2 | 3 | Life Sciences | 1 | 24 | ⋯ | 3 | 80 | 0 |  6 | 3 | 3 |  3 |  2 | 1 |  2 |\n| 24 | No  | Non-Travel        |  673 | Research &amp; Development | 11 | 2 | Other         | 1 | 26 | ⋯ | 4 | 80 | 1 |  5 | 5 | 2 |  4 |  2 | 1 |  3 |\n| 36 | Yes | Travel_Rarely     | 1218 | Sales                  |  9 | 4 | Life Sciences | 1 | 27 | ⋯ | 2 | 80 | 0 | 10 | 4 | 3 |  5 |  3 | 0 |  3 |\n| 34 | No  | Travel_Rarely     |  419 | Research &amp; Development |  7 | 4 | Life Sciences | 1 | 28 | ⋯ | 3 | 80 | 0 | 13 | 4 | 3 | 12 |  6 | 2 | 11 |\n| 21 | No  | Travel_Rarely     |  391 | Research &amp; Development | 15 | 2 | Life Sciences | 1 | 30 | ⋯ | 4 | 80 | 0 |  0 | 6 | 3 |  0 |  0 | 0 |  0 |\n| 34 | Yes | Travel_Rarely     |  699 | Research &amp; Development |  6 | 1 | Medical       | 1 | 31 | ⋯ | 3 | 80 | 0 |  8 | 2 | 3 |  4 |  2 | 1 |  3 |\n| 53 | No  | Travel_Rarely     | 1282 | Research &amp; Development |  5 | 3 | Other         | 1 | 32 | ⋯ | 4 | 80 | 1 | 26 | 3 | 2 | 14 | 13 | 4 |  8 |\n| 32 | Yes | Travel_Frequently | 1125 | Research &amp; Development | 16 | 1 | Life Sciences | 1 | 33 | ⋯ | 2 | 80 | 0 | 10 | 5 | 3 | 10 |  2 | 6 |  7 |\n| 42 | No  | Travel_Rarely     |  691 | Sales                  |  8 | 4 | Marketing     | 1 | 35 | ⋯ | 4 | 80 | 1 | 10 | 2 | 3 |  9 |  7 | 4 |  2 |\n| 44 | No  | Travel_Rarely     |  477 | Research &amp; Development |  7 | 4 | Medical       | 1 | 36 | ⋯ | 4 | 80 | 1 | 24 | 4 | 3 | 22 |  6 | 5 | 17 |\n| 46 | No  | Travel_Rarely     |  705 | Sales                  |  2 | 4 | Marketing     | 1 | 38 | ⋯ | 4 | 80 | 0 | 22 | 2 | 2 |  2 |  2 | 2 |  1 |\n| ⋮ | ⋮ | ⋮ | ⋮ | ⋮ | ⋮ | ⋮ | ⋮ | ⋮ | ⋮ | ⋱ | ⋮ | ⋮ | ⋮ | ⋮ | ⋮ | ⋮ | ⋮ | ⋮ | ⋮ | ⋮ |\n| 36 | No  | Travel_Frequently |  688 | Research &amp; Development |  4 | 2 | Life Sciences    | 1 | 2025 | ⋯ | 2 | 80 | 3 | 18 | 3 | 3 |  4 |  2 |  0 |  2 |\n| 56 | No  | Non-Travel        |  667 | Research &amp; Development |  1 | 4 | Life Sciences    | 1 | 2026 | ⋯ | 1 | 80 | 1 | 13 | 2 | 2 | 13 | 12 |  1 |  9 |\n| 29 | Yes | Travel_Rarely     | 1092 | Research &amp; Development |  1 | 4 | Medical          | 1 | 2027 | ⋯ | 2 | 80 | 3 |  4 | 3 | 4 |  2 |  2 |  2 |  2 |\n| 42 | No  | Travel_Rarely     |  300 | Research &amp; Development |  2 | 3 | Life Sciences    | 1 | 2031 | ⋯ | 1 | 80 | 0 | 24 | 2 | 2 | 22 |  6 |  4 | 14 |\n| 56 | Yes | Travel_Rarely     |  310 | Research &amp; Development |  7 | 2 | Technical Degree | 1 | 2032 | ⋯ | 4 | 80 | 1 | 14 | 4 | 1 | 10 |  9 |  9 |  8 |\n| 41 | No  | Travel_Rarely     |  582 | Research &amp; Development | 28 | 4 | Life Sciences    | 1 | 2034 | ⋯ | 3 | 80 | 1 | 21 | 3 | 3 | 20 |  7 |  0 | 10 |\n| 34 | No  | Travel_Rarely     |  704 | Sales                  | 28 | 3 | Marketing        | 1 | 2035 | ⋯ | 4 | 80 | 2 |  8 | 2 | 3 |  8 |  7 |  1 |  7 |\n| 36 | No  | Non-Travel        |  301 | Sales                  | 15 | 4 | Marketing        | 1 | 2036 | ⋯ | 1 | 80 | 1 | 15 | 4 | 2 | 15 | 12 | 11 | 11 |\n| 41 | No  | Travel_Rarely     |  930 | Sales                  |  3 | 3 | Life Sciences    | 1 | 2037 | ⋯ | 3 | 80 | 1 | 14 | 5 | 3 |  5 |  4 |  0 |  4 |\n| 32 | No  | Travel_Rarely     |  529 | Research &amp; Development |  2 | 3 | Technical Degree | 1 | 2038 | ⋯ | 4 | 80 | 0 |  4 | 4 | 3 |  4 |  2 |  1 |  2 |\n| 35 | No  | Travel_Rarely     | 1146 | Human Resources        | 26 | 4 | Life Sciences    | 1 | 2040 | ⋯ | 3 | 80 | 0 |  9 | 2 | 3 |  9 |  0 |  1 |  7 |\n| 38 | No  | Travel_Rarely     |  345 | Sales                  | 10 | 2 | Life Sciences    | 1 | 2041 | ⋯ | 3 | 80 | 1 | 10 | 1 | 3 | 10 |  7 |  1 |  9 |\n| 50 | Yes | Travel_Frequently |  878 | Sales                  |  1 | 4 | Life Sciences    | 1 | 2044 | ⋯ | 4 | 80 | 2 | 12 | 3 | 3 |  6 |  3 |  0 |  1 |\n| 36 | No  | Travel_Rarely     | 1120 | Sales                  | 11 | 4 | Marketing        | 1 | 2045 | ⋯ | 1 | 80 | 1 |  8 | 2 | 2 |  6 |  3 |  0 |  0 |\n| 45 | No  | Travel_Rarely     |  374 | Sales                  | 20 | 3 | Life Sciences    | 1 | 2046 | ⋯ | 3 | 80 | 0 |  8 | 3 | 3 |  5 |  3 |  0 |  1 |\n| 40 | No  | Travel_Rarely     | 1322 | Research &amp; Development |  2 | 4 | Life Sciences    | 1 | 2048 | ⋯ | 4 | 80 | 0 |  8 | 2 | 3 |  2 |  2 |  2 |  2 |\n| 35 | No  | Travel_Frequently | 1199 | Research &amp; Development | 18 | 4 | Life Sciences    | 1 | 2049 | ⋯ | 4 | 80 | 2 | 10 | 2 | 4 | 10 |  2 |  0 |  2 |\n| 40 | No  | Travel_Rarely     | 1194 | Research &amp; Development |  2 | 4 | Medical          | 1 | 2051 | ⋯ | 2 | 80 | 3 | 20 | 2 | 3 |  5 |  3 |  0 |  2 |\n| 35 | No  | Travel_Rarely     |  287 | Research &amp; Development |  1 | 4 | Life Sciences    | 1 | 2052 | ⋯ | 4 | 80 | 1 |  4 | 5 | 3 |  4 |  3 |  1 |  1 |\n| 29 | No  | Travel_Rarely     | 1378 | Research &amp; Development | 13 | 2 | Other            | 1 | 2053 | ⋯ | 1 | 80 | 1 | 10 | 2 | 3 |  4 |  3 |  0 |  3 |\n| 29 | No  | Travel_Rarely     |  468 | Research &amp; Development | 28 | 4 | Medical          | 1 | 2054 | ⋯ | 2 | 80 | 0 |  5 | 3 | 1 |  5 |  4 |  0 |  4 |\n| 50 | Yes | Travel_Rarely     |  410 | Sales                  | 28 | 3 | Marketing        | 1 | 2055 | ⋯ | 2 | 80 | 1 | 20 | 3 | 3 |  3 |  2 |  2 |  0 |\n| 39 | No  | Travel_Rarely     |  722 | Sales                  | 24 | 1 | Marketing        | 1 | 2056 | ⋯ | 1 | 80 | 1 | 21 | 2 | 2 | 20 |  9 |  9 |  6 |\n| 31 | No  | Non-Travel        |  325 | Research &amp; Development |  5 | 3 | Medical          | 1 | 2057 | ⋯ | 2 | 80 | 0 | 10 | 2 | 3 |  9 |  4 |  1 |  7 |\n| 26 | No  | Travel_Rarely     | 1167 | Sales                  |  5 | 3 | Other            | 1 | 2060 | ⋯ | 4 | 80 | 0 |  5 | 2 | 3 |  4 |  2 |  0 |  0 |\n| 36 | No  | Travel_Frequently |  884 | Research &amp; Development | 23 | 2 | Medical          | 1 | 2061 | ⋯ | 3 | 80 | 1 | 17 | 3 | 3 |  5 |  2 |  0 |  3 |\n| 39 | No  | Travel_Rarely     |  613 | Research &amp; Development |  6 | 1 | Medical          | 1 | 2062 | ⋯ | 1 | 80 | 1 |  9 | 5 | 3 |  7 |  7 |  1 |  7 |\n| 27 | No  | Travel_Rarely     |  155 | Research &amp; Development |  4 | 3 | Life Sciences    | 1 | 2064 | ⋯ | 2 | 80 | 1 |  6 | 0 | 3 |  6 |  2 |  0 |  3 |\n| 49 | No  | Travel_Frequently | 1023 | Sales                  |  2 | 3 | Medical          | 1 | 2065 | ⋯ | 4 | 80 | 0 | 17 | 3 | 2 |  9 |  6 |  0 |  8 |\n| 34 | No  | Travel_Rarely     |  628 | Research &amp; Development |  8 | 3 | Medical          | 1 | 2068 | ⋯ | 1 | 80 | 0 |  6 | 3 | 4 |  4 |  3 |  1 |  2 |\n\n",
            "text/latex": "A data.frame: 1470 × 35\n\\begin{tabular}{lllllllllllllllllllll}\n Age & Attrition & BusinessTravel & DailyRate & Department & DistanceFromHome & Education & EducationField & EmployeeCount & EmployeeNumber & ⋯ & RelationshipSatisfaction & StandardHours & StockOptionLevel & TotalWorkingYears & TrainingTimesLastYear & WorkLifeBalance & YearsAtCompany & YearsInCurrentRole & YearsSinceLastPromotion & YearsWithCurrManager\\\\\n <int> & <chr> & <chr> & <int> & <chr> & <int> & <int> & <chr> & <int> & <int> & ⋯ & <int> & <int> & <int> & <int> & <int> & <int> & <int> & <int> & <int> & <int>\\\\\n\\hline\n\t 41 & Yes & Travel\\_Rarely     & 1102 & Sales                  &  1 & 2 & Life Sciences & 1 &  1 & ⋯ & 1 & 80 & 0 &  8 & 0 & 1 &  6 &  4 & 0 &  5\\\\\n\t 49 & No  & Travel\\_Frequently &  279 & Research \\& Development &  8 & 1 & Life Sciences & 1 &  2 & ⋯ & 4 & 80 & 1 & 10 & 3 & 3 & 10 &  7 & 1 &  7\\\\\n\t 37 & Yes & Travel\\_Rarely     & 1373 & Research \\& Development &  2 & 2 & Other         & 1 &  4 & ⋯ & 2 & 80 & 0 &  7 & 3 & 3 &  0 &  0 & 0 &  0\\\\\n\t 33 & No  & Travel\\_Frequently & 1392 & Research \\& Development &  3 & 4 & Life Sciences & 1 &  5 & ⋯ & 3 & 80 & 0 &  8 & 3 & 3 &  8 &  7 & 3 &  0\\\\\n\t 27 & No  & Travel\\_Rarely     &  591 & Research \\& Development &  2 & 1 & Medical       & 1 &  7 & ⋯ & 4 & 80 & 1 &  6 & 3 & 3 &  2 &  2 & 2 &  2\\\\\n\t 32 & No  & Travel\\_Frequently & 1005 & Research \\& Development &  2 & 2 & Life Sciences & 1 &  8 & ⋯ & 3 & 80 & 0 &  8 & 2 & 2 &  7 &  7 & 3 &  6\\\\\n\t 59 & No  & Travel\\_Rarely     & 1324 & Research \\& Development &  3 & 3 & Medical       & 1 & 10 & ⋯ & 1 & 80 & 3 & 12 & 3 & 2 &  1 &  0 & 0 &  0\\\\\n\t 30 & No  & Travel\\_Rarely     & 1358 & Research \\& Development & 24 & 1 & Life Sciences & 1 & 11 & ⋯ & 2 & 80 & 1 &  1 & 2 & 3 &  1 &  0 & 0 &  0\\\\\n\t 38 & No  & Travel\\_Frequently &  216 & Research \\& Development & 23 & 3 & Life Sciences & 1 & 12 & ⋯ & 2 & 80 & 0 & 10 & 2 & 3 &  9 &  7 & 1 &  8\\\\\n\t 36 & No  & Travel\\_Rarely     & 1299 & Research \\& Development & 27 & 3 & Medical       & 1 & 13 & ⋯ & 2 & 80 & 2 & 17 & 3 & 2 &  7 &  7 & 7 &  7\\\\\n\t 35 & No  & Travel\\_Rarely     &  809 & Research \\& Development & 16 & 3 & Medical       & 1 & 14 & ⋯ & 3 & 80 & 1 &  6 & 5 & 3 &  5 &  4 & 0 &  3\\\\\n\t 29 & No  & Travel\\_Rarely     &  153 & Research \\& Development & 15 & 2 & Life Sciences & 1 & 15 & ⋯ & 4 & 80 & 0 & 10 & 3 & 3 &  9 &  5 & 0 &  8\\\\\n\t 31 & No  & Travel\\_Rarely     &  670 & Research \\& Development & 26 & 1 & Life Sciences & 1 & 16 & ⋯ & 4 & 80 & 1 &  5 & 1 & 2 &  5 &  2 & 4 &  3\\\\\n\t 34 & No  & Travel\\_Rarely     & 1346 & Research \\& Development & 19 & 2 & Medical       & 1 & 18 & ⋯ & 3 & 80 & 1 &  3 & 2 & 3 &  2 &  2 & 1 &  2\\\\\n\t 28 & Yes & Travel\\_Rarely     &  103 & Research \\& Development & 24 & 3 & Life Sciences & 1 & 19 & ⋯ & 2 & 80 & 0 &  6 & 4 & 3 &  4 &  2 & 0 &  3\\\\\n\t 29 & No  & Travel\\_Rarely     & 1389 & Research \\& Development & 21 & 4 & Life Sciences & 1 & 20 & ⋯ & 3 & 80 & 1 & 10 & 1 & 3 & 10 &  9 & 8 &  8\\\\\n\t 32 & No  & Travel\\_Rarely     &  334 & Research \\& Development &  5 & 2 & Life Sciences & 1 & 21 & ⋯ & 4 & 80 & 2 &  7 & 5 & 2 &  6 &  2 & 0 &  5\\\\\n\t 22 & No  & Non-Travel        & 1123 & Research \\& Development & 16 & 2 & Medical       & 1 & 22 & ⋯ & 2 & 80 & 2 &  1 & 2 & 2 &  1 &  0 & 0 &  0\\\\\n\t 53 & No  & Travel\\_Rarely     & 1219 & Sales                  &  2 & 4 & Life Sciences & 1 & 23 & ⋯ & 3 & 80 & 0 & 31 & 3 & 3 & 25 &  8 & 3 &  7\\\\\n\t 38 & No  & Travel\\_Rarely     &  371 & Research \\& Development &  2 & 3 & Life Sciences & 1 & 24 & ⋯ & 3 & 80 & 0 &  6 & 3 & 3 &  3 &  2 & 1 &  2\\\\\n\t 24 & No  & Non-Travel        &  673 & Research \\& Development & 11 & 2 & Other         & 1 & 26 & ⋯ & 4 & 80 & 1 &  5 & 5 & 2 &  4 &  2 & 1 &  3\\\\\n\t 36 & Yes & Travel\\_Rarely     & 1218 & Sales                  &  9 & 4 & Life Sciences & 1 & 27 & ⋯ & 2 & 80 & 0 & 10 & 4 & 3 &  5 &  3 & 0 &  3\\\\\n\t 34 & No  & Travel\\_Rarely     &  419 & Research \\& Development &  7 & 4 & Life Sciences & 1 & 28 & ⋯ & 3 & 80 & 0 & 13 & 4 & 3 & 12 &  6 & 2 & 11\\\\\n\t 21 & No  & Travel\\_Rarely     &  391 & Research \\& Development & 15 & 2 & Life Sciences & 1 & 30 & ⋯ & 4 & 80 & 0 &  0 & 6 & 3 &  0 &  0 & 0 &  0\\\\\n\t 34 & Yes & Travel\\_Rarely     &  699 & Research \\& Development &  6 & 1 & Medical       & 1 & 31 & ⋯ & 3 & 80 & 0 &  8 & 2 & 3 &  4 &  2 & 1 &  3\\\\\n\t 53 & No  & Travel\\_Rarely     & 1282 & Research \\& Development &  5 & 3 & Other         & 1 & 32 & ⋯ & 4 & 80 & 1 & 26 & 3 & 2 & 14 & 13 & 4 &  8\\\\\n\t 32 & Yes & Travel\\_Frequently & 1125 & Research \\& Development & 16 & 1 & Life Sciences & 1 & 33 & ⋯ & 2 & 80 & 0 & 10 & 5 & 3 & 10 &  2 & 6 &  7\\\\\n\t 42 & No  & Travel\\_Rarely     &  691 & Sales                  &  8 & 4 & Marketing     & 1 & 35 & ⋯ & 4 & 80 & 1 & 10 & 2 & 3 &  9 &  7 & 4 &  2\\\\\n\t 44 & No  & Travel\\_Rarely     &  477 & Research \\& Development &  7 & 4 & Medical       & 1 & 36 & ⋯ & 4 & 80 & 1 & 24 & 4 & 3 & 22 &  6 & 5 & 17\\\\\n\t 46 & No  & Travel\\_Rarely     &  705 & Sales                  &  2 & 4 & Marketing     & 1 & 38 & ⋯ & 4 & 80 & 0 & 22 & 2 & 2 &  2 &  2 & 2 &  1\\\\\n\t ⋮ & ⋮ & ⋮ & ⋮ & ⋮ & ⋮ & ⋮ & ⋮ & ⋮ & ⋮ & ⋱ & ⋮ & ⋮ & ⋮ & ⋮ & ⋮ & ⋮ & ⋮ & ⋮ & ⋮ & ⋮\\\\\n\t 36 & No  & Travel\\_Frequently &  688 & Research \\& Development &  4 & 2 & Life Sciences    & 1 & 2025 & ⋯ & 2 & 80 & 3 & 18 & 3 & 3 &  4 &  2 &  0 &  2\\\\\n\t 56 & No  & Non-Travel        &  667 & Research \\& Development &  1 & 4 & Life Sciences    & 1 & 2026 & ⋯ & 1 & 80 & 1 & 13 & 2 & 2 & 13 & 12 &  1 &  9\\\\\n\t 29 & Yes & Travel\\_Rarely     & 1092 & Research \\& Development &  1 & 4 & Medical          & 1 & 2027 & ⋯ & 2 & 80 & 3 &  4 & 3 & 4 &  2 &  2 &  2 &  2\\\\\n\t 42 & No  & Travel\\_Rarely     &  300 & Research \\& Development &  2 & 3 & Life Sciences    & 1 & 2031 & ⋯ & 1 & 80 & 0 & 24 & 2 & 2 & 22 &  6 &  4 & 14\\\\\n\t 56 & Yes & Travel\\_Rarely     &  310 & Research \\& Development &  7 & 2 & Technical Degree & 1 & 2032 & ⋯ & 4 & 80 & 1 & 14 & 4 & 1 & 10 &  9 &  9 &  8\\\\\n\t 41 & No  & Travel\\_Rarely     &  582 & Research \\& Development & 28 & 4 & Life Sciences    & 1 & 2034 & ⋯ & 3 & 80 & 1 & 21 & 3 & 3 & 20 &  7 &  0 & 10\\\\\n\t 34 & No  & Travel\\_Rarely     &  704 & Sales                  & 28 & 3 & Marketing        & 1 & 2035 & ⋯ & 4 & 80 & 2 &  8 & 2 & 3 &  8 &  7 &  1 &  7\\\\\n\t 36 & No  & Non-Travel        &  301 & Sales                  & 15 & 4 & Marketing        & 1 & 2036 & ⋯ & 1 & 80 & 1 & 15 & 4 & 2 & 15 & 12 & 11 & 11\\\\\n\t 41 & No  & Travel\\_Rarely     &  930 & Sales                  &  3 & 3 & Life Sciences    & 1 & 2037 & ⋯ & 3 & 80 & 1 & 14 & 5 & 3 &  5 &  4 &  0 &  4\\\\\n\t 32 & No  & Travel\\_Rarely     &  529 & Research \\& Development &  2 & 3 & Technical Degree & 1 & 2038 & ⋯ & 4 & 80 & 0 &  4 & 4 & 3 &  4 &  2 &  1 &  2\\\\\n\t 35 & No  & Travel\\_Rarely     & 1146 & Human Resources        & 26 & 4 & Life Sciences    & 1 & 2040 & ⋯ & 3 & 80 & 0 &  9 & 2 & 3 &  9 &  0 &  1 &  7\\\\\n\t 38 & No  & Travel\\_Rarely     &  345 & Sales                  & 10 & 2 & Life Sciences    & 1 & 2041 & ⋯ & 3 & 80 & 1 & 10 & 1 & 3 & 10 &  7 &  1 &  9\\\\\n\t 50 & Yes & Travel\\_Frequently &  878 & Sales                  &  1 & 4 & Life Sciences    & 1 & 2044 & ⋯ & 4 & 80 & 2 & 12 & 3 & 3 &  6 &  3 &  0 &  1\\\\\n\t 36 & No  & Travel\\_Rarely     & 1120 & Sales                  & 11 & 4 & Marketing        & 1 & 2045 & ⋯ & 1 & 80 & 1 &  8 & 2 & 2 &  6 &  3 &  0 &  0\\\\\n\t 45 & No  & Travel\\_Rarely     &  374 & Sales                  & 20 & 3 & Life Sciences    & 1 & 2046 & ⋯ & 3 & 80 & 0 &  8 & 3 & 3 &  5 &  3 &  0 &  1\\\\\n\t 40 & No  & Travel\\_Rarely     & 1322 & Research \\& Development &  2 & 4 & Life Sciences    & 1 & 2048 & ⋯ & 4 & 80 & 0 &  8 & 2 & 3 &  2 &  2 &  2 &  2\\\\\n\t 35 & No  & Travel\\_Frequently & 1199 & Research \\& Development & 18 & 4 & Life Sciences    & 1 & 2049 & ⋯ & 4 & 80 & 2 & 10 & 2 & 4 & 10 &  2 &  0 &  2\\\\\n\t 40 & No  & Travel\\_Rarely     & 1194 & Research \\& Development &  2 & 4 & Medical          & 1 & 2051 & ⋯ & 2 & 80 & 3 & 20 & 2 & 3 &  5 &  3 &  0 &  2\\\\\n\t 35 & No  & Travel\\_Rarely     &  287 & Research \\& Development &  1 & 4 & Life Sciences    & 1 & 2052 & ⋯ & 4 & 80 & 1 &  4 & 5 & 3 &  4 &  3 &  1 &  1\\\\\n\t 29 & No  & Travel\\_Rarely     & 1378 & Research \\& Development & 13 & 2 & Other            & 1 & 2053 & ⋯ & 1 & 80 & 1 & 10 & 2 & 3 &  4 &  3 &  0 &  3\\\\\n\t 29 & No  & Travel\\_Rarely     &  468 & Research \\& Development & 28 & 4 & Medical          & 1 & 2054 & ⋯ & 2 & 80 & 0 &  5 & 3 & 1 &  5 &  4 &  0 &  4\\\\\n\t 50 & Yes & Travel\\_Rarely     &  410 & Sales                  & 28 & 3 & Marketing        & 1 & 2055 & ⋯ & 2 & 80 & 1 & 20 & 3 & 3 &  3 &  2 &  2 &  0\\\\\n\t 39 & No  & Travel\\_Rarely     &  722 & Sales                  & 24 & 1 & Marketing        & 1 & 2056 & ⋯ & 1 & 80 & 1 & 21 & 2 & 2 & 20 &  9 &  9 &  6\\\\\n\t 31 & No  & Non-Travel        &  325 & Research \\& Development &  5 & 3 & Medical          & 1 & 2057 & ⋯ & 2 & 80 & 0 & 10 & 2 & 3 &  9 &  4 &  1 &  7\\\\\n\t 26 & No  & Travel\\_Rarely     & 1167 & Sales                  &  5 & 3 & Other            & 1 & 2060 & ⋯ & 4 & 80 & 0 &  5 & 2 & 3 &  4 &  2 &  0 &  0\\\\\n\t 36 & No  & Travel\\_Frequently &  884 & Research \\& Development & 23 & 2 & Medical          & 1 & 2061 & ⋯ & 3 & 80 & 1 & 17 & 3 & 3 &  5 &  2 &  0 &  3\\\\\n\t 39 & No  & Travel\\_Rarely     &  613 & Research \\& Development &  6 & 1 & Medical          & 1 & 2062 & ⋯ & 1 & 80 & 1 &  9 & 5 & 3 &  7 &  7 &  1 &  7\\\\\n\t 27 & No  & Travel\\_Rarely     &  155 & Research \\& Development &  4 & 3 & Life Sciences    & 1 & 2064 & ⋯ & 2 & 80 & 1 &  6 & 0 & 3 &  6 &  2 &  0 &  3\\\\\n\t 49 & No  & Travel\\_Frequently & 1023 & Sales                  &  2 & 3 & Medical          & 1 & 2065 & ⋯ & 4 & 80 & 0 & 17 & 3 & 2 &  9 &  6 &  0 &  8\\\\\n\t 34 & No  & Travel\\_Rarely     &  628 & Research \\& Development &  8 & 3 & Medical          & 1 & 2068 & ⋯ & 1 & 80 & 0 &  6 & 3 & 4 &  4 &  3 &  1 &  2\\\\\n\\end{tabular}\n"
          },
          "metadata": {}
        },
        {
          "output_type": "stream",
          "name": "stdout",
          "text": [
            "'data.frame':\t1470 obs. of  35 variables:\n",
            " $ Age                     : int  41 49 37 33 27 32 59 30 38 36 ...\n",
            " $ Attrition               : chr  \"Yes\" \"No\" \"Yes\" \"No\" ...\n",
            " $ BusinessTravel          : chr  \"Travel_Rarely\" \"Travel_Frequently\" \"Travel_Rarely\" \"Travel_Frequently\" ...\n",
            " $ DailyRate               : int  1102 279 1373 1392 591 1005 1324 1358 216 1299 ...\n",
            " $ Department              : chr  \"Sales\" \"Research & Development\" \"Research & Development\" \"Research & Development\" ...\n",
            " $ DistanceFromHome        : int  1 8 2 3 2 2 3 24 23 27 ...\n",
            " $ Education               : int  2 1 2 4 1 2 3 1 3 3 ...\n",
            " $ EducationField          : chr  \"Life Sciences\" \"Life Sciences\" \"Other\" \"Life Sciences\" ...\n",
            " $ EmployeeCount           : int  1 1 1 1 1 1 1 1 1 1 ...\n",
            " $ EmployeeNumber          : int  1 2 4 5 7 8 10 11 12 13 ...\n",
            " $ EnvironmentSatisfaction : int  2 3 4 4 1 4 3 4 4 3 ...\n",
            " $ Gender                  : chr  \"Female\" \"Male\" \"Male\" \"Female\" ...\n",
            " $ HourlyRate              : int  94 61 92 56 40 79 81 67 44 94 ...\n",
            " $ JobInvolvement          : int  3 2 2 3 3 3 4 3 2 3 ...\n",
            " $ JobLevel                : int  2 2 1 1 1 1 1 1 3 2 ...\n",
            " $ JobRole                 : chr  \"Sales Executive\" \"Research Scientist\" \"Laboratory Technician\" \"Research Scientist\" ...\n",
            " $ JobSatisfaction         : int  4 2 3 3 2 4 1 3 3 3 ...\n",
            " $ MaritalStatus           : chr  \"Single\" \"Married\" \"Single\" \"Married\" ...\n",
            " $ MonthlyIncome           : int  5993 5130 2090 2909 3468 3068 2670 2693 9526 5237 ...\n",
            " $ MonthlyRate             : int  19479 24907 2396 23159 16632 11864 9964 13335 8787 16577 ...\n",
            " $ NumCompaniesWorked      : int  8 1 6 1 9 0 4 1 0 6 ...\n",
            " $ Over18                  : chr  \"Y\" \"Y\" \"Y\" \"Y\" ...\n",
            " $ OverTime                : chr  \"Yes\" \"No\" \"Yes\" \"Yes\" ...\n",
            " $ PercentSalaryHike       : int  11 23 15 11 12 13 20 22 21 13 ...\n",
            " $ PerformanceRating       : int  3 4 3 3 3 3 4 4 4 3 ...\n",
            " $ RelationshipSatisfaction: int  1 4 2 3 4 3 1 2 2 2 ...\n",
            " $ StandardHours           : int  80 80 80 80 80 80 80 80 80 80 ...\n",
            " $ StockOptionLevel        : int  0 1 0 0 1 0 3 1 0 2 ...\n",
            " $ TotalWorkingYears       : int  8 10 7 8 6 8 12 1 10 17 ...\n",
            " $ TrainingTimesLastYear   : int  0 3 3 3 3 2 3 2 2 3 ...\n",
            " $ WorkLifeBalance         : int  1 3 3 3 3 2 2 3 3 2 ...\n",
            " $ YearsAtCompany          : int  6 10 0 8 2 7 1 1 9 7 ...\n",
            " $ YearsInCurrentRole      : int  4 7 0 7 2 7 0 0 7 7 ...\n",
            " $ YearsSinceLastPromotion : int  0 1 0 3 2 3 0 0 1 7 ...\n",
            " $ YearsWithCurrManager    : int  5 7 0 0 2 6 0 0 8 7 ...\n"
          ]
        },
        {
          "output_type": "display_data",
          "data": {
            "text/plain": [
              "      Age         Attrition         BusinessTravel       DailyRate     \n",
              " Min.   :18.00   Length:1470        Length:1470        Min.   : 102.0  \n",
              " 1st Qu.:30.00   Class :character   Class :character   1st Qu.: 465.0  \n",
              " Median :36.00   Mode  :character   Mode  :character   Median : 802.0  \n",
              " Mean   :36.92                                         Mean   : 802.5  \n",
              " 3rd Qu.:43.00                                         3rd Qu.:1157.0  \n",
              " Max.   :60.00                                         Max.   :1499.0  \n",
              "  Department        DistanceFromHome   Education     EducationField    \n",
              " Length:1470        Min.   : 1.000   Min.   :1.000   Length:1470       \n",
              " Class :character   1st Qu.: 2.000   1st Qu.:2.000   Class :character  \n",
              " Mode  :character   Median : 7.000   Median :3.000   Mode  :character  \n",
              "                    Mean   : 9.193   Mean   :2.913                     \n",
              "                    3rd Qu.:14.000   3rd Qu.:4.000                     \n",
              "                    Max.   :29.000   Max.   :5.000                     \n",
              " EmployeeCount EmployeeNumber   EnvironmentSatisfaction    Gender         \n",
              " Min.   :1     Min.   :   1.0   Min.   :1.000           Length:1470       \n",
              " 1st Qu.:1     1st Qu.: 491.2   1st Qu.:2.000           Class :character  \n",
              " Median :1     Median :1020.5   Median :3.000           Mode  :character  \n",
              " Mean   :1     Mean   :1024.9   Mean   :2.722                             \n",
              " 3rd Qu.:1     3rd Qu.:1555.8   3rd Qu.:4.000                             \n",
              " Max.   :1     Max.   :2068.0   Max.   :4.000                             \n",
              "   HourlyRate     JobInvolvement    JobLevel       JobRole         \n",
              " Min.   : 30.00   Min.   :1.00   Min.   :1.000   Length:1470       \n",
              " 1st Qu.: 48.00   1st Qu.:2.00   1st Qu.:1.000   Class :character  \n",
              " Median : 66.00   Median :3.00   Median :2.000   Mode  :character  \n",
              " Mean   : 65.89   Mean   :2.73   Mean   :2.064                     \n",
              " 3rd Qu.: 83.75   3rd Qu.:3.00   3rd Qu.:3.000                     \n",
              " Max.   :100.00   Max.   :4.00   Max.   :5.000                     \n",
              " JobSatisfaction MaritalStatus      MonthlyIncome    MonthlyRate   \n",
              " Min.   :1.000   Length:1470        Min.   : 1009   Min.   : 2094  \n",
              " 1st Qu.:2.000   Class :character   1st Qu.: 2911   1st Qu.: 8047  \n",
              " Median :3.000   Mode  :character   Median : 4919   Median :14236  \n",
              " Mean   :2.729                      Mean   : 6503   Mean   :14313  \n",
              " 3rd Qu.:4.000                      3rd Qu.: 8379   3rd Qu.:20462  \n",
              " Max.   :4.000                      Max.   :19999   Max.   :26999  \n",
              " NumCompaniesWorked    Over18            OverTime         PercentSalaryHike\n",
              " Min.   :0.000      Length:1470        Length:1470        Min.   :11.00    \n",
              " 1st Qu.:1.000      Class :character   Class :character   1st Qu.:12.00    \n",
              " Median :2.000      Mode  :character   Mode  :character   Median :14.00    \n",
              " Mean   :2.693                                            Mean   :15.21    \n",
              " 3rd Qu.:4.000                                            3rd Qu.:18.00    \n",
              " Max.   :9.000                                            Max.   :25.00    \n",
              " PerformanceRating RelationshipSatisfaction StandardHours StockOptionLevel\n",
              " Min.   :3.000     Min.   :1.000            Min.   :80    Min.   :0.0000  \n",
              " 1st Qu.:3.000     1st Qu.:2.000            1st Qu.:80    1st Qu.:0.0000  \n",
              " Median :3.000     Median :3.000            Median :80    Median :1.0000  \n",
              " Mean   :3.154     Mean   :2.712            Mean   :80    Mean   :0.7939  \n",
              " 3rd Qu.:3.000     3rd Qu.:4.000            3rd Qu.:80    3rd Qu.:1.0000  \n",
              " Max.   :4.000     Max.   :4.000            Max.   :80    Max.   :3.0000  \n",
              " TotalWorkingYears TrainingTimesLastYear WorkLifeBalance YearsAtCompany  \n",
              " Min.   : 0.00     Min.   :0.000         Min.   :1.000   Min.   : 0.000  \n",
              " 1st Qu.: 6.00     1st Qu.:2.000         1st Qu.:2.000   1st Qu.: 3.000  \n",
              " Median :10.00     Median :3.000         Median :3.000   Median : 5.000  \n",
              " Mean   :11.28     Mean   :2.799         Mean   :2.761   Mean   : 7.008  \n",
              " 3rd Qu.:15.00     3rd Qu.:3.000         3rd Qu.:3.000   3rd Qu.: 9.000  \n",
              " Max.   :40.00     Max.   :6.000         Max.   :4.000   Max.   :40.000  \n",
              " YearsInCurrentRole YearsSinceLastPromotion YearsWithCurrManager\n",
              " Min.   : 0.000     Min.   : 0.000          Min.   : 0.000      \n",
              " 1st Qu.: 2.000     1st Qu.: 0.000          1st Qu.: 2.000      \n",
              " Median : 3.000     Median : 1.000          Median : 3.000      \n",
              " Mean   : 4.229     Mean   : 2.188          Mean   : 4.123      \n",
              " 3rd Qu.: 7.000     3rd Qu.: 3.000          3rd Qu.: 7.000      \n",
              " Max.   :18.000     Max.   :15.000          Max.   :17.000      "
            ]
          },
          "metadata": {}
        }
      ]
    },
    {
      "cell_type": "code",
      "source": [
        "View(DATOS_KAGGLE)\n"
      ],
      "metadata": {
        "colab": {
          "base_uri": "https://localhost:8080/",
          "height": 1000
        },
        "id": "XCQPnDp83e7e",
        "outputId": "71027419-a30a-484e-ef2b-d36bbd0f1fc3"
      },
      "execution_count": null,
      "outputs": [
        {
          "output_type": "display_data",
          "data": {
            "text/plain": [
              "     Age Attrition BusinessTravel    DailyRate Department            \n",
              "1    41  Yes       Travel_Rarely     1102      Sales                 \n",
              "2    49  No        Travel_Frequently  279      Research & Development\n",
              "3    37  Yes       Travel_Rarely     1373      Research & Development\n",
              "4    33  No        Travel_Frequently 1392      Research & Development\n",
              "5    27  No        Travel_Rarely      591      Research & Development\n",
              "6    32  No        Travel_Frequently 1005      Research & Development\n",
              "7    59  No        Travel_Rarely     1324      Research & Development\n",
              "8    30  No        Travel_Rarely     1358      Research & Development\n",
              "9    38  No        Travel_Frequently  216      Research & Development\n",
              "10   36  No        Travel_Rarely     1299      Research & Development\n",
              "11   35  No        Travel_Rarely      809      Research & Development\n",
              "12   29  No        Travel_Rarely      153      Research & Development\n",
              "13   31  No        Travel_Rarely      670      Research & Development\n",
              "14   34  No        Travel_Rarely     1346      Research & Development\n",
              "15   28  Yes       Travel_Rarely      103      Research & Development\n",
              "16   29  No        Travel_Rarely     1389      Research & Development\n",
              "17   32  No        Travel_Rarely      334      Research & Development\n",
              "18   22  No        Non-Travel        1123      Research & Development\n",
              "19   53  No        Travel_Rarely     1219      Sales                 \n",
              "20   38  No        Travel_Rarely      371      Research & Development\n",
              "21   24  No        Non-Travel         673      Research & Development\n",
              "22   36  Yes       Travel_Rarely     1218      Sales                 \n",
              "23   34  No        Travel_Rarely      419      Research & Development\n",
              "24   21  No        Travel_Rarely      391      Research & Development\n",
              "25   34  Yes       Travel_Rarely      699      Research & Development\n",
              "26   53  No        Travel_Rarely     1282      Research & Development\n",
              "27   32  Yes       Travel_Frequently 1125      Research & Development\n",
              "28   42  No        Travel_Rarely      691      Sales                 \n",
              "29   44  No        Travel_Rarely      477      Research & Development\n",
              "30   46  No        Travel_Rarely      705      Sales                 \n",
              "⋮    ⋮   ⋮         ⋮                 ⋮         ⋮                     \n",
              "1441 36  No        Travel_Frequently  688      Research & Development\n",
              "1442 56  No        Non-Travel         667      Research & Development\n",
              "1443 29  Yes       Travel_Rarely     1092      Research & Development\n",
              "1444 42  No        Travel_Rarely      300      Research & Development\n",
              "1445 56  Yes       Travel_Rarely      310      Research & Development\n",
              "1446 41  No        Travel_Rarely      582      Research & Development\n",
              "1447 34  No        Travel_Rarely      704      Sales                 \n",
              "1448 36  No        Non-Travel         301      Sales                 \n",
              "1449 41  No        Travel_Rarely      930      Sales                 \n",
              "1450 32  No        Travel_Rarely      529      Research & Development\n",
              "1451 35  No        Travel_Rarely     1146      Human Resources       \n",
              "1452 38  No        Travel_Rarely      345      Sales                 \n",
              "1453 50  Yes       Travel_Frequently  878      Sales                 \n",
              "1454 36  No        Travel_Rarely     1120      Sales                 \n",
              "1455 45  No        Travel_Rarely      374      Sales                 \n",
              "1456 40  No        Travel_Rarely     1322      Research & Development\n",
              "1457 35  No        Travel_Frequently 1199      Research & Development\n",
              "1458 40  No        Travel_Rarely     1194      Research & Development\n",
              "1459 35  No        Travel_Rarely      287      Research & Development\n",
              "1460 29  No        Travel_Rarely     1378      Research & Development\n",
              "1461 29  No        Travel_Rarely      468      Research & Development\n",
              "1462 50  Yes       Travel_Rarely      410      Sales                 \n",
              "1463 39  No        Travel_Rarely      722      Sales                 \n",
              "1464 31  No        Non-Travel         325      Research & Development\n",
              "1465 26  No        Travel_Rarely     1167      Sales                 \n",
              "1466 36  No        Travel_Frequently  884      Research & Development\n",
              "1467 39  No        Travel_Rarely      613      Research & Development\n",
              "1468 27  No        Travel_Rarely      155      Research & Development\n",
              "1469 49  No        Travel_Frequently 1023      Sales                 \n",
              "1470 34  No        Travel_Rarely      628      Research & Development\n",
              "     DistanceFromHome Education EducationField   EmployeeCount EmployeeNumber ⋯\n",
              "1     1               2         Life Sciences    1              1             ⋯\n",
              "2     8               1         Life Sciences    1              2             ⋯\n",
              "3     2               2         Other            1              4             ⋯\n",
              "4     3               4         Life Sciences    1              5             ⋯\n",
              "5     2               1         Medical          1              7             ⋯\n",
              "6     2               2         Life Sciences    1              8             ⋯\n",
              "7     3               3         Medical          1             10             ⋯\n",
              "8    24               1         Life Sciences    1             11             ⋯\n",
              "9    23               3         Life Sciences    1             12             ⋯\n",
              "10   27               3         Medical          1             13             ⋯\n",
              "11   16               3         Medical          1             14             ⋯\n",
              "12   15               2         Life Sciences    1             15             ⋯\n",
              "13   26               1         Life Sciences    1             16             ⋯\n",
              "14   19               2         Medical          1             18             ⋯\n",
              "15   24               3         Life Sciences    1             19             ⋯\n",
              "16   21               4         Life Sciences    1             20             ⋯\n",
              "17    5               2         Life Sciences    1             21             ⋯\n",
              "18   16               2         Medical          1             22             ⋯\n",
              "19    2               4         Life Sciences    1             23             ⋯\n",
              "20    2               3         Life Sciences    1             24             ⋯\n",
              "21   11               2         Other            1             26             ⋯\n",
              "22    9               4         Life Sciences    1             27             ⋯\n",
              "23    7               4         Life Sciences    1             28             ⋯\n",
              "24   15               2         Life Sciences    1             30             ⋯\n",
              "25    6               1         Medical          1             31             ⋯\n",
              "26    5               3         Other            1             32             ⋯\n",
              "27   16               1         Life Sciences    1             33             ⋯\n",
              "28    8               4         Marketing        1             35             ⋯\n",
              "29    7               4         Medical          1             36             ⋯\n",
              "30    2               4         Marketing        1             38             ⋯\n",
              "⋮    ⋮                ⋮         ⋮                ⋮             ⋮              ⋱\n",
              "1441  4               2         Life Sciences    1             2025           ⋯\n",
              "1442  1               4         Life Sciences    1             2026           ⋯\n",
              "1443  1               4         Medical          1             2027           ⋯\n",
              "1444  2               3         Life Sciences    1             2031           ⋯\n",
              "1445  7               2         Technical Degree 1             2032           ⋯\n",
              "1446 28               4         Life Sciences    1             2034           ⋯\n",
              "1447 28               3         Marketing        1             2035           ⋯\n",
              "1448 15               4         Marketing        1             2036           ⋯\n",
              "1449  3               3         Life Sciences    1             2037           ⋯\n",
              "1450  2               3         Technical Degree 1             2038           ⋯\n",
              "1451 26               4         Life Sciences    1             2040           ⋯\n",
              "1452 10               2         Life Sciences    1             2041           ⋯\n",
              "1453  1               4         Life Sciences    1             2044           ⋯\n",
              "1454 11               4         Marketing        1             2045           ⋯\n",
              "1455 20               3         Life Sciences    1             2046           ⋯\n",
              "1456  2               4         Life Sciences    1             2048           ⋯\n",
              "1457 18               4         Life Sciences    1             2049           ⋯\n",
              "1458  2               4         Medical          1             2051           ⋯\n",
              "1459  1               4         Life Sciences    1             2052           ⋯\n",
              "1460 13               2         Other            1             2053           ⋯\n",
              "1461 28               4         Medical          1             2054           ⋯\n",
              "1462 28               3         Marketing        1             2055           ⋯\n",
              "1463 24               1         Marketing        1             2056           ⋯\n",
              "1464  5               3         Medical          1             2057           ⋯\n",
              "1465  5               3         Other            1             2060           ⋯\n",
              "1466 23               2         Medical          1             2061           ⋯\n",
              "1467  6               1         Medical          1             2062           ⋯\n",
              "1468  4               3         Life Sciences    1             2064           ⋯\n",
              "1469  2               3         Medical          1             2065           ⋯\n",
              "1470  8               3         Medical          1             2068           ⋯\n",
              "     RelationshipSatisfaction StandardHours StockOptionLevel TotalWorkingYears\n",
              "1    1                        80            0                 8               \n",
              "2    4                        80            1                10               \n",
              "3    2                        80            0                 7               \n",
              "4    3                        80            0                 8               \n",
              "5    4                        80            1                 6               \n",
              "6    3                        80            0                 8               \n",
              "7    1                        80            3                12               \n",
              "8    2                        80            1                 1               \n",
              "9    2                        80            0                10               \n",
              "10   2                        80            2                17               \n",
              "11   3                        80            1                 6               \n",
              "12   4                        80            0                10               \n",
              "13   4                        80            1                 5               \n",
              "14   3                        80            1                 3               \n",
              "15   2                        80            0                 6               \n",
              "16   3                        80            1                10               \n",
              "17   4                        80            2                 7               \n",
              "18   2                        80            2                 1               \n",
              "19   3                        80            0                31               \n",
              "20   3                        80            0                 6               \n",
              "21   4                        80            1                 5               \n",
              "22   2                        80            0                10               \n",
              "23   3                        80            0                13               \n",
              "24   4                        80            0                 0               \n",
              "25   3                        80            0                 8               \n",
              "26   4                        80            1                26               \n",
              "27   2                        80            0                10               \n",
              "28   4                        80            1                10               \n",
              "29   4                        80            1                24               \n",
              "30   4                        80            0                22               \n",
              "⋮    ⋮                        ⋮             ⋮                ⋮                \n",
              "1441 2                        80            3                18               \n",
              "1442 1                        80            1                13               \n",
              "1443 2                        80            3                 4               \n",
              "1444 1                        80            0                24               \n",
              "1445 4                        80            1                14               \n",
              "1446 3                        80            1                21               \n",
              "1447 4                        80            2                 8               \n",
              "1448 1                        80            1                15               \n",
              "1449 3                        80            1                14               \n",
              "1450 4                        80            0                 4               \n",
              "1451 3                        80            0                 9               \n",
              "1452 3                        80            1                10               \n",
              "1453 4                        80            2                12               \n",
              "1454 1                        80            1                 8               \n",
              "1455 3                        80            0                 8               \n",
              "1456 4                        80            0                 8               \n",
              "1457 4                        80            2                10               \n",
              "1458 2                        80            3                20               \n",
              "1459 4                        80            1                 4               \n",
              "1460 1                        80            1                10               \n",
              "1461 2                        80            0                 5               \n",
              "1462 2                        80            1                20               \n",
              "1463 1                        80            1                21               \n",
              "1464 2                        80            0                10               \n",
              "1465 4                        80            0                 5               \n",
              "1466 3                        80            1                17               \n",
              "1467 1                        80            1                 9               \n",
              "1468 2                        80            1                 6               \n",
              "1469 4                        80            0                17               \n",
              "1470 1                        80            0                 6               \n",
              "     TrainingTimesLastYear WorkLifeBalance YearsAtCompany YearsInCurrentRole\n",
              "1    0                     1                6              4                \n",
              "2    3                     3               10              7                \n",
              "3    3                     3                0              0                \n",
              "4    3                     3                8              7                \n",
              "5    3                     3                2              2                \n",
              "6    2                     2                7              7                \n",
              "7    3                     2                1              0                \n",
              "8    2                     3                1              0                \n",
              "9    2                     3                9              7                \n",
              "10   3                     2                7              7                \n",
              "11   5                     3                5              4                \n",
              "12   3                     3                9              5                \n",
              "13   1                     2                5              2                \n",
              "14   2                     3                2              2                \n",
              "15   4                     3                4              2                \n",
              "16   1                     3               10              9                \n",
              "17   5                     2                6              2                \n",
              "18   2                     2                1              0                \n",
              "19   3                     3               25              8                \n",
              "20   3                     3                3              2                \n",
              "21   5                     2                4              2                \n",
              "22   4                     3                5              3                \n",
              "23   4                     3               12              6                \n",
              "24   6                     3                0              0                \n",
              "25   2                     3                4              2                \n",
              "26   3                     2               14             13                \n",
              "27   5                     3               10              2                \n",
              "28   2                     3                9              7                \n",
              "29   4                     3               22              6                \n",
              "30   2                     2                2              2                \n",
              "⋮    ⋮                     ⋮               ⋮              ⋮                 \n",
              "1441 3                     3                4              2                \n",
              "1442 2                     2               13             12                \n",
              "1443 3                     4                2              2                \n",
              "1444 2                     2               22              6                \n",
              "1445 4                     1               10              9                \n",
              "1446 3                     3               20              7                \n",
              "1447 2                     3                8              7                \n",
              "1448 4                     2               15             12                \n",
              "1449 5                     3                5              4                \n",
              "1450 4                     3                4              2                \n",
              "1451 2                     3                9              0                \n",
              "1452 1                     3               10              7                \n",
              "1453 3                     3                6              3                \n",
              "1454 2                     2                6              3                \n",
              "1455 3                     3                5              3                \n",
              "1456 2                     3                2              2                \n",
              "1457 2                     4               10              2                \n",
              "1458 2                     3                5              3                \n",
              "1459 5                     3                4              3                \n",
              "1460 2                     3                4              3                \n",
              "1461 3                     1                5              4                \n",
              "1462 3                     3                3              2                \n",
              "1463 2                     2               20              9                \n",
              "1464 2                     3                9              4                \n",
              "1465 2                     3                4              2                \n",
              "1466 3                     3                5              2                \n",
              "1467 5                     3                7              7                \n",
              "1468 0                     3                6              2                \n",
              "1469 3                     2                9              6                \n",
              "1470 3                     4                4              3                \n",
              "     YearsSinceLastPromotion YearsWithCurrManager\n",
              "1    0                        5                  \n",
              "2    1                        7                  \n",
              "3    0                        0                  \n",
              "4    3                        0                  \n",
              "5    2                        2                  \n",
              "6    3                        6                  \n",
              "7    0                        0                  \n",
              "8    0                        0                  \n",
              "9    1                        8                  \n",
              "10   7                        7                  \n",
              "11   0                        3                  \n",
              "12   0                        8                  \n",
              "13   4                        3                  \n",
              "14   1                        2                  \n",
              "15   0                        3                  \n",
              "16   8                        8                  \n",
              "17   0                        5                  \n",
              "18   0                        0                  \n",
              "19   3                        7                  \n",
              "20   1                        2                  \n",
              "21   1                        3                  \n",
              "22   0                        3                  \n",
              "23   2                       11                  \n",
              "24   0                        0                  \n",
              "25   1                        3                  \n",
              "26   4                        8                  \n",
              "27   6                        7                  \n",
              "28   4                        2                  \n",
              "29   5                       17                  \n",
              "30   2                        1                  \n",
              "⋮    ⋮                       ⋮                   \n",
              "1441  0                       2                  \n",
              "1442  1                       9                  \n",
              "1443  2                       2                  \n",
              "1444  4                      14                  \n",
              "1445  9                       8                  \n",
              "1446  0                      10                  \n",
              "1447  1                       7                  \n",
              "1448 11                      11                  \n",
              "1449  0                       4                  \n",
              "1450  1                       2                  \n",
              "1451  1                       7                  \n",
              "1452  1                       9                  \n",
              "1453  0                       1                  \n",
              "1454  0                       0                  \n",
              "1455  0                       1                  \n",
              "1456  2                       2                  \n",
              "1457  0                       2                  \n",
              "1458  0                       2                  \n",
              "1459  1                       1                  \n",
              "1460  0                       3                  \n",
              "1461  0                       4                  \n",
              "1462  2                       0                  \n",
              "1463  9                       6                  \n",
              "1464  1                       7                  \n",
              "1465  0                       0                  \n",
              "1466  0                       3                  \n",
              "1467  1                       7                  \n",
              "1468  0                       3                  \n",
              "1469  0                       8                  \n",
              "1470  1                       2                  "
            ],
            "text/html": [
              "<table class=\"dataframe\">\n",
              "<caption>A data.frame: 1470 × 35</caption>\n",
              "<thead>\n",
              "\t<tr><th scope=col>Age</th><th scope=col>Attrition</th><th scope=col>BusinessTravel</th><th scope=col>DailyRate</th><th scope=col>Department</th><th scope=col>DistanceFromHome</th><th scope=col>Education</th><th scope=col>EducationField</th><th scope=col>EmployeeCount</th><th scope=col>EmployeeNumber</th><th scope=col>⋯</th><th scope=col>RelationshipSatisfaction</th><th scope=col>StandardHours</th><th scope=col>StockOptionLevel</th><th scope=col>TotalWorkingYears</th><th scope=col>TrainingTimesLastYear</th><th scope=col>WorkLifeBalance</th><th scope=col>YearsAtCompany</th><th scope=col>YearsInCurrentRole</th><th scope=col>YearsSinceLastPromotion</th><th scope=col>YearsWithCurrManager</th></tr>\n",
              "\t<tr><th scope=col>&lt;int&gt;</th><th scope=col>&lt;chr&gt;</th><th scope=col>&lt;chr&gt;</th><th scope=col>&lt;int&gt;</th><th scope=col>&lt;chr&gt;</th><th scope=col>&lt;int&gt;</th><th scope=col>&lt;int&gt;</th><th scope=col>&lt;chr&gt;</th><th scope=col>&lt;int&gt;</th><th scope=col>&lt;int&gt;</th><th scope=col>⋯</th><th scope=col>&lt;int&gt;</th><th scope=col>&lt;int&gt;</th><th scope=col>&lt;int&gt;</th><th scope=col>&lt;int&gt;</th><th scope=col>&lt;int&gt;</th><th scope=col>&lt;int&gt;</th><th scope=col>&lt;int&gt;</th><th scope=col>&lt;int&gt;</th><th scope=col>&lt;int&gt;</th><th scope=col>&lt;int&gt;</th></tr>\n",
              "</thead>\n",
              "<tbody>\n",
              "\t<tr><td>41</td><td>Yes</td><td>Travel_Rarely    </td><td>1102</td><td>Sales                 </td><td> 1</td><td>2</td><td>Life Sciences</td><td>1</td><td> 1</td><td>⋯</td><td>1</td><td>80</td><td>0</td><td> 8</td><td>0</td><td>1</td><td> 6</td><td> 4</td><td>0</td><td> 5</td></tr>\n",
              "\t<tr><td>49</td><td>No </td><td>Travel_Frequently</td><td> 279</td><td>Research &amp; Development</td><td> 8</td><td>1</td><td>Life Sciences</td><td>1</td><td> 2</td><td>⋯</td><td>4</td><td>80</td><td>1</td><td>10</td><td>3</td><td>3</td><td>10</td><td> 7</td><td>1</td><td> 7</td></tr>\n",
              "\t<tr><td>37</td><td>Yes</td><td><span style=white-space:pre-wrap>Travel_Rarely    </span></td><td>1373</td><td>Research &amp; Development</td><td> 2</td><td>2</td><td><span style=white-space:pre-wrap>Other        </span></td><td>1</td><td> 4</td><td>⋯</td><td>2</td><td>80</td><td>0</td><td> 7</td><td>3</td><td>3</td><td> 0</td><td> 0</td><td>0</td><td> 0</td></tr>\n",
              "\t<tr><td>33</td><td>No </td><td>Travel_Frequently</td><td>1392</td><td>Research &amp; Development</td><td> 3</td><td>4</td><td>Life Sciences</td><td>1</td><td> 5</td><td>⋯</td><td>3</td><td>80</td><td>0</td><td> 8</td><td>3</td><td>3</td><td> 8</td><td> 7</td><td>3</td><td> 0</td></tr>\n",
              "\t<tr><td>27</td><td>No </td><td><span style=white-space:pre-wrap>Travel_Rarely    </span></td><td> 591</td><td>Research &amp; Development</td><td> 2</td><td>1</td><td><span style=white-space:pre-wrap>Medical      </span></td><td>1</td><td> 7</td><td>⋯</td><td>4</td><td>80</td><td>1</td><td> 6</td><td>3</td><td>3</td><td> 2</td><td> 2</td><td>2</td><td> 2</td></tr>\n",
              "\t<tr><td>32</td><td>No </td><td>Travel_Frequently</td><td>1005</td><td>Research &amp; Development</td><td> 2</td><td>2</td><td>Life Sciences</td><td>1</td><td> 8</td><td>⋯</td><td>3</td><td>80</td><td>0</td><td> 8</td><td>2</td><td>2</td><td> 7</td><td> 7</td><td>3</td><td> 6</td></tr>\n",
              "\t<tr><td>59</td><td>No </td><td><span style=white-space:pre-wrap>Travel_Rarely    </span></td><td>1324</td><td>Research &amp; Development</td><td> 3</td><td>3</td><td><span style=white-space:pre-wrap>Medical      </span></td><td>1</td><td>10</td><td>⋯</td><td>1</td><td>80</td><td>3</td><td>12</td><td>3</td><td>2</td><td> 1</td><td> 0</td><td>0</td><td> 0</td></tr>\n",
              "\t<tr><td>30</td><td>No </td><td><span style=white-space:pre-wrap>Travel_Rarely    </span></td><td>1358</td><td>Research &amp; Development</td><td>24</td><td>1</td><td>Life Sciences</td><td>1</td><td>11</td><td>⋯</td><td>2</td><td>80</td><td>1</td><td> 1</td><td>2</td><td>3</td><td> 1</td><td> 0</td><td>0</td><td> 0</td></tr>\n",
              "\t<tr><td>38</td><td>No </td><td>Travel_Frequently</td><td> 216</td><td>Research &amp; Development</td><td>23</td><td>3</td><td>Life Sciences</td><td>1</td><td>12</td><td>⋯</td><td>2</td><td>80</td><td>0</td><td>10</td><td>2</td><td>3</td><td> 9</td><td> 7</td><td>1</td><td> 8</td></tr>\n",
              "\t<tr><td>36</td><td>No </td><td><span style=white-space:pre-wrap>Travel_Rarely    </span></td><td>1299</td><td>Research &amp; Development</td><td>27</td><td>3</td><td><span style=white-space:pre-wrap>Medical      </span></td><td>1</td><td>13</td><td>⋯</td><td>2</td><td>80</td><td>2</td><td>17</td><td>3</td><td>2</td><td> 7</td><td> 7</td><td>7</td><td> 7</td></tr>\n",
              "\t<tr><td>35</td><td>No </td><td><span style=white-space:pre-wrap>Travel_Rarely    </span></td><td> 809</td><td>Research &amp; Development</td><td>16</td><td>3</td><td><span style=white-space:pre-wrap>Medical      </span></td><td>1</td><td>14</td><td>⋯</td><td>3</td><td>80</td><td>1</td><td> 6</td><td>5</td><td>3</td><td> 5</td><td> 4</td><td>0</td><td> 3</td></tr>\n",
              "\t<tr><td>29</td><td>No </td><td><span style=white-space:pre-wrap>Travel_Rarely    </span></td><td> 153</td><td>Research &amp; Development</td><td>15</td><td>2</td><td>Life Sciences</td><td>1</td><td>15</td><td>⋯</td><td>4</td><td>80</td><td>0</td><td>10</td><td>3</td><td>3</td><td> 9</td><td> 5</td><td>0</td><td> 8</td></tr>\n",
              "\t<tr><td>31</td><td>No </td><td><span style=white-space:pre-wrap>Travel_Rarely    </span></td><td> 670</td><td>Research &amp; Development</td><td>26</td><td>1</td><td>Life Sciences</td><td>1</td><td>16</td><td>⋯</td><td>4</td><td>80</td><td>1</td><td> 5</td><td>1</td><td>2</td><td> 5</td><td> 2</td><td>4</td><td> 3</td></tr>\n",
              "\t<tr><td>34</td><td>No </td><td><span style=white-space:pre-wrap>Travel_Rarely    </span></td><td>1346</td><td>Research &amp; Development</td><td>19</td><td>2</td><td><span style=white-space:pre-wrap>Medical      </span></td><td>1</td><td>18</td><td>⋯</td><td>3</td><td>80</td><td>1</td><td> 3</td><td>2</td><td>3</td><td> 2</td><td> 2</td><td>1</td><td> 2</td></tr>\n",
              "\t<tr><td>28</td><td>Yes</td><td><span style=white-space:pre-wrap>Travel_Rarely    </span></td><td> 103</td><td>Research &amp; Development</td><td>24</td><td>3</td><td>Life Sciences</td><td>1</td><td>19</td><td>⋯</td><td>2</td><td>80</td><td>0</td><td> 6</td><td>4</td><td>3</td><td> 4</td><td> 2</td><td>0</td><td> 3</td></tr>\n",
              "\t<tr><td>29</td><td>No </td><td><span style=white-space:pre-wrap>Travel_Rarely    </span></td><td>1389</td><td>Research &amp; Development</td><td>21</td><td>4</td><td>Life Sciences</td><td>1</td><td>20</td><td>⋯</td><td>3</td><td>80</td><td>1</td><td>10</td><td>1</td><td>3</td><td>10</td><td> 9</td><td>8</td><td> 8</td></tr>\n",
              "\t<tr><td>32</td><td>No </td><td><span style=white-space:pre-wrap>Travel_Rarely    </span></td><td> 334</td><td>Research &amp; Development</td><td> 5</td><td>2</td><td>Life Sciences</td><td>1</td><td>21</td><td>⋯</td><td>4</td><td>80</td><td>2</td><td> 7</td><td>5</td><td>2</td><td> 6</td><td> 2</td><td>0</td><td> 5</td></tr>\n",
              "\t<tr><td>22</td><td>No </td><td><span style=white-space:pre-wrap>Non-Travel       </span></td><td>1123</td><td>Research &amp; Development</td><td>16</td><td>2</td><td><span style=white-space:pre-wrap>Medical      </span></td><td>1</td><td>22</td><td>⋯</td><td>2</td><td>80</td><td>2</td><td> 1</td><td>2</td><td>2</td><td> 1</td><td> 0</td><td>0</td><td> 0</td></tr>\n",
              "\t<tr><td>53</td><td>No </td><td>Travel_Rarely    </td><td>1219</td><td>Sales                 </td><td> 2</td><td>4</td><td>Life Sciences</td><td>1</td><td>23</td><td>⋯</td><td>3</td><td>80</td><td>0</td><td>31</td><td>3</td><td>3</td><td>25</td><td> 8</td><td>3</td><td> 7</td></tr>\n",
              "\t<tr><td>38</td><td>No </td><td><span style=white-space:pre-wrap>Travel_Rarely    </span></td><td> 371</td><td>Research &amp; Development</td><td> 2</td><td>3</td><td>Life Sciences</td><td>1</td><td>24</td><td>⋯</td><td>3</td><td>80</td><td>0</td><td> 6</td><td>3</td><td>3</td><td> 3</td><td> 2</td><td>1</td><td> 2</td></tr>\n",
              "\t<tr><td>24</td><td>No </td><td><span style=white-space:pre-wrap>Non-Travel       </span></td><td> 673</td><td>Research &amp; Development</td><td>11</td><td>2</td><td><span style=white-space:pre-wrap>Other        </span></td><td>1</td><td>26</td><td>⋯</td><td>4</td><td>80</td><td>1</td><td> 5</td><td>5</td><td>2</td><td> 4</td><td> 2</td><td>1</td><td> 3</td></tr>\n",
              "\t<tr><td>36</td><td>Yes</td><td>Travel_Rarely    </td><td>1218</td><td>Sales                 </td><td> 9</td><td>4</td><td>Life Sciences</td><td>1</td><td>27</td><td>⋯</td><td>2</td><td>80</td><td>0</td><td>10</td><td>4</td><td>3</td><td> 5</td><td> 3</td><td>0</td><td> 3</td></tr>\n",
              "\t<tr><td>34</td><td>No </td><td><span style=white-space:pre-wrap>Travel_Rarely    </span></td><td> 419</td><td>Research &amp; Development</td><td> 7</td><td>4</td><td>Life Sciences</td><td>1</td><td>28</td><td>⋯</td><td>3</td><td>80</td><td>0</td><td>13</td><td>4</td><td>3</td><td>12</td><td> 6</td><td>2</td><td>11</td></tr>\n",
              "\t<tr><td>21</td><td>No </td><td><span style=white-space:pre-wrap>Travel_Rarely    </span></td><td> 391</td><td>Research &amp; Development</td><td>15</td><td>2</td><td>Life Sciences</td><td>1</td><td>30</td><td>⋯</td><td>4</td><td>80</td><td>0</td><td> 0</td><td>6</td><td>3</td><td> 0</td><td> 0</td><td>0</td><td> 0</td></tr>\n",
              "\t<tr><td>34</td><td>Yes</td><td><span style=white-space:pre-wrap>Travel_Rarely    </span></td><td> 699</td><td>Research &amp; Development</td><td> 6</td><td>1</td><td><span style=white-space:pre-wrap>Medical      </span></td><td>1</td><td>31</td><td>⋯</td><td>3</td><td>80</td><td>0</td><td> 8</td><td>2</td><td>3</td><td> 4</td><td> 2</td><td>1</td><td> 3</td></tr>\n",
              "\t<tr><td>53</td><td>No </td><td><span style=white-space:pre-wrap>Travel_Rarely    </span></td><td>1282</td><td>Research &amp; Development</td><td> 5</td><td>3</td><td><span style=white-space:pre-wrap>Other        </span></td><td>1</td><td>32</td><td>⋯</td><td>4</td><td>80</td><td>1</td><td>26</td><td>3</td><td>2</td><td>14</td><td>13</td><td>4</td><td> 8</td></tr>\n",
              "\t<tr><td>32</td><td>Yes</td><td>Travel_Frequently</td><td>1125</td><td>Research &amp; Development</td><td>16</td><td>1</td><td>Life Sciences</td><td>1</td><td>33</td><td>⋯</td><td>2</td><td>80</td><td>0</td><td>10</td><td>5</td><td>3</td><td>10</td><td> 2</td><td>6</td><td> 7</td></tr>\n",
              "\t<tr><td>42</td><td>No </td><td>Travel_Rarely    </td><td> 691</td><td>Sales                 </td><td> 8</td><td>4</td><td>Marketing    </td><td>1</td><td>35</td><td>⋯</td><td>4</td><td>80</td><td>1</td><td>10</td><td>2</td><td>3</td><td> 9</td><td> 7</td><td>4</td><td> 2</td></tr>\n",
              "\t<tr><td>44</td><td>No </td><td><span style=white-space:pre-wrap>Travel_Rarely    </span></td><td> 477</td><td>Research &amp; Development</td><td> 7</td><td>4</td><td><span style=white-space:pre-wrap>Medical      </span></td><td>1</td><td>36</td><td>⋯</td><td>4</td><td>80</td><td>1</td><td>24</td><td>4</td><td>3</td><td>22</td><td> 6</td><td>5</td><td>17</td></tr>\n",
              "\t<tr><td>46</td><td>No </td><td>Travel_Rarely    </td><td> 705</td><td>Sales                 </td><td> 2</td><td>4</td><td>Marketing    </td><td>1</td><td>38</td><td>⋯</td><td>4</td><td>80</td><td>0</td><td>22</td><td>2</td><td>2</td><td> 2</td><td> 2</td><td>2</td><td> 1</td></tr>\n",
              "\t<tr><td>⋮</td><td>⋮</td><td>⋮</td><td>⋮</td><td>⋮</td><td>⋮</td><td>⋮</td><td>⋮</td><td>⋮</td><td>⋮</td><td>⋱</td><td>⋮</td><td>⋮</td><td>⋮</td><td>⋮</td><td>⋮</td><td>⋮</td><td>⋮</td><td>⋮</td><td>⋮</td><td>⋮</td></tr>\n",
              "\t<tr><td>36</td><td>No </td><td>Travel_Frequently</td><td> 688</td><td>Research &amp; Development</td><td> 4</td><td>2</td><td><span style=white-space:pre-wrap>Life Sciences   </span></td><td>1</td><td>2025</td><td>⋯</td><td>2</td><td>80</td><td>3</td><td>18</td><td>3</td><td>3</td><td> 4</td><td> 2</td><td> 0</td><td> 2</td></tr>\n",
              "\t<tr><td>56</td><td>No </td><td><span style=white-space:pre-wrap>Non-Travel       </span></td><td> 667</td><td>Research &amp; Development</td><td> 1</td><td>4</td><td><span style=white-space:pre-wrap>Life Sciences   </span></td><td>1</td><td>2026</td><td>⋯</td><td>1</td><td>80</td><td>1</td><td>13</td><td>2</td><td>2</td><td>13</td><td>12</td><td> 1</td><td> 9</td></tr>\n",
              "\t<tr><td>29</td><td>Yes</td><td><span style=white-space:pre-wrap>Travel_Rarely    </span></td><td>1092</td><td>Research &amp; Development</td><td> 1</td><td>4</td><td><span style=white-space:pre-wrap>Medical         </span></td><td>1</td><td>2027</td><td>⋯</td><td>2</td><td>80</td><td>3</td><td> 4</td><td>3</td><td>4</td><td> 2</td><td> 2</td><td> 2</td><td> 2</td></tr>\n",
              "\t<tr><td>42</td><td>No </td><td><span style=white-space:pre-wrap>Travel_Rarely    </span></td><td> 300</td><td>Research &amp; Development</td><td> 2</td><td>3</td><td><span style=white-space:pre-wrap>Life Sciences   </span></td><td>1</td><td>2031</td><td>⋯</td><td>1</td><td>80</td><td>0</td><td>24</td><td>2</td><td>2</td><td>22</td><td> 6</td><td> 4</td><td>14</td></tr>\n",
              "\t<tr><td>56</td><td>Yes</td><td><span style=white-space:pre-wrap>Travel_Rarely    </span></td><td> 310</td><td>Research &amp; Development</td><td> 7</td><td>2</td><td>Technical Degree</td><td>1</td><td>2032</td><td>⋯</td><td>4</td><td>80</td><td>1</td><td>14</td><td>4</td><td>1</td><td>10</td><td> 9</td><td> 9</td><td> 8</td></tr>\n",
              "\t<tr><td>41</td><td>No </td><td><span style=white-space:pre-wrap>Travel_Rarely    </span></td><td> 582</td><td>Research &amp; Development</td><td>28</td><td>4</td><td><span style=white-space:pre-wrap>Life Sciences   </span></td><td>1</td><td>2034</td><td>⋯</td><td>3</td><td>80</td><td>1</td><td>21</td><td>3</td><td>3</td><td>20</td><td> 7</td><td> 0</td><td>10</td></tr>\n",
              "\t<tr><td>34</td><td>No </td><td>Travel_Rarely    </td><td> 704</td><td>Sales                 </td><td>28</td><td>3</td><td>Marketing       </td><td>1</td><td>2035</td><td>⋯</td><td>4</td><td>80</td><td>2</td><td> 8</td><td>2</td><td>3</td><td> 8</td><td> 7</td><td> 1</td><td> 7</td></tr>\n",
              "\t<tr><td>36</td><td>No </td><td>Non-Travel       </td><td> 301</td><td>Sales                 </td><td>15</td><td>4</td><td>Marketing       </td><td>1</td><td>2036</td><td>⋯</td><td>1</td><td>80</td><td>1</td><td>15</td><td>4</td><td>2</td><td>15</td><td>12</td><td>11</td><td>11</td></tr>\n",
              "\t<tr><td>41</td><td>No </td><td>Travel_Rarely    </td><td> 930</td><td>Sales                 </td><td> 3</td><td>3</td><td>Life Sciences   </td><td>1</td><td>2037</td><td>⋯</td><td>3</td><td>80</td><td>1</td><td>14</td><td>5</td><td>3</td><td> 5</td><td> 4</td><td> 0</td><td> 4</td></tr>\n",
              "\t<tr><td>32</td><td>No </td><td><span style=white-space:pre-wrap>Travel_Rarely    </span></td><td> 529</td><td>Research &amp; Development</td><td> 2</td><td>3</td><td>Technical Degree</td><td>1</td><td>2038</td><td>⋯</td><td>4</td><td>80</td><td>0</td><td> 4</td><td>4</td><td>3</td><td> 4</td><td> 2</td><td> 1</td><td> 2</td></tr>\n",
              "\t<tr><td>35</td><td>No </td><td>Travel_Rarely    </td><td>1146</td><td>Human Resources       </td><td>26</td><td>4</td><td>Life Sciences   </td><td>1</td><td>2040</td><td>⋯</td><td>3</td><td>80</td><td>0</td><td> 9</td><td>2</td><td>3</td><td> 9</td><td> 0</td><td> 1</td><td> 7</td></tr>\n",
              "\t<tr><td>38</td><td>No </td><td>Travel_Rarely    </td><td> 345</td><td>Sales                 </td><td>10</td><td>2</td><td>Life Sciences   </td><td>1</td><td>2041</td><td>⋯</td><td>3</td><td>80</td><td>1</td><td>10</td><td>1</td><td>3</td><td>10</td><td> 7</td><td> 1</td><td> 9</td></tr>\n",
              "\t<tr><td>50</td><td>Yes</td><td>Travel_Frequently</td><td> 878</td><td>Sales                 </td><td> 1</td><td>4</td><td>Life Sciences   </td><td>1</td><td>2044</td><td>⋯</td><td>4</td><td>80</td><td>2</td><td>12</td><td>3</td><td>3</td><td> 6</td><td> 3</td><td> 0</td><td> 1</td></tr>\n",
              "\t<tr><td>36</td><td>No </td><td>Travel_Rarely    </td><td>1120</td><td>Sales                 </td><td>11</td><td>4</td><td>Marketing       </td><td>1</td><td>2045</td><td>⋯</td><td>1</td><td>80</td><td>1</td><td> 8</td><td>2</td><td>2</td><td> 6</td><td> 3</td><td> 0</td><td> 0</td></tr>\n",
              "\t<tr><td>45</td><td>No </td><td>Travel_Rarely    </td><td> 374</td><td>Sales                 </td><td>20</td><td>3</td><td>Life Sciences   </td><td>1</td><td>2046</td><td>⋯</td><td>3</td><td>80</td><td>0</td><td> 8</td><td>3</td><td>3</td><td> 5</td><td> 3</td><td> 0</td><td> 1</td></tr>\n",
              "\t<tr><td>40</td><td>No </td><td><span style=white-space:pre-wrap>Travel_Rarely    </span></td><td>1322</td><td>Research &amp; Development</td><td> 2</td><td>4</td><td><span style=white-space:pre-wrap>Life Sciences   </span></td><td>1</td><td>2048</td><td>⋯</td><td>4</td><td>80</td><td>0</td><td> 8</td><td>2</td><td>3</td><td> 2</td><td> 2</td><td> 2</td><td> 2</td></tr>\n",
              "\t<tr><td>35</td><td>No </td><td>Travel_Frequently</td><td>1199</td><td>Research &amp; Development</td><td>18</td><td>4</td><td><span style=white-space:pre-wrap>Life Sciences   </span></td><td>1</td><td>2049</td><td>⋯</td><td>4</td><td>80</td><td>2</td><td>10</td><td>2</td><td>4</td><td>10</td><td> 2</td><td> 0</td><td> 2</td></tr>\n",
              "\t<tr><td>40</td><td>No </td><td><span style=white-space:pre-wrap>Travel_Rarely    </span></td><td>1194</td><td>Research &amp; Development</td><td> 2</td><td>4</td><td><span style=white-space:pre-wrap>Medical         </span></td><td>1</td><td>2051</td><td>⋯</td><td>2</td><td>80</td><td>3</td><td>20</td><td>2</td><td>3</td><td> 5</td><td> 3</td><td> 0</td><td> 2</td></tr>\n",
              "\t<tr><td>35</td><td>No </td><td><span style=white-space:pre-wrap>Travel_Rarely    </span></td><td> 287</td><td>Research &amp; Development</td><td> 1</td><td>4</td><td><span style=white-space:pre-wrap>Life Sciences   </span></td><td>1</td><td>2052</td><td>⋯</td><td>4</td><td>80</td><td>1</td><td> 4</td><td>5</td><td>3</td><td> 4</td><td> 3</td><td> 1</td><td> 1</td></tr>\n",
              "\t<tr><td>29</td><td>No </td><td><span style=white-space:pre-wrap>Travel_Rarely    </span></td><td>1378</td><td>Research &amp; Development</td><td>13</td><td>2</td><td><span style=white-space:pre-wrap>Other           </span></td><td>1</td><td>2053</td><td>⋯</td><td>1</td><td>80</td><td>1</td><td>10</td><td>2</td><td>3</td><td> 4</td><td> 3</td><td> 0</td><td> 3</td></tr>\n",
              "\t<tr><td>29</td><td>No </td><td><span style=white-space:pre-wrap>Travel_Rarely    </span></td><td> 468</td><td>Research &amp; Development</td><td>28</td><td>4</td><td><span style=white-space:pre-wrap>Medical         </span></td><td>1</td><td>2054</td><td>⋯</td><td>2</td><td>80</td><td>0</td><td> 5</td><td>3</td><td>1</td><td> 5</td><td> 4</td><td> 0</td><td> 4</td></tr>\n",
              "\t<tr><td>50</td><td>Yes</td><td>Travel_Rarely    </td><td> 410</td><td>Sales                 </td><td>28</td><td>3</td><td>Marketing       </td><td>1</td><td>2055</td><td>⋯</td><td>2</td><td>80</td><td>1</td><td>20</td><td>3</td><td>3</td><td> 3</td><td> 2</td><td> 2</td><td> 0</td></tr>\n",
              "\t<tr><td>39</td><td>No </td><td>Travel_Rarely    </td><td> 722</td><td>Sales                 </td><td>24</td><td>1</td><td>Marketing       </td><td>1</td><td>2056</td><td>⋯</td><td>1</td><td>80</td><td>1</td><td>21</td><td>2</td><td>2</td><td>20</td><td> 9</td><td> 9</td><td> 6</td></tr>\n",
              "\t<tr><td>31</td><td>No </td><td><span style=white-space:pre-wrap>Non-Travel       </span></td><td> 325</td><td>Research &amp; Development</td><td> 5</td><td>3</td><td><span style=white-space:pre-wrap>Medical         </span></td><td>1</td><td>2057</td><td>⋯</td><td>2</td><td>80</td><td>0</td><td>10</td><td>2</td><td>3</td><td> 9</td><td> 4</td><td> 1</td><td> 7</td></tr>\n",
              "\t<tr><td>26</td><td>No </td><td>Travel_Rarely    </td><td>1167</td><td>Sales                 </td><td> 5</td><td>3</td><td>Other           </td><td>1</td><td>2060</td><td>⋯</td><td>4</td><td>80</td><td>0</td><td> 5</td><td>2</td><td>3</td><td> 4</td><td> 2</td><td> 0</td><td> 0</td></tr>\n",
              "\t<tr><td>36</td><td>No </td><td>Travel_Frequently</td><td> 884</td><td>Research &amp; Development</td><td>23</td><td>2</td><td><span style=white-space:pre-wrap>Medical         </span></td><td>1</td><td>2061</td><td>⋯</td><td>3</td><td>80</td><td>1</td><td>17</td><td>3</td><td>3</td><td> 5</td><td> 2</td><td> 0</td><td> 3</td></tr>\n",
              "\t<tr><td>39</td><td>No </td><td><span style=white-space:pre-wrap>Travel_Rarely    </span></td><td> 613</td><td>Research &amp; Development</td><td> 6</td><td>1</td><td><span style=white-space:pre-wrap>Medical         </span></td><td>1</td><td>2062</td><td>⋯</td><td>1</td><td>80</td><td>1</td><td> 9</td><td>5</td><td>3</td><td> 7</td><td> 7</td><td> 1</td><td> 7</td></tr>\n",
              "\t<tr><td>27</td><td>No </td><td><span style=white-space:pre-wrap>Travel_Rarely    </span></td><td> 155</td><td>Research &amp; Development</td><td> 4</td><td>3</td><td><span style=white-space:pre-wrap>Life Sciences   </span></td><td>1</td><td>2064</td><td>⋯</td><td>2</td><td>80</td><td>1</td><td> 6</td><td>0</td><td>3</td><td> 6</td><td> 2</td><td> 0</td><td> 3</td></tr>\n",
              "\t<tr><td>49</td><td>No </td><td>Travel_Frequently</td><td>1023</td><td>Sales                 </td><td> 2</td><td>3</td><td>Medical         </td><td>1</td><td>2065</td><td>⋯</td><td>4</td><td>80</td><td>0</td><td>17</td><td>3</td><td>2</td><td> 9</td><td> 6</td><td> 0</td><td> 8</td></tr>\n",
              "\t<tr><td>34</td><td>No </td><td><span style=white-space:pre-wrap>Travel_Rarely    </span></td><td> 628</td><td>Research &amp; Development</td><td> 8</td><td>3</td><td><span style=white-space:pre-wrap>Medical         </span></td><td>1</td><td>2068</td><td>⋯</td><td>1</td><td>80</td><td>0</td><td> 6</td><td>3</td><td>4</td><td> 4</td><td> 3</td><td> 1</td><td> 2</td></tr>\n",
              "</tbody>\n",
              "</table>\n"
            ],
            "text/markdown": "\nA data.frame: 1470 × 35\n\n| Age &lt;int&gt; | Attrition &lt;chr&gt; | BusinessTravel &lt;chr&gt; | DailyRate &lt;int&gt; | Department &lt;chr&gt; | DistanceFromHome &lt;int&gt; | Education &lt;int&gt; | EducationField &lt;chr&gt; | EmployeeCount &lt;int&gt; | EmployeeNumber &lt;int&gt; | ⋯ ⋯ | RelationshipSatisfaction &lt;int&gt; | StandardHours &lt;int&gt; | StockOptionLevel &lt;int&gt; | TotalWorkingYears &lt;int&gt; | TrainingTimesLastYear &lt;int&gt; | WorkLifeBalance &lt;int&gt; | YearsAtCompany &lt;int&gt; | YearsInCurrentRole &lt;int&gt; | YearsSinceLastPromotion &lt;int&gt; | YearsWithCurrManager &lt;int&gt; |\n|---|---|---|---|---|---|---|---|---|---|---|---|---|---|---|---|---|---|---|---|---|\n| 41 | Yes | Travel_Rarely     | 1102 | Sales                  |  1 | 2 | Life Sciences | 1 |  1 | ⋯ | 1 | 80 | 0 |  8 | 0 | 1 |  6 |  4 | 0 |  5 |\n| 49 | No  | Travel_Frequently |  279 | Research &amp; Development |  8 | 1 | Life Sciences | 1 |  2 | ⋯ | 4 | 80 | 1 | 10 | 3 | 3 | 10 |  7 | 1 |  7 |\n| 37 | Yes | Travel_Rarely     | 1373 | Research &amp; Development |  2 | 2 | Other         | 1 |  4 | ⋯ | 2 | 80 | 0 |  7 | 3 | 3 |  0 |  0 | 0 |  0 |\n| 33 | No  | Travel_Frequently | 1392 | Research &amp; Development |  3 | 4 | Life Sciences | 1 |  5 | ⋯ | 3 | 80 | 0 |  8 | 3 | 3 |  8 |  7 | 3 |  0 |\n| 27 | No  | Travel_Rarely     |  591 | Research &amp; Development |  2 | 1 | Medical       | 1 |  7 | ⋯ | 4 | 80 | 1 |  6 | 3 | 3 |  2 |  2 | 2 |  2 |\n| 32 | No  | Travel_Frequently | 1005 | Research &amp; Development |  2 | 2 | Life Sciences | 1 |  8 | ⋯ | 3 | 80 | 0 |  8 | 2 | 2 |  7 |  7 | 3 |  6 |\n| 59 | No  | Travel_Rarely     | 1324 | Research &amp; Development |  3 | 3 | Medical       | 1 | 10 | ⋯ | 1 | 80 | 3 | 12 | 3 | 2 |  1 |  0 | 0 |  0 |\n| 30 | No  | Travel_Rarely     | 1358 | Research &amp; Development | 24 | 1 | Life Sciences | 1 | 11 | ⋯ | 2 | 80 | 1 |  1 | 2 | 3 |  1 |  0 | 0 |  0 |\n| 38 | No  | Travel_Frequently |  216 | Research &amp; Development | 23 | 3 | Life Sciences | 1 | 12 | ⋯ | 2 | 80 | 0 | 10 | 2 | 3 |  9 |  7 | 1 |  8 |\n| 36 | No  | Travel_Rarely     | 1299 | Research &amp; Development | 27 | 3 | Medical       | 1 | 13 | ⋯ | 2 | 80 | 2 | 17 | 3 | 2 |  7 |  7 | 7 |  7 |\n| 35 | No  | Travel_Rarely     |  809 | Research &amp; Development | 16 | 3 | Medical       | 1 | 14 | ⋯ | 3 | 80 | 1 |  6 | 5 | 3 |  5 |  4 | 0 |  3 |\n| 29 | No  | Travel_Rarely     |  153 | Research &amp; Development | 15 | 2 | Life Sciences | 1 | 15 | ⋯ | 4 | 80 | 0 | 10 | 3 | 3 |  9 |  5 | 0 |  8 |\n| 31 | No  | Travel_Rarely     |  670 | Research &amp; Development | 26 | 1 | Life Sciences | 1 | 16 | ⋯ | 4 | 80 | 1 |  5 | 1 | 2 |  5 |  2 | 4 |  3 |\n| 34 | No  | Travel_Rarely     | 1346 | Research &amp; Development | 19 | 2 | Medical       | 1 | 18 | ⋯ | 3 | 80 | 1 |  3 | 2 | 3 |  2 |  2 | 1 |  2 |\n| 28 | Yes | Travel_Rarely     |  103 | Research &amp; Development | 24 | 3 | Life Sciences | 1 | 19 | ⋯ | 2 | 80 | 0 |  6 | 4 | 3 |  4 |  2 | 0 |  3 |\n| 29 | No  | Travel_Rarely     | 1389 | Research &amp; Development | 21 | 4 | Life Sciences | 1 | 20 | ⋯ | 3 | 80 | 1 | 10 | 1 | 3 | 10 |  9 | 8 |  8 |\n| 32 | No  | Travel_Rarely     |  334 | Research &amp; Development |  5 | 2 | Life Sciences | 1 | 21 | ⋯ | 4 | 80 | 2 |  7 | 5 | 2 |  6 |  2 | 0 |  5 |\n| 22 | No  | Non-Travel        | 1123 | Research &amp; Development | 16 | 2 | Medical       | 1 | 22 | ⋯ | 2 | 80 | 2 |  1 | 2 | 2 |  1 |  0 | 0 |  0 |\n| 53 | No  | Travel_Rarely     | 1219 | Sales                  |  2 | 4 | Life Sciences | 1 | 23 | ⋯ | 3 | 80 | 0 | 31 | 3 | 3 | 25 |  8 | 3 |  7 |\n| 38 | No  | Travel_Rarely     |  371 | Research &amp; Development |  2 | 3 | Life Sciences | 1 | 24 | ⋯ | 3 | 80 | 0 |  6 | 3 | 3 |  3 |  2 | 1 |  2 |\n| 24 | No  | Non-Travel        |  673 | Research &amp; Development | 11 | 2 | Other         | 1 | 26 | ⋯ | 4 | 80 | 1 |  5 | 5 | 2 |  4 |  2 | 1 |  3 |\n| 36 | Yes | Travel_Rarely     | 1218 | Sales                  |  9 | 4 | Life Sciences | 1 | 27 | ⋯ | 2 | 80 | 0 | 10 | 4 | 3 |  5 |  3 | 0 |  3 |\n| 34 | No  | Travel_Rarely     |  419 | Research &amp; Development |  7 | 4 | Life Sciences | 1 | 28 | ⋯ | 3 | 80 | 0 | 13 | 4 | 3 | 12 |  6 | 2 | 11 |\n| 21 | No  | Travel_Rarely     |  391 | Research &amp; Development | 15 | 2 | Life Sciences | 1 | 30 | ⋯ | 4 | 80 | 0 |  0 | 6 | 3 |  0 |  0 | 0 |  0 |\n| 34 | Yes | Travel_Rarely     |  699 | Research &amp; Development |  6 | 1 | Medical       | 1 | 31 | ⋯ | 3 | 80 | 0 |  8 | 2 | 3 |  4 |  2 | 1 |  3 |\n| 53 | No  | Travel_Rarely     | 1282 | Research &amp; Development |  5 | 3 | Other         | 1 | 32 | ⋯ | 4 | 80 | 1 | 26 | 3 | 2 | 14 | 13 | 4 |  8 |\n| 32 | Yes | Travel_Frequently | 1125 | Research &amp; Development | 16 | 1 | Life Sciences | 1 | 33 | ⋯ | 2 | 80 | 0 | 10 | 5 | 3 | 10 |  2 | 6 |  7 |\n| 42 | No  | Travel_Rarely     |  691 | Sales                  |  8 | 4 | Marketing     | 1 | 35 | ⋯ | 4 | 80 | 1 | 10 | 2 | 3 |  9 |  7 | 4 |  2 |\n| 44 | No  | Travel_Rarely     |  477 | Research &amp; Development |  7 | 4 | Medical       | 1 | 36 | ⋯ | 4 | 80 | 1 | 24 | 4 | 3 | 22 |  6 | 5 | 17 |\n| 46 | No  | Travel_Rarely     |  705 | Sales                  |  2 | 4 | Marketing     | 1 | 38 | ⋯ | 4 | 80 | 0 | 22 | 2 | 2 |  2 |  2 | 2 |  1 |\n| ⋮ | ⋮ | ⋮ | ⋮ | ⋮ | ⋮ | ⋮ | ⋮ | ⋮ | ⋮ | ⋱ | ⋮ | ⋮ | ⋮ | ⋮ | ⋮ | ⋮ | ⋮ | ⋮ | ⋮ | ⋮ |\n| 36 | No  | Travel_Frequently |  688 | Research &amp; Development |  4 | 2 | Life Sciences    | 1 | 2025 | ⋯ | 2 | 80 | 3 | 18 | 3 | 3 |  4 |  2 |  0 |  2 |\n| 56 | No  | Non-Travel        |  667 | Research &amp; Development |  1 | 4 | Life Sciences    | 1 | 2026 | ⋯ | 1 | 80 | 1 | 13 | 2 | 2 | 13 | 12 |  1 |  9 |\n| 29 | Yes | Travel_Rarely     | 1092 | Research &amp; Development |  1 | 4 | Medical          | 1 | 2027 | ⋯ | 2 | 80 | 3 |  4 | 3 | 4 |  2 |  2 |  2 |  2 |\n| 42 | No  | Travel_Rarely     |  300 | Research &amp; Development |  2 | 3 | Life Sciences    | 1 | 2031 | ⋯ | 1 | 80 | 0 | 24 | 2 | 2 | 22 |  6 |  4 | 14 |\n| 56 | Yes | Travel_Rarely     |  310 | Research &amp; Development |  7 | 2 | Technical Degree | 1 | 2032 | ⋯ | 4 | 80 | 1 | 14 | 4 | 1 | 10 |  9 |  9 |  8 |\n| 41 | No  | Travel_Rarely     |  582 | Research &amp; Development | 28 | 4 | Life Sciences    | 1 | 2034 | ⋯ | 3 | 80 | 1 | 21 | 3 | 3 | 20 |  7 |  0 | 10 |\n| 34 | No  | Travel_Rarely     |  704 | Sales                  | 28 | 3 | Marketing        | 1 | 2035 | ⋯ | 4 | 80 | 2 |  8 | 2 | 3 |  8 |  7 |  1 |  7 |\n| 36 | No  | Non-Travel        |  301 | Sales                  | 15 | 4 | Marketing        | 1 | 2036 | ⋯ | 1 | 80 | 1 | 15 | 4 | 2 | 15 | 12 | 11 | 11 |\n| 41 | No  | Travel_Rarely     |  930 | Sales                  |  3 | 3 | Life Sciences    | 1 | 2037 | ⋯ | 3 | 80 | 1 | 14 | 5 | 3 |  5 |  4 |  0 |  4 |\n| 32 | No  | Travel_Rarely     |  529 | Research &amp; Development |  2 | 3 | Technical Degree | 1 | 2038 | ⋯ | 4 | 80 | 0 |  4 | 4 | 3 |  4 |  2 |  1 |  2 |\n| 35 | No  | Travel_Rarely     | 1146 | Human Resources        | 26 | 4 | Life Sciences    | 1 | 2040 | ⋯ | 3 | 80 | 0 |  9 | 2 | 3 |  9 |  0 |  1 |  7 |\n| 38 | No  | Travel_Rarely     |  345 | Sales                  | 10 | 2 | Life Sciences    | 1 | 2041 | ⋯ | 3 | 80 | 1 | 10 | 1 | 3 | 10 |  7 |  1 |  9 |\n| 50 | Yes | Travel_Frequently |  878 | Sales                  |  1 | 4 | Life Sciences    | 1 | 2044 | ⋯ | 4 | 80 | 2 | 12 | 3 | 3 |  6 |  3 |  0 |  1 |\n| 36 | No  | Travel_Rarely     | 1120 | Sales                  | 11 | 4 | Marketing        | 1 | 2045 | ⋯ | 1 | 80 | 1 |  8 | 2 | 2 |  6 |  3 |  0 |  0 |\n| 45 | No  | Travel_Rarely     |  374 | Sales                  | 20 | 3 | Life Sciences    | 1 | 2046 | ⋯ | 3 | 80 | 0 |  8 | 3 | 3 |  5 |  3 |  0 |  1 |\n| 40 | No  | Travel_Rarely     | 1322 | Research &amp; Development |  2 | 4 | Life Sciences    | 1 | 2048 | ⋯ | 4 | 80 | 0 |  8 | 2 | 3 |  2 |  2 |  2 |  2 |\n| 35 | No  | Travel_Frequently | 1199 | Research &amp; Development | 18 | 4 | Life Sciences    | 1 | 2049 | ⋯ | 4 | 80 | 2 | 10 | 2 | 4 | 10 |  2 |  0 |  2 |\n| 40 | No  | Travel_Rarely     | 1194 | Research &amp; Development |  2 | 4 | Medical          | 1 | 2051 | ⋯ | 2 | 80 | 3 | 20 | 2 | 3 |  5 |  3 |  0 |  2 |\n| 35 | No  | Travel_Rarely     |  287 | Research &amp; Development |  1 | 4 | Life Sciences    | 1 | 2052 | ⋯ | 4 | 80 | 1 |  4 | 5 | 3 |  4 |  3 |  1 |  1 |\n| 29 | No  | Travel_Rarely     | 1378 | Research &amp; Development | 13 | 2 | Other            | 1 | 2053 | ⋯ | 1 | 80 | 1 | 10 | 2 | 3 |  4 |  3 |  0 |  3 |\n| 29 | No  | Travel_Rarely     |  468 | Research &amp; Development | 28 | 4 | Medical          | 1 | 2054 | ⋯ | 2 | 80 | 0 |  5 | 3 | 1 |  5 |  4 |  0 |  4 |\n| 50 | Yes | Travel_Rarely     |  410 | Sales                  | 28 | 3 | Marketing        | 1 | 2055 | ⋯ | 2 | 80 | 1 | 20 | 3 | 3 |  3 |  2 |  2 |  0 |\n| 39 | No  | Travel_Rarely     |  722 | Sales                  | 24 | 1 | Marketing        | 1 | 2056 | ⋯ | 1 | 80 | 1 | 21 | 2 | 2 | 20 |  9 |  9 |  6 |\n| 31 | No  | Non-Travel        |  325 | Research &amp; Development |  5 | 3 | Medical          | 1 | 2057 | ⋯ | 2 | 80 | 0 | 10 | 2 | 3 |  9 |  4 |  1 |  7 |\n| 26 | No  | Travel_Rarely     | 1167 | Sales                  |  5 | 3 | Other            | 1 | 2060 | ⋯ | 4 | 80 | 0 |  5 | 2 | 3 |  4 |  2 |  0 |  0 |\n| 36 | No  | Travel_Frequently |  884 | Research &amp; Development | 23 | 2 | Medical          | 1 | 2061 | ⋯ | 3 | 80 | 1 | 17 | 3 | 3 |  5 |  2 |  0 |  3 |\n| 39 | No  | Travel_Rarely     |  613 | Research &amp; Development |  6 | 1 | Medical          | 1 | 2062 | ⋯ | 1 | 80 | 1 |  9 | 5 | 3 |  7 |  7 |  1 |  7 |\n| 27 | No  | Travel_Rarely     |  155 | Research &amp; Development |  4 | 3 | Life Sciences    | 1 | 2064 | ⋯ | 2 | 80 | 1 |  6 | 0 | 3 |  6 |  2 |  0 |  3 |\n| 49 | No  | Travel_Frequently | 1023 | Sales                  |  2 | 3 | Medical          | 1 | 2065 | ⋯ | 4 | 80 | 0 | 17 | 3 | 2 |  9 |  6 |  0 |  8 |\n| 34 | No  | Travel_Rarely     |  628 | Research &amp; Development |  8 | 3 | Medical          | 1 | 2068 | ⋯ | 1 | 80 | 0 |  6 | 3 | 4 |  4 |  3 |  1 |  2 |\n\n",
            "text/latex": "A data.frame: 1470 × 35\n\\begin{tabular}{lllllllllllllllllllll}\n Age & Attrition & BusinessTravel & DailyRate & Department & DistanceFromHome & Education & EducationField & EmployeeCount & EmployeeNumber & ⋯ & RelationshipSatisfaction & StandardHours & StockOptionLevel & TotalWorkingYears & TrainingTimesLastYear & WorkLifeBalance & YearsAtCompany & YearsInCurrentRole & YearsSinceLastPromotion & YearsWithCurrManager\\\\\n <int> & <chr> & <chr> & <int> & <chr> & <int> & <int> & <chr> & <int> & <int> & ⋯ & <int> & <int> & <int> & <int> & <int> & <int> & <int> & <int> & <int> & <int>\\\\\n\\hline\n\t 41 & Yes & Travel\\_Rarely     & 1102 & Sales                  &  1 & 2 & Life Sciences & 1 &  1 & ⋯ & 1 & 80 & 0 &  8 & 0 & 1 &  6 &  4 & 0 &  5\\\\\n\t 49 & No  & Travel\\_Frequently &  279 & Research \\& Development &  8 & 1 & Life Sciences & 1 &  2 & ⋯ & 4 & 80 & 1 & 10 & 3 & 3 & 10 &  7 & 1 &  7\\\\\n\t 37 & Yes & Travel\\_Rarely     & 1373 & Research \\& Development &  2 & 2 & Other         & 1 &  4 & ⋯ & 2 & 80 & 0 &  7 & 3 & 3 &  0 &  0 & 0 &  0\\\\\n\t 33 & No  & Travel\\_Frequently & 1392 & Research \\& Development &  3 & 4 & Life Sciences & 1 &  5 & ⋯ & 3 & 80 & 0 &  8 & 3 & 3 &  8 &  7 & 3 &  0\\\\\n\t 27 & No  & Travel\\_Rarely     &  591 & Research \\& Development &  2 & 1 & Medical       & 1 &  7 & ⋯ & 4 & 80 & 1 &  6 & 3 & 3 &  2 &  2 & 2 &  2\\\\\n\t 32 & No  & Travel\\_Frequently & 1005 & Research \\& Development &  2 & 2 & Life Sciences & 1 &  8 & ⋯ & 3 & 80 & 0 &  8 & 2 & 2 &  7 &  7 & 3 &  6\\\\\n\t 59 & No  & Travel\\_Rarely     & 1324 & Research \\& Development &  3 & 3 & Medical       & 1 & 10 & ⋯ & 1 & 80 & 3 & 12 & 3 & 2 &  1 &  0 & 0 &  0\\\\\n\t 30 & No  & Travel\\_Rarely     & 1358 & Research \\& Development & 24 & 1 & Life Sciences & 1 & 11 & ⋯ & 2 & 80 & 1 &  1 & 2 & 3 &  1 &  0 & 0 &  0\\\\\n\t 38 & No  & Travel\\_Frequently &  216 & Research \\& Development & 23 & 3 & Life Sciences & 1 & 12 & ⋯ & 2 & 80 & 0 & 10 & 2 & 3 &  9 &  7 & 1 &  8\\\\\n\t 36 & No  & Travel\\_Rarely     & 1299 & Research \\& Development & 27 & 3 & Medical       & 1 & 13 & ⋯ & 2 & 80 & 2 & 17 & 3 & 2 &  7 &  7 & 7 &  7\\\\\n\t 35 & No  & Travel\\_Rarely     &  809 & Research \\& Development & 16 & 3 & Medical       & 1 & 14 & ⋯ & 3 & 80 & 1 &  6 & 5 & 3 &  5 &  4 & 0 &  3\\\\\n\t 29 & No  & Travel\\_Rarely     &  153 & Research \\& Development & 15 & 2 & Life Sciences & 1 & 15 & ⋯ & 4 & 80 & 0 & 10 & 3 & 3 &  9 &  5 & 0 &  8\\\\\n\t 31 & No  & Travel\\_Rarely     &  670 & Research \\& Development & 26 & 1 & Life Sciences & 1 & 16 & ⋯ & 4 & 80 & 1 &  5 & 1 & 2 &  5 &  2 & 4 &  3\\\\\n\t 34 & No  & Travel\\_Rarely     & 1346 & Research \\& Development & 19 & 2 & Medical       & 1 & 18 & ⋯ & 3 & 80 & 1 &  3 & 2 & 3 &  2 &  2 & 1 &  2\\\\\n\t 28 & Yes & Travel\\_Rarely     &  103 & Research \\& Development & 24 & 3 & Life Sciences & 1 & 19 & ⋯ & 2 & 80 & 0 &  6 & 4 & 3 &  4 &  2 & 0 &  3\\\\\n\t 29 & No  & Travel\\_Rarely     & 1389 & Research \\& Development & 21 & 4 & Life Sciences & 1 & 20 & ⋯ & 3 & 80 & 1 & 10 & 1 & 3 & 10 &  9 & 8 &  8\\\\\n\t 32 & No  & Travel\\_Rarely     &  334 & Research \\& Development &  5 & 2 & Life Sciences & 1 & 21 & ⋯ & 4 & 80 & 2 &  7 & 5 & 2 &  6 &  2 & 0 &  5\\\\\n\t 22 & No  & Non-Travel        & 1123 & Research \\& Development & 16 & 2 & Medical       & 1 & 22 & ⋯ & 2 & 80 & 2 &  1 & 2 & 2 &  1 &  0 & 0 &  0\\\\\n\t 53 & No  & Travel\\_Rarely     & 1219 & Sales                  &  2 & 4 & Life Sciences & 1 & 23 & ⋯ & 3 & 80 & 0 & 31 & 3 & 3 & 25 &  8 & 3 &  7\\\\\n\t 38 & No  & Travel\\_Rarely     &  371 & Research \\& Development &  2 & 3 & Life Sciences & 1 & 24 & ⋯ & 3 & 80 & 0 &  6 & 3 & 3 &  3 &  2 & 1 &  2\\\\\n\t 24 & No  & Non-Travel        &  673 & Research \\& Development & 11 & 2 & Other         & 1 & 26 & ⋯ & 4 & 80 & 1 &  5 & 5 & 2 &  4 &  2 & 1 &  3\\\\\n\t 36 & Yes & Travel\\_Rarely     & 1218 & Sales                  &  9 & 4 & Life Sciences & 1 & 27 & ⋯ & 2 & 80 & 0 & 10 & 4 & 3 &  5 &  3 & 0 &  3\\\\\n\t 34 & No  & Travel\\_Rarely     &  419 & Research \\& Development &  7 & 4 & Life Sciences & 1 & 28 & ⋯ & 3 & 80 & 0 & 13 & 4 & 3 & 12 &  6 & 2 & 11\\\\\n\t 21 & No  & Travel\\_Rarely     &  391 & Research \\& Development & 15 & 2 & Life Sciences & 1 & 30 & ⋯ & 4 & 80 & 0 &  0 & 6 & 3 &  0 &  0 & 0 &  0\\\\\n\t 34 & Yes & Travel\\_Rarely     &  699 & Research \\& Development &  6 & 1 & Medical       & 1 & 31 & ⋯ & 3 & 80 & 0 &  8 & 2 & 3 &  4 &  2 & 1 &  3\\\\\n\t 53 & No  & Travel\\_Rarely     & 1282 & Research \\& Development &  5 & 3 & Other         & 1 & 32 & ⋯ & 4 & 80 & 1 & 26 & 3 & 2 & 14 & 13 & 4 &  8\\\\\n\t 32 & Yes & Travel\\_Frequently & 1125 & Research \\& Development & 16 & 1 & Life Sciences & 1 & 33 & ⋯ & 2 & 80 & 0 & 10 & 5 & 3 & 10 &  2 & 6 &  7\\\\\n\t 42 & No  & Travel\\_Rarely     &  691 & Sales                  &  8 & 4 & Marketing     & 1 & 35 & ⋯ & 4 & 80 & 1 & 10 & 2 & 3 &  9 &  7 & 4 &  2\\\\\n\t 44 & No  & Travel\\_Rarely     &  477 & Research \\& Development &  7 & 4 & Medical       & 1 & 36 & ⋯ & 4 & 80 & 1 & 24 & 4 & 3 & 22 &  6 & 5 & 17\\\\\n\t 46 & No  & Travel\\_Rarely     &  705 & Sales                  &  2 & 4 & Marketing     & 1 & 38 & ⋯ & 4 & 80 & 0 & 22 & 2 & 2 &  2 &  2 & 2 &  1\\\\\n\t ⋮ & ⋮ & ⋮ & ⋮ & ⋮ & ⋮ & ⋮ & ⋮ & ⋮ & ⋮ & ⋱ & ⋮ & ⋮ & ⋮ & ⋮ & ⋮ & ⋮ & ⋮ & ⋮ & ⋮ & ⋮\\\\\n\t 36 & No  & Travel\\_Frequently &  688 & Research \\& Development &  4 & 2 & Life Sciences    & 1 & 2025 & ⋯ & 2 & 80 & 3 & 18 & 3 & 3 &  4 &  2 &  0 &  2\\\\\n\t 56 & No  & Non-Travel        &  667 & Research \\& Development &  1 & 4 & Life Sciences    & 1 & 2026 & ⋯ & 1 & 80 & 1 & 13 & 2 & 2 & 13 & 12 &  1 &  9\\\\\n\t 29 & Yes & Travel\\_Rarely     & 1092 & Research \\& Development &  1 & 4 & Medical          & 1 & 2027 & ⋯ & 2 & 80 & 3 &  4 & 3 & 4 &  2 &  2 &  2 &  2\\\\\n\t 42 & No  & Travel\\_Rarely     &  300 & Research \\& Development &  2 & 3 & Life Sciences    & 1 & 2031 & ⋯ & 1 & 80 & 0 & 24 & 2 & 2 & 22 &  6 &  4 & 14\\\\\n\t 56 & Yes & Travel\\_Rarely     &  310 & Research \\& Development &  7 & 2 & Technical Degree & 1 & 2032 & ⋯ & 4 & 80 & 1 & 14 & 4 & 1 & 10 &  9 &  9 &  8\\\\\n\t 41 & No  & Travel\\_Rarely     &  582 & Research \\& Development & 28 & 4 & Life Sciences    & 1 & 2034 & ⋯ & 3 & 80 & 1 & 21 & 3 & 3 & 20 &  7 &  0 & 10\\\\\n\t 34 & No  & Travel\\_Rarely     &  704 & Sales                  & 28 & 3 & Marketing        & 1 & 2035 & ⋯ & 4 & 80 & 2 &  8 & 2 & 3 &  8 &  7 &  1 &  7\\\\\n\t 36 & No  & Non-Travel        &  301 & Sales                  & 15 & 4 & Marketing        & 1 & 2036 & ⋯ & 1 & 80 & 1 & 15 & 4 & 2 & 15 & 12 & 11 & 11\\\\\n\t 41 & No  & Travel\\_Rarely     &  930 & Sales                  &  3 & 3 & Life Sciences    & 1 & 2037 & ⋯ & 3 & 80 & 1 & 14 & 5 & 3 &  5 &  4 &  0 &  4\\\\\n\t 32 & No  & Travel\\_Rarely     &  529 & Research \\& Development &  2 & 3 & Technical Degree & 1 & 2038 & ⋯ & 4 & 80 & 0 &  4 & 4 & 3 &  4 &  2 &  1 &  2\\\\\n\t 35 & No  & Travel\\_Rarely     & 1146 & Human Resources        & 26 & 4 & Life Sciences    & 1 & 2040 & ⋯ & 3 & 80 & 0 &  9 & 2 & 3 &  9 &  0 &  1 &  7\\\\\n\t 38 & No  & Travel\\_Rarely     &  345 & Sales                  & 10 & 2 & Life Sciences    & 1 & 2041 & ⋯ & 3 & 80 & 1 & 10 & 1 & 3 & 10 &  7 &  1 &  9\\\\\n\t 50 & Yes & Travel\\_Frequently &  878 & Sales                  &  1 & 4 & Life Sciences    & 1 & 2044 & ⋯ & 4 & 80 & 2 & 12 & 3 & 3 &  6 &  3 &  0 &  1\\\\\n\t 36 & No  & Travel\\_Rarely     & 1120 & Sales                  & 11 & 4 & Marketing        & 1 & 2045 & ⋯ & 1 & 80 & 1 &  8 & 2 & 2 &  6 &  3 &  0 &  0\\\\\n\t 45 & No  & Travel\\_Rarely     &  374 & Sales                  & 20 & 3 & Life Sciences    & 1 & 2046 & ⋯ & 3 & 80 & 0 &  8 & 3 & 3 &  5 &  3 &  0 &  1\\\\\n\t 40 & No  & Travel\\_Rarely     & 1322 & Research \\& Development &  2 & 4 & Life Sciences    & 1 & 2048 & ⋯ & 4 & 80 & 0 &  8 & 2 & 3 &  2 &  2 &  2 &  2\\\\\n\t 35 & No  & Travel\\_Frequently & 1199 & Research \\& Development & 18 & 4 & Life Sciences    & 1 & 2049 & ⋯ & 4 & 80 & 2 & 10 & 2 & 4 & 10 &  2 &  0 &  2\\\\\n\t 40 & No  & Travel\\_Rarely     & 1194 & Research \\& Development &  2 & 4 & Medical          & 1 & 2051 & ⋯ & 2 & 80 & 3 & 20 & 2 & 3 &  5 &  3 &  0 &  2\\\\\n\t 35 & No  & Travel\\_Rarely     &  287 & Research \\& Development &  1 & 4 & Life Sciences    & 1 & 2052 & ⋯ & 4 & 80 & 1 &  4 & 5 & 3 &  4 &  3 &  1 &  1\\\\\n\t 29 & No  & Travel\\_Rarely     & 1378 & Research \\& Development & 13 & 2 & Other            & 1 & 2053 & ⋯ & 1 & 80 & 1 & 10 & 2 & 3 &  4 &  3 &  0 &  3\\\\\n\t 29 & No  & Travel\\_Rarely     &  468 & Research \\& Development & 28 & 4 & Medical          & 1 & 2054 & ⋯ & 2 & 80 & 0 &  5 & 3 & 1 &  5 &  4 &  0 &  4\\\\\n\t 50 & Yes & Travel\\_Rarely     &  410 & Sales                  & 28 & 3 & Marketing        & 1 & 2055 & ⋯ & 2 & 80 & 1 & 20 & 3 & 3 &  3 &  2 &  2 &  0\\\\\n\t 39 & No  & Travel\\_Rarely     &  722 & Sales                  & 24 & 1 & Marketing        & 1 & 2056 & ⋯ & 1 & 80 & 1 & 21 & 2 & 2 & 20 &  9 &  9 &  6\\\\\n\t 31 & No  & Non-Travel        &  325 & Research \\& Development &  5 & 3 & Medical          & 1 & 2057 & ⋯ & 2 & 80 & 0 & 10 & 2 & 3 &  9 &  4 &  1 &  7\\\\\n\t 26 & No  & Travel\\_Rarely     & 1167 & Sales                  &  5 & 3 & Other            & 1 & 2060 & ⋯ & 4 & 80 & 0 &  5 & 2 & 3 &  4 &  2 &  0 &  0\\\\\n\t 36 & No  & Travel\\_Frequently &  884 & Research \\& Development & 23 & 2 & Medical          & 1 & 2061 & ⋯ & 3 & 80 & 1 & 17 & 3 & 3 &  5 &  2 &  0 &  3\\\\\n\t 39 & No  & Travel\\_Rarely     &  613 & Research \\& Development &  6 & 1 & Medical          & 1 & 2062 & ⋯ & 1 & 80 & 1 &  9 & 5 & 3 &  7 &  7 &  1 &  7\\\\\n\t 27 & No  & Travel\\_Rarely     &  155 & Research \\& Development &  4 & 3 & Life Sciences    & 1 & 2064 & ⋯ & 2 & 80 & 1 &  6 & 0 & 3 &  6 &  2 &  0 &  3\\\\\n\t 49 & No  & Travel\\_Frequently & 1023 & Sales                  &  2 & 3 & Medical          & 1 & 2065 & ⋯ & 4 & 80 & 0 & 17 & 3 & 2 &  9 &  6 &  0 &  8\\\\\n\t 34 & No  & Travel\\_Rarely     &  628 & Research \\& Development &  8 & 3 & Medical          & 1 & 2068 & ⋯ & 1 & 80 & 0 &  6 & 3 & 4 &  4 &  3 &  1 &  2\\\\\n\\end{tabular}\n"
          },
          "metadata": {}
        }
      ]
    },
    {
      "cell_type": "code",
      "source": [
        "str(DATOS_KAGGLE)\n"
      ],
      "metadata": {
        "colab": {
          "base_uri": "https://localhost:8080/"
        },
        "id": "_W2AROWN3fvA",
        "outputId": "40ba334b-1f54-49fc-ce27-92bb25ffba7a"
      },
      "execution_count": null,
      "outputs": [
        {
          "output_type": "stream",
          "name": "stdout",
          "text": [
            "'data.frame':\t1470 obs. of  35 variables:\n",
            " $ Age                     : int  41 49 37 33 27 32 59 30 38 36 ...\n",
            " $ Attrition               : chr  \"Yes\" \"No\" \"Yes\" \"No\" ...\n",
            " $ BusinessTravel          : chr  \"Travel_Rarely\" \"Travel_Frequently\" \"Travel_Rarely\" \"Travel_Frequently\" ...\n",
            " $ DailyRate               : int  1102 279 1373 1392 591 1005 1324 1358 216 1299 ...\n",
            " $ Department              : chr  \"Sales\" \"Research & Development\" \"Research & Development\" \"Research & Development\" ...\n",
            " $ DistanceFromHome        : int  1 8 2 3 2 2 3 24 23 27 ...\n",
            " $ Education               : int  2 1 2 4 1 2 3 1 3 3 ...\n",
            " $ EducationField          : chr  \"Life Sciences\" \"Life Sciences\" \"Other\" \"Life Sciences\" ...\n",
            " $ EmployeeCount           : int  1 1 1 1 1 1 1 1 1 1 ...\n",
            " $ EmployeeNumber          : int  1 2 4 5 7 8 10 11 12 13 ...\n",
            " $ EnvironmentSatisfaction : int  2 3 4 4 1 4 3 4 4 3 ...\n",
            " $ Gender                  : chr  \"Female\" \"Male\" \"Male\" \"Female\" ...\n",
            " $ HourlyRate              : int  94 61 92 56 40 79 81 67 44 94 ...\n",
            " $ JobInvolvement          : int  3 2 2 3 3 3 4 3 2 3 ...\n",
            " $ JobLevel                : int  2 2 1 1 1 1 1 1 3 2 ...\n",
            " $ JobRole                 : chr  \"Sales Executive\" \"Research Scientist\" \"Laboratory Technician\" \"Research Scientist\" ...\n",
            " $ JobSatisfaction         : int  4 2 3 3 2 4 1 3 3 3 ...\n",
            " $ MaritalStatus           : chr  \"Single\" \"Married\" \"Single\" \"Married\" ...\n",
            " $ MonthlyIncome           : int  5993 5130 2090 2909 3468 3068 2670 2693 9526 5237 ...\n",
            " $ MonthlyRate             : int  19479 24907 2396 23159 16632 11864 9964 13335 8787 16577 ...\n",
            " $ NumCompaniesWorked      : int  8 1 6 1 9 0 4 1 0 6 ...\n",
            " $ Over18                  : chr  \"Y\" \"Y\" \"Y\" \"Y\" ...\n",
            " $ OverTime                : chr  \"Yes\" \"No\" \"Yes\" \"Yes\" ...\n",
            " $ PercentSalaryHike       : int  11 23 15 11 12 13 20 22 21 13 ...\n",
            " $ PerformanceRating       : int  3 4 3 3 3 3 4 4 4 3 ...\n",
            " $ RelationshipSatisfaction: int  1 4 2 3 4 3 1 2 2 2 ...\n",
            " $ StandardHours           : int  80 80 80 80 80 80 80 80 80 80 ...\n",
            " $ StockOptionLevel        : int  0 1 0 0 1 0 3 1 0 2 ...\n",
            " $ TotalWorkingYears       : int  8 10 7 8 6 8 12 1 10 17 ...\n",
            " $ TrainingTimesLastYear   : int  0 3 3 3 3 2 3 2 2 3 ...\n",
            " $ WorkLifeBalance         : int  1 3 3 3 3 2 2 3 3 2 ...\n",
            " $ YearsAtCompany          : int  6 10 0 8 2 7 1 1 9 7 ...\n",
            " $ YearsInCurrentRole      : int  4 7 0 7 2 7 0 0 7 7 ...\n",
            " $ YearsSinceLastPromotion : int  0 1 0 3 2 3 0 0 1 7 ...\n",
            " $ YearsWithCurrManager    : int  5 7 0 0 2 6 0 0 8 7 ...\n"
          ]
        }
      ]
    },
    {
      "cell_type": "code",
      "source": [
        "summary(DATOS_KAGGLE)"
      ],
      "metadata": {
        "colab": {
          "base_uri": "https://localhost:8080/",
          "height": 1000
        },
        "id": "tY2JCEuV3gyG",
        "outputId": "d678cfad-9e8c-4fad-a482-a3a49528120c"
      },
      "execution_count": null,
      "outputs": [
        {
          "output_type": "display_data",
          "data": {
            "text/plain": [
              "      Age         Attrition         BusinessTravel       DailyRate     \n",
              " Min.   :18.00   Length:1470        Length:1470        Min.   : 102.0  \n",
              " 1st Qu.:30.00   Class :character   Class :character   1st Qu.: 465.0  \n",
              " Median :36.00   Mode  :character   Mode  :character   Median : 802.0  \n",
              " Mean   :36.92                                         Mean   : 802.5  \n",
              " 3rd Qu.:43.00                                         3rd Qu.:1157.0  \n",
              " Max.   :60.00                                         Max.   :1499.0  \n",
              "  Department        DistanceFromHome   Education     EducationField    \n",
              " Length:1470        Min.   : 1.000   Min.   :1.000   Length:1470       \n",
              " Class :character   1st Qu.: 2.000   1st Qu.:2.000   Class :character  \n",
              " Mode  :character   Median : 7.000   Median :3.000   Mode  :character  \n",
              "                    Mean   : 9.193   Mean   :2.913                     \n",
              "                    3rd Qu.:14.000   3rd Qu.:4.000                     \n",
              "                    Max.   :29.000   Max.   :5.000                     \n",
              " EmployeeCount EmployeeNumber   EnvironmentSatisfaction    Gender         \n",
              " Min.   :1     Min.   :   1.0   Min.   :1.000           Length:1470       \n",
              " 1st Qu.:1     1st Qu.: 491.2   1st Qu.:2.000           Class :character  \n",
              " Median :1     Median :1020.5   Median :3.000           Mode  :character  \n",
              " Mean   :1     Mean   :1024.9   Mean   :2.722                             \n",
              " 3rd Qu.:1     3rd Qu.:1555.8   3rd Qu.:4.000                             \n",
              " Max.   :1     Max.   :2068.0   Max.   :4.000                             \n",
              "   HourlyRate     JobInvolvement    JobLevel       JobRole         \n",
              " Min.   : 30.00   Min.   :1.00   Min.   :1.000   Length:1470       \n",
              " 1st Qu.: 48.00   1st Qu.:2.00   1st Qu.:1.000   Class :character  \n",
              " Median : 66.00   Median :3.00   Median :2.000   Mode  :character  \n",
              " Mean   : 65.89   Mean   :2.73   Mean   :2.064                     \n",
              " 3rd Qu.: 83.75   3rd Qu.:3.00   3rd Qu.:3.000                     \n",
              " Max.   :100.00   Max.   :4.00   Max.   :5.000                     \n",
              " JobSatisfaction MaritalStatus      MonthlyIncome    MonthlyRate   \n",
              " Min.   :1.000   Length:1470        Min.   : 1009   Min.   : 2094  \n",
              " 1st Qu.:2.000   Class :character   1st Qu.: 2911   1st Qu.: 8047  \n",
              " Median :3.000   Mode  :character   Median : 4919   Median :14236  \n",
              " Mean   :2.729                      Mean   : 6503   Mean   :14313  \n",
              " 3rd Qu.:4.000                      3rd Qu.: 8379   3rd Qu.:20462  \n",
              " Max.   :4.000                      Max.   :19999   Max.   :26999  \n",
              " NumCompaniesWorked    Over18            OverTime         PercentSalaryHike\n",
              " Min.   :0.000      Length:1470        Length:1470        Min.   :11.00    \n",
              " 1st Qu.:1.000      Class :character   Class :character   1st Qu.:12.00    \n",
              " Median :2.000      Mode  :character   Mode  :character   Median :14.00    \n",
              " Mean   :2.693                                            Mean   :15.21    \n",
              " 3rd Qu.:4.000                                            3rd Qu.:18.00    \n",
              " Max.   :9.000                                            Max.   :25.00    \n",
              " PerformanceRating RelationshipSatisfaction StandardHours StockOptionLevel\n",
              " Min.   :3.000     Min.   :1.000            Min.   :80    Min.   :0.0000  \n",
              " 1st Qu.:3.000     1st Qu.:2.000            1st Qu.:80    1st Qu.:0.0000  \n",
              " Median :3.000     Median :3.000            Median :80    Median :1.0000  \n",
              " Mean   :3.154     Mean   :2.712            Mean   :80    Mean   :0.7939  \n",
              " 3rd Qu.:3.000     3rd Qu.:4.000            3rd Qu.:80    3rd Qu.:1.0000  \n",
              " Max.   :4.000     Max.   :4.000            Max.   :80    Max.   :3.0000  \n",
              " TotalWorkingYears TrainingTimesLastYear WorkLifeBalance YearsAtCompany  \n",
              " Min.   : 0.00     Min.   :0.000         Min.   :1.000   Min.   : 0.000  \n",
              " 1st Qu.: 6.00     1st Qu.:2.000         1st Qu.:2.000   1st Qu.: 3.000  \n",
              " Median :10.00     Median :3.000         Median :3.000   Median : 5.000  \n",
              " Mean   :11.28     Mean   :2.799         Mean   :2.761   Mean   : 7.008  \n",
              " 3rd Qu.:15.00     3rd Qu.:3.000         3rd Qu.:3.000   3rd Qu.: 9.000  \n",
              " Max.   :40.00     Max.   :6.000         Max.   :4.000   Max.   :40.000  \n",
              " YearsInCurrentRole YearsSinceLastPromotion YearsWithCurrManager\n",
              " Min.   : 0.000     Min.   : 0.000          Min.   : 0.000      \n",
              " 1st Qu.: 2.000     1st Qu.: 0.000          1st Qu.: 2.000      \n",
              " Median : 3.000     Median : 1.000          Median : 3.000      \n",
              " Mean   : 4.229     Mean   : 2.188          Mean   : 4.123      \n",
              " 3rd Qu.: 7.000     3rd Qu.: 3.000          3rd Qu.: 7.000      \n",
              " Max.   :18.000     Max.   :15.000          Max.   :17.000      "
            ]
          },
          "metadata": {}
        }
      ]
    },
    {
      "cell_type": "markdown",
      "source": [
        "# PRACTICA FINAL PARTE 2\n",
        "\n",
        "1.   ¿Cuantas categorías hay en la variable \"Busines Travel\"? ¿Cuantos empleados no viajan?\n",
        "2.   ¿Cuantas categorías hay en la variable \"Marital Status\"? ¿Cuantos empleados están casados?\n",
        "3.   ¿Cual es el gasto total mensual de la empresa en salarios?"
      ],
      "metadata": {
        "id": "YWO7hoPu3lKG"
      }
    },
    {
      "cell_type": "code",
      "source": [
        "DATOS_KAGGLE$BusinessTravel <- as.factor(DATOS_KAGGLE$BusinessTravel)\n",
        "summary(DATOS_KAGGLE$BusinessTravel)"
      ],
      "metadata": {
        "id": "WAj13oGU35cX"
      },
      "execution_count": null,
      "outputs": []
    },
    {
      "cell_type": "code",
      "source": [
        "DATOS_KAGGLE$MaritalStatus <- as.factor(DATOS_KAGGLE$MaritalStatus)\n",
        "summary(DATOS_KAGGLE$MaritalStatus)"
      ],
      "metadata": {
        "id": "PQ9H4jNi350t"
      },
      "execution_count": null,
      "outputs": []
    },
    {
      "cell_type": "code",
      "source": [
        "sum(DATOS_KAGGLE$MonthlyIncome)"
      ],
      "metadata": {
        "colab": {
          "base_uri": "https://localhost:8080/",
          "height": 34
        },
        "id": "Qi-efD8C37ze",
        "outputId": "f21dc9e4-dfc3-4051-a18a-b359380523b7"
      },
      "execution_count": null,
      "outputs": [
        {
          "output_type": "display_data",
          "data": {
            "text/html": [
              "9559309"
            ],
            "text/markdown": "9559309",
            "text/latex": "9559309",
            "text/plain": [
              "[1] 9559309"
            ]
          },
          "metadata": {}
        }
      ]
    },
    {
      "cell_type": "markdown",
      "source": [
        "# PRACTICA FINAL PARTE 3: BONUS TRACK - MUY DIFICIL!!!\n",
        " Usando Bucles, evalua si existen diferencias entre hombres y mujeres respecto a \"Attrition\"\n",
        "\n",
        " Es decir, si el porcentaje de empleados \"quemados\"es igual en ambos colectivos"
      ],
      "metadata": {
        "id": "AAPhPL993951"
      }
    },
    {
      "cell_type": "code",
      "source": [
        "DATOS_KAGGLE$Attrition=as.factor(DATOS_KAGGLE$Attrition)\n",
        "\n",
        "Attrition_HOMBRES=0\n",
        "Numero_de_HOMBRES=0\n",
        "\n",
        "for (i in 1:nrow(DATOS_KAGGLE))\n",
        "{\n",
        "  if(DATOS_KAGGLE[i,12]==\"Male\")\n",
        "  {\n",
        "    Numero_de_HOMBRES = Numero_de_HOMBRES +1\n",
        "    if(DATOS_KAGGLE[i,2]==\"Yes\")\n",
        "    {\n",
        "      Attrition_HOMBRES = Attrition_HOMBRES + 1\n",
        "    }else{}\n",
        "  }else{}\n",
        "}\n",
        "Attrition_HOMBRES/Numero_de_HOMBRES"
      ],
      "metadata": {
        "colab": {
          "base_uri": "https://localhost:8080/",
          "height": 151
        },
        "id": "Cg2Jd4EH4EHp",
        "outputId": "0814a6c8-f328-437f-dd86-ab41acf122e8"
      },
      "execution_count": null,
      "outputs": [
        {
          "output_type": "error",
          "ename": "ERROR",
          "evalue": "ignored",
          "traceback": [
            "Error in is.factor(x): object 'DATOS_KAGGLE' not found\nTraceback:\n",
            "1. as.factor(DATOS_KAGGLE$Attrition)",
            "2. is.factor(x)"
          ]
        }
      ]
    },
    {
      "cell_type": "code",
      "source": [
        "\n",
        "Attrition_MUJERES=0\n",
        "Numero_de_MUJERES=0\n",
        "\n",
        "for (i in 1:nrow(DATOS_KAGGLE))\n",
        "{\n",
        "  if(DATOS_KAGGLE[i,12]==\"Female\")\n",
        "  {\n",
        "    Numero_de_MUJERES = Numero_de_MUJERES +1\n",
        "    if(DATOS_KAGGLE[i,2]==\"Yes\")\n",
        "    {\n",
        "      Attrition_MUJERES = Attrition_MUJERES + 1\n",
        "    }else{}\n",
        "  }else{}\n",
        "}\n",
        "Attrition_MUJERES/Numero_de_MUJERES"
      ],
      "metadata": {
        "colab": {
          "base_uri": "https://localhost:8080/",
          "height": 34
        },
        "id": "QcG-y9_74FOe",
        "outputId": "53bbc29c-8d9a-4684-f3c6-7f72f4be937c"
      },
      "execution_count": null,
      "outputs": [
        {
          "output_type": "display_data",
          "data": {
            "text/html": [
              "0.147959183673469"
            ],
            "text/markdown": "0.147959183673469",
            "text/latex": "0.147959183673469",
            "text/plain": [
              "[1] 0.1479592"
            ]
          },
          "metadata": {}
        }
      ]
    }
  ]
}